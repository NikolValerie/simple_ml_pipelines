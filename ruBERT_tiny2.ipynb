{
  "nbformat": 4,
  "nbformat_minor": 0,
  "metadata": {
    "colab": {
      "provenance": [],
      "machine_shape": "hm",
      "gpuType": "V28",
      "authorship_tag": "ABX9TyNCPdcKI+Qh8jj85Nsl3mgP",
      "include_colab_link": true
    },
    "kernelspec": {
      "name": "python3",
      "display_name": "Python 3"
    },
    "language_info": {
      "name": "python"
    },
    "accelerator": "TPU",
    "widgets": {
      "application/vnd.jupyter.widget-state+json": {
        "6c48431e571c45998e19cda5a434b8ae": {
          "model_module": "@jupyter-widgets/controls",
          "model_name": "HBoxModel",
          "model_module_version": "1.5.0",
          "state": {
            "_dom_classes": [],
            "_model_module": "@jupyter-widgets/controls",
            "_model_module_version": "1.5.0",
            "_model_name": "HBoxModel",
            "_view_count": null,
            "_view_module": "@jupyter-widgets/controls",
            "_view_module_version": "1.5.0",
            "_view_name": "HBoxView",
            "box_style": "",
            "children": [
              "IPY_MODEL_901e09b5f3264111a5e7c0eb6ebc7cf1",
              "IPY_MODEL_77fbbe06f241485bb6115ff2c2fcbd2e",
              "IPY_MODEL_c273a6f65c0b4e37b31bc8789d95c0ed"
            ],
            "layout": "IPY_MODEL_4355226ecdb541a5ba481c54c361faf5"
          }
        },
        "901e09b5f3264111a5e7c0eb6ebc7cf1": {
          "model_module": "@jupyter-widgets/controls",
          "model_name": "HTMLModel",
          "model_module_version": "1.5.0",
          "state": {
            "_dom_classes": [],
            "_model_module": "@jupyter-widgets/controls",
            "_model_module_version": "1.5.0",
            "_model_name": "HTMLModel",
            "_view_count": null,
            "_view_module": "@jupyter-widgets/controls",
            "_view_module_version": "1.5.0",
            "_view_name": "HTMLView",
            "description": "",
            "description_tooltip": null,
            "layout": "IPY_MODEL_63304d37be3946c6a9b8f0c7222c8a52",
            "placeholder": "​",
            "style": "IPY_MODEL_ef23e284ad0a44c48d38aff281e602a8",
            "value": "config.json: 100%"
          }
        },
        "77fbbe06f241485bb6115ff2c2fcbd2e": {
          "model_module": "@jupyter-widgets/controls",
          "model_name": "FloatProgressModel",
          "model_module_version": "1.5.0",
          "state": {
            "_dom_classes": [],
            "_model_module": "@jupyter-widgets/controls",
            "_model_module_version": "1.5.0",
            "_model_name": "FloatProgressModel",
            "_view_count": null,
            "_view_module": "@jupyter-widgets/controls",
            "_view_module_version": "1.5.0",
            "_view_name": "ProgressView",
            "bar_style": "success",
            "description": "",
            "description_tooltip": null,
            "layout": "IPY_MODEL_0f374d7d264b469bbdc3056513ae8a70",
            "max": 693,
            "min": 0,
            "orientation": "horizontal",
            "style": "IPY_MODEL_15c3298c2ab646e9baaa1978f895fcb3",
            "value": 693
          }
        },
        "c273a6f65c0b4e37b31bc8789d95c0ed": {
          "model_module": "@jupyter-widgets/controls",
          "model_name": "HTMLModel",
          "model_module_version": "1.5.0",
          "state": {
            "_dom_classes": [],
            "_model_module": "@jupyter-widgets/controls",
            "_model_module_version": "1.5.0",
            "_model_name": "HTMLModel",
            "_view_count": null,
            "_view_module": "@jupyter-widgets/controls",
            "_view_module_version": "1.5.0",
            "_view_name": "HTMLView",
            "description": "",
            "description_tooltip": null,
            "layout": "IPY_MODEL_1ce3fac81488498ab9e72ff208b27183",
            "placeholder": "​",
            "style": "IPY_MODEL_29c21ae8b2464bfd8514584a8d84ee34",
            "value": " 693/693 [00:00&lt;00:00, 61.0kB/s]"
          }
        },
        "4355226ecdb541a5ba481c54c361faf5": {
          "model_module": "@jupyter-widgets/base",
          "model_name": "LayoutModel",
          "model_module_version": "1.2.0",
          "state": {
            "_model_module": "@jupyter-widgets/base",
            "_model_module_version": "1.2.0",
            "_model_name": "LayoutModel",
            "_view_count": null,
            "_view_module": "@jupyter-widgets/base",
            "_view_module_version": "1.2.0",
            "_view_name": "LayoutView",
            "align_content": null,
            "align_items": null,
            "align_self": null,
            "border": null,
            "bottom": null,
            "display": null,
            "flex": null,
            "flex_flow": null,
            "grid_area": null,
            "grid_auto_columns": null,
            "grid_auto_flow": null,
            "grid_auto_rows": null,
            "grid_column": null,
            "grid_gap": null,
            "grid_row": null,
            "grid_template_areas": null,
            "grid_template_columns": null,
            "grid_template_rows": null,
            "height": null,
            "justify_content": null,
            "justify_items": null,
            "left": null,
            "margin": null,
            "max_height": null,
            "max_width": null,
            "min_height": null,
            "min_width": null,
            "object_fit": null,
            "object_position": null,
            "order": null,
            "overflow": null,
            "overflow_x": null,
            "overflow_y": null,
            "padding": null,
            "right": null,
            "top": null,
            "visibility": null,
            "width": null
          }
        },
        "63304d37be3946c6a9b8f0c7222c8a52": {
          "model_module": "@jupyter-widgets/base",
          "model_name": "LayoutModel",
          "model_module_version": "1.2.0",
          "state": {
            "_model_module": "@jupyter-widgets/base",
            "_model_module_version": "1.2.0",
            "_model_name": "LayoutModel",
            "_view_count": null,
            "_view_module": "@jupyter-widgets/base",
            "_view_module_version": "1.2.0",
            "_view_name": "LayoutView",
            "align_content": null,
            "align_items": null,
            "align_self": null,
            "border": null,
            "bottom": null,
            "display": null,
            "flex": null,
            "flex_flow": null,
            "grid_area": null,
            "grid_auto_columns": null,
            "grid_auto_flow": null,
            "grid_auto_rows": null,
            "grid_column": null,
            "grid_gap": null,
            "grid_row": null,
            "grid_template_areas": null,
            "grid_template_columns": null,
            "grid_template_rows": null,
            "height": null,
            "justify_content": null,
            "justify_items": null,
            "left": null,
            "margin": null,
            "max_height": null,
            "max_width": null,
            "min_height": null,
            "min_width": null,
            "object_fit": null,
            "object_position": null,
            "order": null,
            "overflow": null,
            "overflow_x": null,
            "overflow_y": null,
            "padding": null,
            "right": null,
            "top": null,
            "visibility": null,
            "width": null
          }
        },
        "ef23e284ad0a44c48d38aff281e602a8": {
          "model_module": "@jupyter-widgets/controls",
          "model_name": "DescriptionStyleModel",
          "model_module_version": "1.5.0",
          "state": {
            "_model_module": "@jupyter-widgets/controls",
            "_model_module_version": "1.5.0",
            "_model_name": "DescriptionStyleModel",
            "_view_count": null,
            "_view_module": "@jupyter-widgets/base",
            "_view_module_version": "1.2.0",
            "_view_name": "StyleView",
            "description_width": ""
          }
        },
        "0f374d7d264b469bbdc3056513ae8a70": {
          "model_module": "@jupyter-widgets/base",
          "model_name": "LayoutModel",
          "model_module_version": "1.2.0",
          "state": {
            "_model_module": "@jupyter-widgets/base",
            "_model_module_version": "1.2.0",
            "_model_name": "LayoutModel",
            "_view_count": null,
            "_view_module": "@jupyter-widgets/base",
            "_view_module_version": "1.2.0",
            "_view_name": "LayoutView",
            "align_content": null,
            "align_items": null,
            "align_self": null,
            "border": null,
            "bottom": null,
            "display": null,
            "flex": null,
            "flex_flow": null,
            "grid_area": null,
            "grid_auto_columns": null,
            "grid_auto_flow": null,
            "grid_auto_rows": null,
            "grid_column": null,
            "grid_gap": null,
            "grid_row": null,
            "grid_template_areas": null,
            "grid_template_columns": null,
            "grid_template_rows": null,
            "height": null,
            "justify_content": null,
            "justify_items": null,
            "left": null,
            "margin": null,
            "max_height": null,
            "max_width": null,
            "min_height": null,
            "min_width": null,
            "object_fit": null,
            "object_position": null,
            "order": null,
            "overflow": null,
            "overflow_x": null,
            "overflow_y": null,
            "padding": null,
            "right": null,
            "top": null,
            "visibility": null,
            "width": null
          }
        },
        "15c3298c2ab646e9baaa1978f895fcb3": {
          "model_module": "@jupyter-widgets/controls",
          "model_name": "ProgressStyleModel",
          "model_module_version": "1.5.0",
          "state": {
            "_model_module": "@jupyter-widgets/controls",
            "_model_module_version": "1.5.0",
            "_model_name": "ProgressStyleModel",
            "_view_count": null,
            "_view_module": "@jupyter-widgets/base",
            "_view_module_version": "1.2.0",
            "_view_name": "StyleView",
            "bar_color": null,
            "description_width": ""
          }
        },
        "1ce3fac81488498ab9e72ff208b27183": {
          "model_module": "@jupyter-widgets/base",
          "model_name": "LayoutModel",
          "model_module_version": "1.2.0",
          "state": {
            "_model_module": "@jupyter-widgets/base",
            "_model_module_version": "1.2.0",
            "_model_name": "LayoutModel",
            "_view_count": null,
            "_view_module": "@jupyter-widgets/base",
            "_view_module_version": "1.2.0",
            "_view_name": "LayoutView",
            "align_content": null,
            "align_items": null,
            "align_self": null,
            "border": null,
            "bottom": null,
            "display": null,
            "flex": null,
            "flex_flow": null,
            "grid_area": null,
            "grid_auto_columns": null,
            "grid_auto_flow": null,
            "grid_auto_rows": null,
            "grid_column": null,
            "grid_gap": null,
            "grid_row": null,
            "grid_template_areas": null,
            "grid_template_columns": null,
            "grid_template_rows": null,
            "height": null,
            "justify_content": null,
            "justify_items": null,
            "left": null,
            "margin": null,
            "max_height": null,
            "max_width": null,
            "min_height": null,
            "min_width": null,
            "object_fit": null,
            "object_position": null,
            "order": null,
            "overflow": null,
            "overflow_x": null,
            "overflow_y": null,
            "padding": null,
            "right": null,
            "top": null,
            "visibility": null,
            "width": null
          }
        },
        "29c21ae8b2464bfd8514584a8d84ee34": {
          "model_module": "@jupyter-widgets/controls",
          "model_name": "DescriptionStyleModel",
          "model_module_version": "1.5.0",
          "state": {
            "_model_module": "@jupyter-widgets/controls",
            "_model_module_version": "1.5.0",
            "_model_name": "DescriptionStyleModel",
            "_view_count": null,
            "_view_module": "@jupyter-widgets/base",
            "_view_module_version": "1.2.0",
            "_view_name": "StyleView",
            "description_width": ""
          }
        },
        "086f7b4b1931427fabf87bf4fbf4fa4c": {
          "model_module": "@jupyter-widgets/controls",
          "model_name": "HBoxModel",
          "model_module_version": "1.5.0",
          "state": {
            "_dom_classes": [],
            "_model_module": "@jupyter-widgets/controls",
            "_model_module_version": "1.5.0",
            "_model_name": "HBoxModel",
            "_view_count": null,
            "_view_module": "@jupyter-widgets/controls",
            "_view_module_version": "1.5.0",
            "_view_name": "HBoxView",
            "box_style": "",
            "children": [
              "IPY_MODEL_2f3c9285ff864db5aa6f0a75506cdc31",
              "IPY_MODEL_15982b420b094e9e9c7c2034f6fde182",
              "IPY_MODEL_ea648a85a32f4d15bd9e9e8d5a606ac3"
            ],
            "layout": "IPY_MODEL_6445f1700bfe4b3195187474c1ea5a76"
          }
        },
        "2f3c9285ff864db5aa6f0a75506cdc31": {
          "model_module": "@jupyter-widgets/controls",
          "model_name": "HTMLModel",
          "model_module_version": "1.5.0",
          "state": {
            "_dom_classes": [],
            "_model_module": "@jupyter-widgets/controls",
            "_model_module_version": "1.5.0",
            "_model_name": "HTMLModel",
            "_view_count": null,
            "_view_module": "@jupyter-widgets/controls",
            "_view_module_version": "1.5.0",
            "_view_name": "HTMLView",
            "description": "",
            "description_tooltip": null,
            "layout": "IPY_MODEL_27313c2bb386468d8512123acb65189f",
            "placeholder": "​",
            "style": "IPY_MODEL_08bd2021424341149d43c3c2a1de060f",
            "value": "model.safetensors: 100%"
          }
        },
        "15982b420b094e9e9c7c2034f6fde182": {
          "model_module": "@jupyter-widgets/controls",
          "model_name": "FloatProgressModel",
          "model_module_version": "1.5.0",
          "state": {
            "_dom_classes": [],
            "_model_module": "@jupyter-widgets/controls",
            "_model_module_version": "1.5.0",
            "_model_name": "FloatProgressModel",
            "_view_count": null,
            "_view_module": "@jupyter-widgets/controls",
            "_view_module_version": "1.5.0",
            "_view_name": "ProgressView",
            "bar_style": "success",
            "description": "",
            "description_tooltip": null,
            "layout": "IPY_MODEL_23ec581a3f614d9eb12797a403ebcb8b",
            "max": 117529600,
            "min": 0,
            "orientation": "horizontal",
            "style": "IPY_MODEL_4d3682df2441403ba82671861f579f8a",
            "value": 117529600
          }
        },
        "ea648a85a32f4d15bd9e9e8d5a606ac3": {
          "model_module": "@jupyter-widgets/controls",
          "model_name": "HTMLModel",
          "model_module_version": "1.5.0",
          "state": {
            "_dom_classes": [],
            "_model_module": "@jupyter-widgets/controls",
            "_model_module_version": "1.5.0",
            "_model_name": "HTMLModel",
            "_view_count": null,
            "_view_module": "@jupyter-widgets/controls",
            "_view_module_version": "1.5.0",
            "_view_name": "HTMLView",
            "description": "",
            "description_tooltip": null,
            "layout": "IPY_MODEL_7bd806de59944b3ab7c1b11d0e975f5d",
            "placeholder": "​",
            "style": "IPY_MODEL_c9bdcaf484584b1a9eebdd702a2c0e7d",
            "value": " 118M/118M [00:00&lt;00:00, 187MB/s]"
          }
        },
        "6445f1700bfe4b3195187474c1ea5a76": {
          "model_module": "@jupyter-widgets/base",
          "model_name": "LayoutModel",
          "model_module_version": "1.2.0",
          "state": {
            "_model_module": "@jupyter-widgets/base",
            "_model_module_version": "1.2.0",
            "_model_name": "LayoutModel",
            "_view_count": null,
            "_view_module": "@jupyter-widgets/base",
            "_view_module_version": "1.2.0",
            "_view_name": "LayoutView",
            "align_content": null,
            "align_items": null,
            "align_self": null,
            "border": null,
            "bottom": null,
            "display": null,
            "flex": null,
            "flex_flow": null,
            "grid_area": null,
            "grid_auto_columns": null,
            "grid_auto_flow": null,
            "grid_auto_rows": null,
            "grid_column": null,
            "grid_gap": null,
            "grid_row": null,
            "grid_template_areas": null,
            "grid_template_columns": null,
            "grid_template_rows": null,
            "height": null,
            "justify_content": null,
            "justify_items": null,
            "left": null,
            "margin": null,
            "max_height": null,
            "max_width": null,
            "min_height": null,
            "min_width": null,
            "object_fit": null,
            "object_position": null,
            "order": null,
            "overflow": null,
            "overflow_x": null,
            "overflow_y": null,
            "padding": null,
            "right": null,
            "top": null,
            "visibility": null,
            "width": null
          }
        },
        "27313c2bb386468d8512123acb65189f": {
          "model_module": "@jupyter-widgets/base",
          "model_name": "LayoutModel",
          "model_module_version": "1.2.0",
          "state": {
            "_model_module": "@jupyter-widgets/base",
            "_model_module_version": "1.2.0",
            "_model_name": "LayoutModel",
            "_view_count": null,
            "_view_module": "@jupyter-widgets/base",
            "_view_module_version": "1.2.0",
            "_view_name": "LayoutView",
            "align_content": null,
            "align_items": null,
            "align_self": null,
            "border": null,
            "bottom": null,
            "display": null,
            "flex": null,
            "flex_flow": null,
            "grid_area": null,
            "grid_auto_columns": null,
            "grid_auto_flow": null,
            "grid_auto_rows": null,
            "grid_column": null,
            "grid_gap": null,
            "grid_row": null,
            "grid_template_areas": null,
            "grid_template_columns": null,
            "grid_template_rows": null,
            "height": null,
            "justify_content": null,
            "justify_items": null,
            "left": null,
            "margin": null,
            "max_height": null,
            "max_width": null,
            "min_height": null,
            "min_width": null,
            "object_fit": null,
            "object_position": null,
            "order": null,
            "overflow": null,
            "overflow_x": null,
            "overflow_y": null,
            "padding": null,
            "right": null,
            "top": null,
            "visibility": null,
            "width": null
          }
        },
        "08bd2021424341149d43c3c2a1de060f": {
          "model_module": "@jupyter-widgets/controls",
          "model_name": "DescriptionStyleModel",
          "model_module_version": "1.5.0",
          "state": {
            "_model_module": "@jupyter-widgets/controls",
            "_model_module_version": "1.5.0",
            "_model_name": "DescriptionStyleModel",
            "_view_count": null,
            "_view_module": "@jupyter-widgets/base",
            "_view_module_version": "1.2.0",
            "_view_name": "StyleView",
            "description_width": ""
          }
        },
        "23ec581a3f614d9eb12797a403ebcb8b": {
          "model_module": "@jupyter-widgets/base",
          "model_name": "LayoutModel",
          "model_module_version": "1.2.0",
          "state": {
            "_model_module": "@jupyter-widgets/base",
            "_model_module_version": "1.2.0",
            "_model_name": "LayoutModel",
            "_view_count": null,
            "_view_module": "@jupyter-widgets/base",
            "_view_module_version": "1.2.0",
            "_view_name": "LayoutView",
            "align_content": null,
            "align_items": null,
            "align_self": null,
            "border": null,
            "bottom": null,
            "display": null,
            "flex": null,
            "flex_flow": null,
            "grid_area": null,
            "grid_auto_columns": null,
            "grid_auto_flow": null,
            "grid_auto_rows": null,
            "grid_column": null,
            "grid_gap": null,
            "grid_row": null,
            "grid_template_areas": null,
            "grid_template_columns": null,
            "grid_template_rows": null,
            "height": null,
            "justify_content": null,
            "justify_items": null,
            "left": null,
            "margin": null,
            "max_height": null,
            "max_width": null,
            "min_height": null,
            "min_width": null,
            "object_fit": null,
            "object_position": null,
            "order": null,
            "overflow": null,
            "overflow_x": null,
            "overflow_y": null,
            "padding": null,
            "right": null,
            "top": null,
            "visibility": null,
            "width": null
          }
        },
        "4d3682df2441403ba82671861f579f8a": {
          "model_module": "@jupyter-widgets/controls",
          "model_name": "ProgressStyleModel",
          "model_module_version": "1.5.0",
          "state": {
            "_model_module": "@jupyter-widgets/controls",
            "_model_module_version": "1.5.0",
            "_model_name": "ProgressStyleModel",
            "_view_count": null,
            "_view_module": "@jupyter-widgets/base",
            "_view_module_version": "1.2.0",
            "_view_name": "StyleView",
            "bar_color": null,
            "description_width": ""
          }
        },
        "7bd806de59944b3ab7c1b11d0e975f5d": {
          "model_module": "@jupyter-widgets/base",
          "model_name": "LayoutModel",
          "model_module_version": "1.2.0",
          "state": {
            "_model_module": "@jupyter-widgets/base",
            "_model_module_version": "1.2.0",
            "_model_name": "LayoutModel",
            "_view_count": null,
            "_view_module": "@jupyter-widgets/base",
            "_view_module_version": "1.2.0",
            "_view_name": "LayoutView",
            "align_content": null,
            "align_items": null,
            "align_self": null,
            "border": null,
            "bottom": null,
            "display": null,
            "flex": null,
            "flex_flow": null,
            "grid_area": null,
            "grid_auto_columns": null,
            "grid_auto_flow": null,
            "grid_auto_rows": null,
            "grid_column": null,
            "grid_gap": null,
            "grid_row": null,
            "grid_template_areas": null,
            "grid_template_columns": null,
            "grid_template_rows": null,
            "height": null,
            "justify_content": null,
            "justify_items": null,
            "left": null,
            "margin": null,
            "max_height": null,
            "max_width": null,
            "min_height": null,
            "min_width": null,
            "object_fit": null,
            "object_position": null,
            "order": null,
            "overflow": null,
            "overflow_x": null,
            "overflow_y": null,
            "padding": null,
            "right": null,
            "top": null,
            "visibility": null,
            "width": null
          }
        },
        "c9bdcaf484584b1a9eebdd702a2c0e7d": {
          "model_module": "@jupyter-widgets/controls",
          "model_name": "DescriptionStyleModel",
          "model_module_version": "1.5.0",
          "state": {
            "_model_module": "@jupyter-widgets/controls",
            "_model_module_version": "1.5.0",
            "_model_name": "DescriptionStyleModel",
            "_view_count": null,
            "_view_module": "@jupyter-widgets/base",
            "_view_module_version": "1.2.0",
            "_view_name": "StyleView",
            "description_width": ""
          }
        },
        "092d75fe0d64498d97fb312a56171da4": {
          "model_module": "@jupyter-widgets/controls",
          "model_name": "HBoxModel",
          "model_module_version": "1.5.0",
          "state": {
            "_dom_classes": [],
            "_model_module": "@jupyter-widgets/controls",
            "_model_module_version": "1.5.0",
            "_model_name": "HBoxModel",
            "_view_count": null,
            "_view_module": "@jupyter-widgets/controls",
            "_view_module_version": "1.5.0",
            "_view_name": "HBoxView",
            "box_style": "",
            "children": [
              "IPY_MODEL_79f49d870d7e4fc39d843edd6991f76c",
              "IPY_MODEL_22139a8aeec9476485f219e128ee97dd",
              "IPY_MODEL_ae862741b87541b28f5f56ec9a96a172"
            ],
            "layout": "IPY_MODEL_78eca58e338e41d99347cac21e67f2c1"
          }
        },
        "79f49d870d7e4fc39d843edd6991f76c": {
          "model_module": "@jupyter-widgets/controls",
          "model_name": "HTMLModel",
          "model_module_version": "1.5.0",
          "state": {
            "_dom_classes": [],
            "_model_module": "@jupyter-widgets/controls",
            "_model_module_version": "1.5.0",
            "_model_name": "HTMLModel",
            "_view_count": null,
            "_view_module": "@jupyter-widgets/controls",
            "_view_module_version": "1.5.0",
            "_view_name": "HTMLView",
            "description": "",
            "description_tooltip": null,
            "layout": "IPY_MODEL_dff4666d632943369aa736cb86cca1a4",
            "placeholder": "​",
            "style": "IPY_MODEL_31f5c004ad534bc788edca3c7ed4a37e",
            "value": "tokenizer_config.json: 100%"
          }
        },
        "22139a8aeec9476485f219e128ee97dd": {
          "model_module": "@jupyter-widgets/controls",
          "model_name": "FloatProgressModel",
          "model_module_version": "1.5.0",
          "state": {
            "_dom_classes": [],
            "_model_module": "@jupyter-widgets/controls",
            "_model_module_version": "1.5.0",
            "_model_name": "FloatProgressModel",
            "_view_count": null,
            "_view_module": "@jupyter-widgets/controls",
            "_view_module_version": "1.5.0",
            "_view_name": "ProgressView",
            "bar_style": "success",
            "description": "",
            "description_tooltip": null,
            "layout": "IPY_MODEL_439e93e9ad68471c88a676e41d553f83",
            "max": 401,
            "min": 0,
            "orientation": "horizontal",
            "style": "IPY_MODEL_cecf2f158e8549c9bccf08b6565d090f",
            "value": 401
          }
        },
        "ae862741b87541b28f5f56ec9a96a172": {
          "model_module": "@jupyter-widgets/controls",
          "model_name": "HTMLModel",
          "model_module_version": "1.5.0",
          "state": {
            "_dom_classes": [],
            "_model_module": "@jupyter-widgets/controls",
            "_model_module_version": "1.5.0",
            "_model_name": "HTMLModel",
            "_view_count": null,
            "_view_module": "@jupyter-widgets/controls",
            "_view_module_version": "1.5.0",
            "_view_name": "HTMLView",
            "description": "",
            "description_tooltip": null,
            "layout": "IPY_MODEL_cdd4dd1644954ada988a0be3a52d7e94",
            "placeholder": "​",
            "style": "IPY_MODEL_ce09de53920b44e3b43afcc9c33c3da7",
            "value": " 401/401 [00:00&lt;00:00, 40.2kB/s]"
          }
        },
        "78eca58e338e41d99347cac21e67f2c1": {
          "model_module": "@jupyter-widgets/base",
          "model_name": "LayoutModel",
          "model_module_version": "1.2.0",
          "state": {
            "_model_module": "@jupyter-widgets/base",
            "_model_module_version": "1.2.0",
            "_model_name": "LayoutModel",
            "_view_count": null,
            "_view_module": "@jupyter-widgets/base",
            "_view_module_version": "1.2.0",
            "_view_name": "LayoutView",
            "align_content": null,
            "align_items": null,
            "align_self": null,
            "border": null,
            "bottom": null,
            "display": null,
            "flex": null,
            "flex_flow": null,
            "grid_area": null,
            "grid_auto_columns": null,
            "grid_auto_flow": null,
            "grid_auto_rows": null,
            "grid_column": null,
            "grid_gap": null,
            "grid_row": null,
            "grid_template_areas": null,
            "grid_template_columns": null,
            "grid_template_rows": null,
            "height": null,
            "justify_content": null,
            "justify_items": null,
            "left": null,
            "margin": null,
            "max_height": null,
            "max_width": null,
            "min_height": null,
            "min_width": null,
            "object_fit": null,
            "object_position": null,
            "order": null,
            "overflow": null,
            "overflow_x": null,
            "overflow_y": null,
            "padding": null,
            "right": null,
            "top": null,
            "visibility": null,
            "width": null
          }
        },
        "dff4666d632943369aa736cb86cca1a4": {
          "model_module": "@jupyter-widgets/base",
          "model_name": "LayoutModel",
          "model_module_version": "1.2.0",
          "state": {
            "_model_module": "@jupyter-widgets/base",
            "_model_module_version": "1.2.0",
            "_model_name": "LayoutModel",
            "_view_count": null,
            "_view_module": "@jupyter-widgets/base",
            "_view_module_version": "1.2.0",
            "_view_name": "LayoutView",
            "align_content": null,
            "align_items": null,
            "align_self": null,
            "border": null,
            "bottom": null,
            "display": null,
            "flex": null,
            "flex_flow": null,
            "grid_area": null,
            "grid_auto_columns": null,
            "grid_auto_flow": null,
            "grid_auto_rows": null,
            "grid_column": null,
            "grid_gap": null,
            "grid_row": null,
            "grid_template_areas": null,
            "grid_template_columns": null,
            "grid_template_rows": null,
            "height": null,
            "justify_content": null,
            "justify_items": null,
            "left": null,
            "margin": null,
            "max_height": null,
            "max_width": null,
            "min_height": null,
            "min_width": null,
            "object_fit": null,
            "object_position": null,
            "order": null,
            "overflow": null,
            "overflow_x": null,
            "overflow_y": null,
            "padding": null,
            "right": null,
            "top": null,
            "visibility": null,
            "width": null
          }
        },
        "31f5c004ad534bc788edca3c7ed4a37e": {
          "model_module": "@jupyter-widgets/controls",
          "model_name": "DescriptionStyleModel",
          "model_module_version": "1.5.0",
          "state": {
            "_model_module": "@jupyter-widgets/controls",
            "_model_module_version": "1.5.0",
            "_model_name": "DescriptionStyleModel",
            "_view_count": null,
            "_view_module": "@jupyter-widgets/base",
            "_view_module_version": "1.2.0",
            "_view_name": "StyleView",
            "description_width": ""
          }
        },
        "439e93e9ad68471c88a676e41d553f83": {
          "model_module": "@jupyter-widgets/base",
          "model_name": "LayoutModel",
          "model_module_version": "1.2.0",
          "state": {
            "_model_module": "@jupyter-widgets/base",
            "_model_module_version": "1.2.0",
            "_model_name": "LayoutModel",
            "_view_count": null,
            "_view_module": "@jupyter-widgets/base",
            "_view_module_version": "1.2.0",
            "_view_name": "LayoutView",
            "align_content": null,
            "align_items": null,
            "align_self": null,
            "border": null,
            "bottom": null,
            "display": null,
            "flex": null,
            "flex_flow": null,
            "grid_area": null,
            "grid_auto_columns": null,
            "grid_auto_flow": null,
            "grid_auto_rows": null,
            "grid_column": null,
            "grid_gap": null,
            "grid_row": null,
            "grid_template_areas": null,
            "grid_template_columns": null,
            "grid_template_rows": null,
            "height": null,
            "justify_content": null,
            "justify_items": null,
            "left": null,
            "margin": null,
            "max_height": null,
            "max_width": null,
            "min_height": null,
            "min_width": null,
            "object_fit": null,
            "object_position": null,
            "order": null,
            "overflow": null,
            "overflow_x": null,
            "overflow_y": null,
            "padding": null,
            "right": null,
            "top": null,
            "visibility": null,
            "width": null
          }
        },
        "cecf2f158e8549c9bccf08b6565d090f": {
          "model_module": "@jupyter-widgets/controls",
          "model_name": "ProgressStyleModel",
          "model_module_version": "1.5.0",
          "state": {
            "_model_module": "@jupyter-widgets/controls",
            "_model_module_version": "1.5.0",
            "_model_name": "ProgressStyleModel",
            "_view_count": null,
            "_view_module": "@jupyter-widgets/base",
            "_view_module_version": "1.2.0",
            "_view_name": "StyleView",
            "bar_color": null,
            "description_width": ""
          }
        },
        "cdd4dd1644954ada988a0be3a52d7e94": {
          "model_module": "@jupyter-widgets/base",
          "model_name": "LayoutModel",
          "model_module_version": "1.2.0",
          "state": {
            "_model_module": "@jupyter-widgets/base",
            "_model_module_version": "1.2.0",
            "_model_name": "LayoutModel",
            "_view_count": null,
            "_view_module": "@jupyter-widgets/base",
            "_view_module_version": "1.2.0",
            "_view_name": "LayoutView",
            "align_content": null,
            "align_items": null,
            "align_self": null,
            "border": null,
            "bottom": null,
            "display": null,
            "flex": null,
            "flex_flow": null,
            "grid_area": null,
            "grid_auto_columns": null,
            "grid_auto_flow": null,
            "grid_auto_rows": null,
            "grid_column": null,
            "grid_gap": null,
            "grid_row": null,
            "grid_template_areas": null,
            "grid_template_columns": null,
            "grid_template_rows": null,
            "height": null,
            "justify_content": null,
            "justify_items": null,
            "left": null,
            "margin": null,
            "max_height": null,
            "max_width": null,
            "min_height": null,
            "min_width": null,
            "object_fit": null,
            "object_position": null,
            "order": null,
            "overflow": null,
            "overflow_x": null,
            "overflow_y": null,
            "padding": null,
            "right": null,
            "top": null,
            "visibility": null,
            "width": null
          }
        },
        "ce09de53920b44e3b43afcc9c33c3da7": {
          "model_module": "@jupyter-widgets/controls",
          "model_name": "DescriptionStyleModel",
          "model_module_version": "1.5.0",
          "state": {
            "_model_module": "@jupyter-widgets/controls",
            "_model_module_version": "1.5.0",
            "_model_name": "DescriptionStyleModel",
            "_view_count": null,
            "_view_module": "@jupyter-widgets/base",
            "_view_module_version": "1.2.0",
            "_view_name": "StyleView",
            "description_width": ""
          }
        },
        "f291a9d62ff8490086273d042637f195": {
          "model_module": "@jupyter-widgets/controls",
          "model_name": "HBoxModel",
          "model_module_version": "1.5.0",
          "state": {
            "_dom_classes": [],
            "_model_module": "@jupyter-widgets/controls",
            "_model_module_version": "1.5.0",
            "_model_name": "HBoxModel",
            "_view_count": null,
            "_view_module": "@jupyter-widgets/controls",
            "_view_module_version": "1.5.0",
            "_view_name": "HBoxView",
            "box_style": "",
            "children": [
              "IPY_MODEL_019fe1bfef584ba692a071b0cffc4b3d",
              "IPY_MODEL_8d759f7397674b2b9613ab40915c7e90",
              "IPY_MODEL_e925d0e413ae42e987fed609fb2d17d1"
            ],
            "layout": "IPY_MODEL_db798e3f7d4b4fa8bef9038746981c45"
          }
        },
        "019fe1bfef584ba692a071b0cffc4b3d": {
          "model_module": "@jupyter-widgets/controls",
          "model_name": "HTMLModel",
          "model_module_version": "1.5.0",
          "state": {
            "_dom_classes": [],
            "_model_module": "@jupyter-widgets/controls",
            "_model_module_version": "1.5.0",
            "_model_name": "HTMLModel",
            "_view_count": null,
            "_view_module": "@jupyter-widgets/controls",
            "_view_module_version": "1.5.0",
            "_view_name": "HTMLView",
            "description": "",
            "description_tooltip": null,
            "layout": "IPY_MODEL_dd933a5a925d4a76b1a2a7a89cb96eff",
            "placeholder": "​",
            "style": "IPY_MODEL_aba195c93c00459c857f470b3e9d90ae",
            "value": "vocab.txt: 100%"
          }
        },
        "8d759f7397674b2b9613ab40915c7e90": {
          "model_module": "@jupyter-widgets/controls",
          "model_name": "FloatProgressModel",
          "model_module_version": "1.5.0",
          "state": {
            "_dom_classes": [],
            "_model_module": "@jupyter-widgets/controls",
            "_model_module_version": "1.5.0",
            "_model_name": "FloatProgressModel",
            "_view_count": null,
            "_view_module": "@jupyter-widgets/controls",
            "_view_module_version": "1.5.0",
            "_view_name": "ProgressView",
            "bar_style": "success",
            "description": "",
            "description_tooltip": null,
            "layout": "IPY_MODEL_7e70b50aad0248088f6677b2c9610c11",
            "max": 1080667,
            "min": 0,
            "orientation": "horizontal",
            "style": "IPY_MODEL_0e076fb9954e4159bd77f1b7ee32bed8",
            "value": 1080667
          }
        },
        "e925d0e413ae42e987fed609fb2d17d1": {
          "model_module": "@jupyter-widgets/controls",
          "model_name": "HTMLModel",
          "model_module_version": "1.5.0",
          "state": {
            "_dom_classes": [],
            "_model_module": "@jupyter-widgets/controls",
            "_model_module_version": "1.5.0",
            "_model_name": "HTMLModel",
            "_view_count": null,
            "_view_module": "@jupyter-widgets/controls",
            "_view_module_version": "1.5.0",
            "_view_name": "HTMLView",
            "description": "",
            "description_tooltip": null,
            "layout": "IPY_MODEL_e30df2125c1d443d82007852374c47f9",
            "placeholder": "​",
            "style": "IPY_MODEL_79b491454f88431e9fd0b88351b9299b",
            "value": " 1.08M/1.08M [00:00&lt;00:00, 15.9MB/s]"
          }
        },
        "db798e3f7d4b4fa8bef9038746981c45": {
          "model_module": "@jupyter-widgets/base",
          "model_name": "LayoutModel",
          "model_module_version": "1.2.0",
          "state": {
            "_model_module": "@jupyter-widgets/base",
            "_model_module_version": "1.2.0",
            "_model_name": "LayoutModel",
            "_view_count": null,
            "_view_module": "@jupyter-widgets/base",
            "_view_module_version": "1.2.0",
            "_view_name": "LayoutView",
            "align_content": null,
            "align_items": null,
            "align_self": null,
            "border": null,
            "bottom": null,
            "display": null,
            "flex": null,
            "flex_flow": null,
            "grid_area": null,
            "grid_auto_columns": null,
            "grid_auto_flow": null,
            "grid_auto_rows": null,
            "grid_column": null,
            "grid_gap": null,
            "grid_row": null,
            "grid_template_areas": null,
            "grid_template_columns": null,
            "grid_template_rows": null,
            "height": null,
            "justify_content": null,
            "justify_items": null,
            "left": null,
            "margin": null,
            "max_height": null,
            "max_width": null,
            "min_height": null,
            "min_width": null,
            "object_fit": null,
            "object_position": null,
            "order": null,
            "overflow": null,
            "overflow_x": null,
            "overflow_y": null,
            "padding": null,
            "right": null,
            "top": null,
            "visibility": null,
            "width": null
          }
        },
        "dd933a5a925d4a76b1a2a7a89cb96eff": {
          "model_module": "@jupyter-widgets/base",
          "model_name": "LayoutModel",
          "model_module_version": "1.2.0",
          "state": {
            "_model_module": "@jupyter-widgets/base",
            "_model_module_version": "1.2.0",
            "_model_name": "LayoutModel",
            "_view_count": null,
            "_view_module": "@jupyter-widgets/base",
            "_view_module_version": "1.2.0",
            "_view_name": "LayoutView",
            "align_content": null,
            "align_items": null,
            "align_self": null,
            "border": null,
            "bottom": null,
            "display": null,
            "flex": null,
            "flex_flow": null,
            "grid_area": null,
            "grid_auto_columns": null,
            "grid_auto_flow": null,
            "grid_auto_rows": null,
            "grid_column": null,
            "grid_gap": null,
            "grid_row": null,
            "grid_template_areas": null,
            "grid_template_columns": null,
            "grid_template_rows": null,
            "height": null,
            "justify_content": null,
            "justify_items": null,
            "left": null,
            "margin": null,
            "max_height": null,
            "max_width": null,
            "min_height": null,
            "min_width": null,
            "object_fit": null,
            "object_position": null,
            "order": null,
            "overflow": null,
            "overflow_x": null,
            "overflow_y": null,
            "padding": null,
            "right": null,
            "top": null,
            "visibility": null,
            "width": null
          }
        },
        "aba195c93c00459c857f470b3e9d90ae": {
          "model_module": "@jupyter-widgets/controls",
          "model_name": "DescriptionStyleModel",
          "model_module_version": "1.5.0",
          "state": {
            "_model_module": "@jupyter-widgets/controls",
            "_model_module_version": "1.5.0",
            "_model_name": "DescriptionStyleModel",
            "_view_count": null,
            "_view_module": "@jupyter-widgets/base",
            "_view_module_version": "1.2.0",
            "_view_name": "StyleView",
            "description_width": ""
          }
        },
        "7e70b50aad0248088f6677b2c9610c11": {
          "model_module": "@jupyter-widgets/base",
          "model_name": "LayoutModel",
          "model_module_version": "1.2.0",
          "state": {
            "_model_module": "@jupyter-widgets/base",
            "_model_module_version": "1.2.0",
            "_model_name": "LayoutModel",
            "_view_count": null,
            "_view_module": "@jupyter-widgets/base",
            "_view_module_version": "1.2.0",
            "_view_name": "LayoutView",
            "align_content": null,
            "align_items": null,
            "align_self": null,
            "border": null,
            "bottom": null,
            "display": null,
            "flex": null,
            "flex_flow": null,
            "grid_area": null,
            "grid_auto_columns": null,
            "grid_auto_flow": null,
            "grid_auto_rows": null,
            "grid_column": null,
            "grid_gap": null,
            "grid_row": null,
            "grid_template_areas": null,
            "grid_template_columns": null,
            "grid_template_rows": null,
            "height": null,
            "justify_content": null,
            "justify_items": null,
            "left": null,
            "margin": null,
            "max_height": null,
            "max_width": null,
            "min_height": null,
            "min_width": null,
            "object_fit": null,
            "object_position": null,
            "order": null,
            "overflow": null,
            "overflow_x": null,
            "overflow_y": null,
            "padding": null,
            "right": null,
            "top": null,
            "visibility": null,
            "width": null
          }
        },
        "0e076fb9954e4159bd77f1b7ee32bed8": {
          "model_module": "@jupyter-widgets/controls",
          "model_name": "ProgressStyleModel",
          "model_module_version": "1.5.0",
          "state": {
            "_model_module": "@jupyter-widgets/controls",
            "_model_module_version": "1.5.0",
            "_model_name": "ProgressStyleModel",
            "_view_count": null,
            "_view_module": "@jupyter-widgets/base",
            "_view_module_version": "1.2.0",
            "_view_name": "StyleView",
            "bar_color": null,
            "description_width": ""
          }
        },
        "e30df2125c1d443d82007852374c47f9": {
          "model_module": "@jupyter-widgets/base",
          "model_name": "LayoutModel",
          "model_module_version": "1.2.0",
          "state": {
            "_model_module": "@jupyter-widgets/base",
            "_model_module_version": "1.2.0",
            "_model_name": "LayoutModel",
            "_view_count": null,
            "_view_module": "@jupyter-widgets/base",
            "_view_module_version": "1.2.0",
            "_view_name": "LayoutView",
            "align_content": null,
            "align_items": null,
            "align_self": null,
            "border": null,
            "bottom": null,
            "display": null,
            "flex": null,
            "flex_flow": null,
            "grid_area": null,
            "grid_auto_columns": null,
            "grid_auto_flow": null,
            "grid_auto_rows": null,
            "grid_column": null,
            "grid_gap": null,
            "grid_row": null,
            "grid_template_areas": null,
            "grid_template_columns": null,
            "grid_template_rows": null,
            "height": null,
            "justify_content": null,
            "justify_items": null,
            "left": null,
            "margin": null,
            "max_height": null,
            "max_width": null,
            "min_height": null,
            "min_width": null,
            "object_fit": null,
            "object_position": null,
            "order": null,
            "overflow": null,
            "overflow_x": null,
            "overflow_y": null,
            "padding": null,
            "right": null,
            "top": null,
            "visibility": null,
            "width": null
          }
        },
        "79b491454f88431e9fd0b88351b9299b": {
          "model_module": "@jupyter-widgets/controls",
          "model_name": "DescriptionStyleModel",
          "model_module_version": "1.5.0",
          "state": {
            "_model_module": "@jupyter-widgets/controls",
            "_model_module_version": "1.5.0",
            "_model_name": "DescriptionStyleModel",
            "_view_count": null,
            "_view_module": "@jupyter-widgets/base",
            "_view_module_version": "1.2.0",
            "_view_name": "StyleView",
            "description_width": ""
          }
        },
        "19a92bd89028451695942a466c3d96d1": {
          "model_module": "@jupyter-widgets/controls",
          "model_name": "HBoxModel",
          "model_module_version": "1.5.0",
          "state": {
            "_dom_classes": [],
            "_model_module": "@jupyter-widgets/controls",
            "_model_module_version": "1.5.0",
            "_model_name": "HBoxModel",
            "_view_count": null,
            "_view_module": "@jupyter-widgets/controls",
            "_view_module_version": "1.5.0",
            "_view_name": "HBoxView",
            "box_style": "",
            "children": [
              "IPY_MODEL_1420b0343a4b475b903f65f8689a0ab4",
              "IPY_MODEL_5cc162241fe742e6a21a48391172ac0e",
              "IPY_MODEL_20be4c973f2c43f987b59bcaa5a13d57"
            ],
            "layout": "IPY_MODEL_b91ac8db37504416aeea54874c4b9e79"
          }
        },
        "1420b0343a4b475b903f65f8689a0ab4": {
          "model_module": "@jupyter-widgets/controls",
          "model_name": "HTMLModel",
          "model_module_version": "1.5.0",
          "state": {
            "_dom_classes": [],
            "_model_module": "@jupyter-widgets/controls",
            "_model_module_version": "1.5.0",
            "_model_name": "HTMLModel",
            "_view_count": null,
            "_view_module": "@jupyter-widgets/controls",
            "_view_module_version": "1.5.0",
            "_view_name": "HTMLView",
            "description": "",
            "description_tooltip": null,
            "layout": "IPY_MODEL_c143332541e74792858139b089038c09",
            "placeholder": "​",
            "style": "IPY_MODEL_1380e5f3815844be8e36f61b1d6d9f8b",
            "value": "tokenizer.json: 100%"
          }
        },
        "5cc162241fe742e6a21a48391172ac0e": {
          "model_module": "@jupyter-widgets/controls",
          "model_name": "FloatProgressModel",
          "model_module_version": "1.5.0",
          "state": {
            "_dom_classes": [],
            "_model_module": "@jupyter-widgets/controls",
            "_model_module_version": "1.5.0",
            "_model_name": "FloatProgressModel",
            "_view_count": null,
            "_view_module": "@jupyter-widgets/controls",
            "_view_module_version": "1.5.0",
            "_view_name": "ProgressView",
            "bar_style": "success",
            "description": "",
            "description_tooltip": null,
            "layout": "IPY_MODEL_0ac659e16a1848a8a2e0394d3eb147f1",
            "max": 1741842,
            "min": 0,
            "orientation": "horizontal",
            "style": "IPY_MODEL_20046153189f4d72addeaf14c8d95470",
            "value": 1741842
          }
        },
        "20be4c973f2c43f987b59bcaa5a13d57": {
          "model_module": "@jupyter-widgets/controls",
          "model_name": "HTMLModel",
          "model_module_version": "1.5.0",
          "state": {
            "_dom_classes": [],
            "_model_module": "@jupyter-widgets/controls",
            "_model_module_version": "1.5.0",
            "_model_name": "HTMLModel",
            "_view_count": null,
            "_view_module": "@jupyter-widgets/controls",
            "_view_module_version": "1.5.0",
            "_view_name": "HTMLView",
            "description": "",
            "description_tooltip": null,
            "layout": "IPY_MODEL_0d5fb8454b4c4c0f81f4be8348f291ec",
            "placeholder": "​",
            "style": "IPY_MODEL_d8ba75f3e91743ffb990987db9280416",
            "value": " 1.74M/1.74M [00:00&lt;00:00, 34.9MB/s]"
          }
        },
        "b91ac8db37504416aeea54874c4b9e79": {
          "model_module": "@jupyter-widgets/base",
          "model_name": "LayoutModel",
          "model_module_version": "1.2.0",
          "state": {
            "_model_module": "@jupyter-widgets/base",
            "_model_module_version": "1.2.0",
            "_model_name": "LayoutModel",
            "_view_count": null,
            "_view_module": "@jupyter-widgets/base",
            "_view_module_version": "1.2.0",
            "_view_name": "LayoutView",
            "align_content": null,
            "align_items": null,
            "align_self": null,
            "border": null,
            "bottom": null,
            "display": null,
            "flex": null,
            "flex_flow": null,
            "grid_area": null,
            "grid_auto_columns": null,
            "grid_auto_flow": null,
            "grid_auto_rows": null,
            "grid_column": null,
            "grid_gap": null,
            "grid_row": null,
            "grid_template_areas": null,
            "grid_template_columns": null,
            "grid_template_rows": null,
            "height": null,
            "justify_content": null,
            "justify_items": null,
            "left": null,
            "margin": null,
            "max_height": null,
            "max_width": null,
            "min_height": null,
            "min_width": null,
            "object_fit": null,
            "object_position": null,
            "order": null,
            "overflow": null,
            "overflow_x": null,
            "overflow_y": null,
            "padding": null,
            "right": null,
            "top": null,
            "visibility": null,
            "width": null
          }
        },
        "c143332541e74792858139b089038c09": {
          "model_module": "@jupyter-widgets/base",
          "model_name": "LayoutModel",
          "model_module_version": "1.2.0",
          "state": {
            "_model_module": "@jupyter-widgets/base",
            "_model_module_version": "1.2.0",
            "_model_name": "LayoutModel",
            "_view_count": null,
            "_view_module": "@jupyter-widgets/base",
            "_view_module_version": "1.2.0",
            "_view_name": "LayoutView",
            "align_content": null,
            "align_items": null,
            "align_self": null,
            "border": null,
            "bottom": null,
            "display": null,
            "flex": null,
            "flex_flow": null,
            "grid_area": null,
            "grid_auto_columns": null,
            "grid_auto_flow": null,
            "grid_auto_rows": null,
            "grid_column": null,
            "grid_gap": null,
            "grid_row": null,
            "grid_template_areas": null,
            "grid_template_columns": null,
            "grid_template_rows": null,
            "height": null,
            "justify_content": null,
            "justify_items": null,
            "left": null,
            "margin": null,
            "max_height": null,
            "max_width": null,
            "min_height": null,
            "min_width": null,
            "object_fit": null,
            "object_position": null,
            "order": null,
            "overflow": null,
            "overflow_x": null,
            "overflow_y": null,
            "padding": null,
            "right": null,
            "top": null,
            "visibility": null,
            "width": null
          }
        },
        "1380e5f3815844be8e36f61b1d6d9f8b": {
          "model_module": "@jupyter-widgets/controls",
          "model_name": "DescriptionStyleModel",
          "model_module_version": "1.5.0",
          "state": {
            "_model_module": "@jupyter-widgets/controls",
            "_model_module_version": "1.5.0",
            "_model_name": "DescriptionStyleModel",
            "_view_count": null,
            "_view_module": "@jupyter-widgets/base",
            "_view_module_version": "1.2.0",
            "_view_name": "StyleView",
            "description_width": ""
          }
        },
        "0ac659e16a1848a8a2e0394d3eb147f1": {
          "model_module": "@jupyter-widgets/base",
          "model_name": "LayoutModel",
          "model_module_version": "1.2.0",
          "state": {
            "_model_module": "@jupyter-widgets/base",
            "_model_module_version": "1.2.0",
            "_model_name": "LayoutModel",
            "_view_count": null,
            "_view_module": "@jupyter-widgets/base",
            "_view_module_version": "1.2.0",
            "_view_name": "LayoutView",
            "align_content": null,
            "align_items": null,
            "align_self": null,
            "border": null,
            "bottom": null,
            "display": null,
            "flex": null,
            "flex_flow": null,
            "grid_area": null,
            "grid_auto_columns": null,
            "grid_auto_flow": null,
            "grid_auto_rows": null,
            "grid_column": null,
            "grid_gap": null,
            "grid_row": null,
            "grid_template_areas": null,
            "grid_template_columns": null,
            "grid_template_rows": null,
            "height": null,
            "justify_content": null,
            "justify_items": null,
            "left": null,
            "margin": null,
            "max_height": null,
            "max_width": null,
            "min_height": null,
            "min_width": null,
            "object_fit": null,
            "object_position": null,
            "order": null,
            "overflow": null,
            "overflow_x": null,
            "overflow_y": null,
            "padding": null,
            "right": null,
            "top": null,
            "visibility": null,
            "width": null
          }
        },
        "20046153189f4d72addeaf14c8d95470": {
          "model_module": "@jupyter-widgets/controls",
          "model_name": "ProgressStyleModel",
          "model_module_version": "1.5.0",
          "state": {
            "_model_module": "@jupyter-widgets/controls",
            "_model_module_version": "1.5.0",
            "_model_name": "ProgressStyleModel",
            "_view_count": null,
            "_view_module": "@jupyter-widgets/base",
            "_view_module_version": "1.2.0",
            "_view_name": "StyleView",
            "bar_color": null,
            "description_width": ""
          }
        },
        "0d5fb8454b4c4c0f81f4be8348f291ec": {
          "model_module": "@jupyter-widgets/base",
          "model_name": "LayoutModel",
          "model_module_version": "1.2.0",
          "state": {
            "_model_module": "@jupyter-widgets/base",
            "_model_module_version": "1.2.0",
            "_model_name": "LayoutModel",
            "_view_count": null,
            "_view_module": "@jupyter-widgets/base",
            "_view_module_version": "1.2.0",
            "_view_name": "LayoutView",
            "align_content": null,
            "align_items": null,
            "align_self": null,
            "border": null,
            "bottom": null,
            "display": null,
            "flex": null,
            "flex_flow": null,
            "grid_area": null,
            "grid_auto_columns": null,
            "grid_auto_flow": null,
            "grid_auto_rows": null,
            "grid_column": null,
            "grid_gap": null,
            "grid_row": null,
            "grid_template_areas": null,
            "grid_template_columns": null,
            "grid_template_rows": null,
            "height": null,
            "justify_content": null,
            "justify_items": null,
            "left": null,
            "margin": null,
            "max_height": null,
            "max_width": null,
            "min_height": null,
            "min_width": null,
            "object_fit": null,
            "object_position": null,
            "order": null,
            "overflow": null,
            "overflow_x": null,
            "overflow_y": null,
            "padding": null,
            "right": null,
            "top": null,
            "visibility": null,
            "width": null
          }
        },
        "d8ba75f3e91743ffb990987db9280416": {
          "model_module": "@jupyter-widgets/controls",
          "model_name": "DescriptionStyleModel",
          "model_module_version": "1.5.0",
          "state": {
            "_model_module": "@jupyter-widgets/controls",
            "_model_module_version": "1.5.0",
            "_model_name": "DescriptionStyleModel",
            "_view_count": null,
            "_view_module": "@jupyter-widgets/base",
            "_view_module_version": "1.2.0",
            "_view_name": "StyleView",
            "description_width": ""
          }
        },
        "1560952a84ac432592e4204db36aab7b": {
          "model_module": "@jupyter-widgets/controls",
          "model_name": "HBoxModel",
          "model_module_version": "1.5.0",
          "state": {
            "_dom_classes": [],
            "_model_module": "@jupyter-widgets/controls",
            "_model_module_version": "1.5.0",
            "_model_name": "HBoxModel",
            "_view_count": null,
            "_view_module": "@jupyter-widgets/controls",
            "_view_module_version": "1.5.0",
            "_view_name": "HBoxView",
            "box_style": "",
            "children": [
              "IPY_MODEL_78d3f05f1f57426087fdd8d96aec25a1",
              "IPY_MODEL_d11593886d9b4068945b7d26f9de27a4",
              "IPY_MODEL_b53e9adb5184426a96ce136bfe62b072"
            ],
            "layout": "IPY_MODEL_4e1f4849090d40b79e0f40aa6446d4f2"
          }
        },
        "78d3f05f1f57426087fdd8d96aec25a1": {
          "model_module": "@jupyter-widgets/controls",
          "model_name": "HTMLModel",
          "model_module_version": "1.5.0",
          "state": {
            "_dom_classes": [],
            "_model_module": "@jupyter-widgets/controls",
            "_model_module_version": "1.5.0",
            "_model_name": "HTMLModel",
            "_view_count": null,
            "_view_module": "@jupyter-widgets/controls",
            "_view_module_version": "1.5.0",
            "_view_name": "HTMLView",
            "description": "",
            "description_tooltip": null,
            "layout": "IPY_MODEL_4be12865c37d422482f4044ab6432437",
            "placeholder": "​",
            "style": "IPY_MODEL_57a7136a5e534def96ec9c488712d4c8",
            "value": "special_tokens_map.json: 100%"
          }
        },
        "d11593886d9b4068945b7d26f9de27a4": {
          "model_module": "@jupyter-widgets/controls",
          "model_name": "FloatProgressModel",
          "model_module_version": "1.5.0",
          "state": {
            "_dom_classes": [],
            "_model_module": "@jupyter-widgets/controls",
            "_model_module_version": "1.5.0",
            "_model_name": "FloatProgressModel",
            "_view_count": null,
            "_view_module": "@jupyter-widgets/controls",
            "_view_module_version": "1.5.0",
            "_view_name": "ProgressView",
            "bar_style": "success",
            "description": "",
            "description_tooltip": null,
            "layout": "IPY_MODEL_20dbfec73c64447ab1c37f6f65255530",
            "max": 112,
            "min": 0,
            "orientation": "horizontal",
            "style": "IPY_MODEL_8f83b9888596414e86e12d53bbf24d81",
            "value": 112
          }
        },
        "b53e9adb5184426a96ce136bfe62b072": {
          "model_module": "@jupyter-widgets/controls",
          "model_name": "HTMLModel",
          "model_module_version": "1.5.0",
          "state": {
            "_dom_classes": [],
            "_model_module": "@jupyter-widgets/controls",
            "_model_module_version": "1.5.0",
            "_model_name": "HTMLModel",
            "_view_count": null,
            "_view_module": "@jupyter-widgets/controls",
            "_view_module_version": "1.5.0",
            "_view_name": "HTMLView",
            "description": "",
            "description_tooltip": null,
            "layout": "IPY_MODEL_83e68de468c54e6c8e8bab9debbae383",
            "placeholder": "​",
            "style": "IPY_MODEL_27173a6c47f3419989de944bf920dcb8",
            "value": " 112/112 [00:00&lt;00:00, 12.3kB/s]"
          }
        },
        "4e1f4849090d40b79e0f40aa6446d4f2": {
          "model_module": "@jupyter-widgets/base",
          "model_name": "LayoutModel",
          "model_module_version": "1.2.0",
          "state": {
            "_model_module": "@jupyter-widgets/base",
            "_model_module_version": "1.2.0",
            "_model_name": "LayoutModel",
            "_view_count": null,
            "_view_module": "@jupyter-widgets/base",
            "_view_module_version": "1.2.0",
            "_view_name": "LayoutView",
            "align_content": null,
            "align_items": null,
            "align_self": null,
            "border": null,
            "bottom": null,
            "display": null,
            "flex": null,
            "flex_flow": null,
            "grid_area": null,
            "grid_auto_columns": null,
            "grid_auto_flow": null,
            "grid_auto_rows": null,
            "grid_column": null,
            "grid_gap": null,
            "grid_row": null,
            "grid_template_areas": null,
            "grid_template_columns": null,
            "grid_template_rows": null,
            "height": null,
            "justify_content": null,
            "justify_items": null,
            "left": null,
            "margin": null,
            "max_height": null,
            "max_width": null,
            "min_height": null,
            "min_width": null,
            "object_fit": null,
            "object_position": null,
            "order": null,
            "overflow": null,
            "overflow_x": null,
            "overflow_y": null,
            "padding": null,
            "right": null,
            "top": null,
            "visibility": null,
            "width": null
          }
        },
        "4be12865c37d422482f4044ab6432437": {
          "model_module": "@jupyter-widgets/base",
          "model_name": "LayoutModel",
          "model_module_version": "1.2.0",
          "state": {
            "_model_module": "@jupyter-widgets/base",
            "_model_module_version": "1.2.0",
            "_model_name": "LayoutModel",
            "_view_count": null,
            "_view_module": "@jupyter-widgets/base",
            "_view_module_version": "1.2.0",
            "_view_name": "LayoutView",
            "align_content": null,
            "align_items": null,
            "align_self": null,
            "border": null,
            "bottom": null,
            "display": null,
            "flex": null,
            "flex_flow": null,
            "grid_area": null,
            "grid_auto_columns": null,
            "grid_auto_flow": null,
            "grid_auto_rows": null,
            "grid_column": null,
            "grid_gap": null,
            "grid_row": null,
            "grid_template_areas": null,
            "grid_template_columns": null,
            "grid_template_rows": null,
            "height": null,
            "justify_content": null,
            "justify_items": null,
            "left": null,
            "margin": null,
            "max_height": null,
            "max_width": null,
            "min_height": null,
            "min_width": null,
            "object_fit": null,
            "object_position": null,
            "order": null,
            "overflow": null,
            "overflow_x": null,
            "overflow_y": null,
            "padding": null,
            "right": null,
            "top": null,
            "visibility": null,
            "width": null
          }
        },
        "57a7136a5e534def96ec9c488712d4c8": {
          "model_module": "@jupyter-widgets/controls",
          "model_name": "DescriptionStyleModel",
          "model_module_version": "1.5.0",
          "state": {
            "_model_module": "@jupyter-widgets/controls",
            "_model_module_version": "1.5.0",
            "_model_name": "DescriptionStyleModel",
            "_view_count": null,
            "_view_module": "@jupyter-widgets/base",
            "_view_module_version": "1.2.0",
            "_view_name": "StyleView",
            "description_width": ""
          }
        },
        "20dbfec73c64447ab1c37f6f65255530": {
          "model_module": "@jupyter-widgets/base",
          "model_name": "LayoutModel",
          "model_module_version": "1.2.0",
          "state": {
            "_model_module": "@jupyter-widgets/base",
            "_model_module_version": "1.2.0",
            "_model_name": "LayoutModel",
            "_view_count": null,
            "_view_module": "@jupyter-widgets/base",
            "_view_module_version": "1.2.0",
            "_view_name": "LayoutView",
            "align_content": null,
            "align_items": null,
            "align_self": null,
            "border": null,
            "bottom": null,
            "display": null,
            "flex": null,
            "flex_flow": null,
            "grid_area": null,
            "grid_auto_columns": null,
            "grid_auto_flow": null,
            "grid_auto_rows": null,
            "grid_column": null,
            "grid_gap": null,
            "grid_row": null,
            "grid_template_areas": null,
            "grid_template_columns": null,
            "grid_template_rows": null,
            "height": null,
            "justify_content": null,
            "justify_items": null,
            "left": null,
            "margin": null,
            "max_height": null,
            "max_width": null,
            "min_height": null,
            "min_width": null,
            "object_fit": null,
            "object_position": null,
            "order": null,
            "overflow": null,
            "overflow_x": null,
            "overflow_y": null,
            "padding": null,
            "right": null,
            "top": null,
            "visibility": null,
            "width": null
          }
        },
        "8f83b9888596414e86e12d53bbf24d81": {
          "model_module": "@jupyter-widgets/controls",
          "model_name": "ProgressStyleModel",
          "model_module_version": "1.5.0",
          "state": {
            "_model_module": "@jupyter-widgets/controls",
            "_model_module_version": "1.5.0",
            "_model_name": "ProgressStyleModel",
            "_view_count": null,
            "_view_module": "@jupyter-widgets/base",
            "_view_module_version": "1.2.0",
            "_view_name": "StyleView",
            "bar_color": null,
            "description_width": ""
          }
        },
        "83e68de468c54e6c8e8bab9debbae383": {
          "model_module": "@jupyter-widgets/base",
          "model_name": "LayoutModel",
          "model_module_version": "1.2.0",
          "state": {
            "_model_module": "@jupyter-widgets/base",
            "_model_module_version": "1.2.0",
            "_model_name": "LayoutModel",
            "_view_count": null,
            "_view_module": "@jupyter-widgets/base",
            "_view_module_version": "1.2.0",
            "_view_name": "LayoutView",
            "align_content": null,
            "align_items": null,
            "align_self": null,
            "border": null,
            "bottom": null,
            "display": null,
            "flex": null,
            "flex_flow": null,
            "grid_area": null,
            "grid_auto_columns": null,
            "grid_auto_flow": null,
            "grid_auto_rows": null,
            "grid_column": null,
            "grid_gap": null,
            "grid_row": null,
            "grid_template_areas": null,
            "grid_template_columns": null,
            "grid_template_rows": null,
            "height": null,
            "justify_content": null,
            "justify_items": null,
            "left": null,
            "margin": null,
            "max_height": null,
            "max_width": null,
            "min_height": null,
            "min_width": null,
            "object_fit": null,
            "object_position": null,
            "order": null,
            "overflow": null,
            "overflow_x": null,
            "overflow_y": null,
            "padding": null,
            "right": null,
            "top": null,
            "visibility": null,
            "width": null
          }
        },
        "27173a6c47f3419989de944bf920dcb8": {
          "model_module": "@jupyter-widgets/controls",
          "model_name": "DescriptionStyleModel",
          "model_module_version": "1.5.0",
          "state": {
            "_model_module": "@jupyter-widgets/controls",
            "_model_module_version": "1.5.0",
            "_model_name": "DescriptionStyleModel",
            "_view_count": null,
            "_view_module": "@jupyter-widgets/base",
            "_view_module_version": "1.2.0",
            "_view_name": "StyleView",
            "description_width": ""
          }
        }
      }
    }
  },
  "cells": [
    {
      "cell_type": "markdown",
      "metadata": {
        "id": "view-in-github",
        "colab_type": "text"
      },
      "source": [
        "<a href=\"https://colab.research.google.com/github/NikolValerie/homework/blob/main/ruBERT_tiny2.ipynb\" target=\"_parent\"><img src=\"https://colab.research.google.com/assets/colab-badge.svg\" alt=\"Open In Colab\"/></a>"
      ]
    },
    {
      "cell_type": "code",
      "execution_count": 1,
      "metadata": {
        "colab": {
          "base_uri": "https://localhost:8080/"
        },
        "id": "nZ18uvT0mcAG",
        "outputId": "ba5e380d-5868-4225-ad08-6bf93e2bcab4"
      },
      "outputs": [
        {
          "output_type": "stream",
          "name": "stdout",
          "text": [
            "Mounted at /content/drive\n"
          ]
        }
      ],
      "source": [
        "from google.colab import drive\n",
        "drive.mount('/content/drive')"
      ]
    },
    {
      "cell_type": "code",
      "source": [
        "from google.colab import files\n",
        "uploaded = files.upload()"
      ],
      "metadata": {
        "colab": {
          "base_uri": "https://localhost:8080/",
          "height": 73
        },
        "id": "kSGpZE-HsdyI",
        "outputId": "2ffa5f78-ba21-481c-f8b8-f296f77c9958"
      },
      "execution_count": 2,
      "outputs": [
        {
          "output_type": "display_data",
          "data": {
            "text/plain": [
              "<IPython.core.display.HTML object>"
            ],
            "text/html": [
              "\n",
              "     <input type=\"file\" id=\"files-45c017ea-a631-482f-8e31-7e3c72ff9cc7\" name=\"files[]\" multiple disabled\n",
              "        style=\"border:none\" />\n",
              "     <output id=\"result-45c017ea-a631-482f-8e31-7e3c72ff9cc7\">\n",
              "      Upload widget is only available when the cell has been executed in the\n",
              "      current browser session. Please rerun this cell to enable.\n",
              "      </output>\n",
              "      <script>// Copyright 2017 Google LLC\n",
              "//\n",
              "// Licensed under the Apache License, Version 2.0 (the \"License\");\n",
              "// you may not use this file except in compliance with the License.\n",
              "// You may obtain a copy of the License at\n",
              "//\n",
              "//      http://www.apache.org/licenses/LICENSE-2.0\n",
              "//\n",
              "// Unless required by applicable law or agreed to in writing, software\n",
              "// distributed under the License is distributed on an \"AS IS\" BASIS,\n",
              "// WITHOUT WARRANTIES OR CONDITIONS OF ANY KIND, either express or implied.\n",
              "// See the License for the specific language governing permissions and\n",
              "// limitations under the License.\n",
              "\n",
              "/**\n",
              " * @fileoverview Helpers for google.colab Python module.\n",
              " */\n",
              "(function(scope) {\n",
              "function span(text, styleAttributes = {}) {\n",
              "  const element = document.createElement('span');\n",
              "  element.textContent = text;\n",
              "  for (const key of Object.keys(styleAttributes)) {\n",
              "    element.style[key] = styleAttributes[key];\n",
              "  }\n",
              "  return element;\n",
              "}\n",
              "\n",
              "// Max number of bytes which will be uploaded at a time.\n",
              "const MAX_PAYLOAD_SIZE = 100 * 1024;\n",
              "\n",
              "function _uploadFiles(inputId, outputId) {\n",
              "  const steps = uploadFilesStep(inputId, outputId);\n",
              "  const outputElement = document.getElementById(outputId);\n",
              "  // Cache steps on the outputElement to make it available for the next call\n",
              "  // to uploadFilesContinue from Python.\n",
              "  outputElement.steps = steps;\n",
              "\n",
              "  return _uploadFilesContinue(outputId);\n",
              "}\n",
              "\n",
              "// This is roughly an async generator (not supported in the browser yet),\n",
              "// where there are multiple asynchronous steps and the Python side is going\n",
              "// to poll for completion of each step.\n",
              "// This uses a Promise to block the python side on completion of each step,\n",
              "// then passes the result of the previous step as the input to the next step.\n",
              "function _uploadFilesContinue(outputId) {\n",
              "  const outputElement = document.getElementById(outputId);\n",
              "  const steps = outputElement.steps;\n",
              "\n",
              "  const next = steps.next(outputElement.lastPromiseValue);\n",
              "  return Promise.resolve(next.value.promise).then((value) => {\n",
              "    // Cache the last promise value to make it available to the next\n",
              "    // step of the generator.\n",
              "    outputElement.lastPromiseValue = value;\n",
              "    return next.value.response;\n",
              "  });\n",
              "}\n",
              "\n",
              "/**\n",
              " * Generator function which is called between each async step of the upload\n",
              " * process.\n",
              " * @param {string} inputId Element ID of the input file picker element.\n",
              " * @param {string} outputId Element ID of the output display.\n",
              " * @return {!Iterable<!Object>} Iterable of next steps.\n",
              " */\n",
              "function* uploadFilesStep(inputId, outputId) {\n",
              "  const inputElement = document.getElementById(inputId);\n",
              "  inputElement.disabled = false;\n",
              "\n",
              "  const outputElement = document.getElementById(outputId);\n",
              "  outputElement.innerHTML = '';\n",
              "\n",
              "  const pickedPromise = new Promise((resolve) => {\n",
              "    inputElement.addEventListener('change', (e) => {\n",
              "      resolve(e.target.files);\n",
              "    });\n",
              "  });\n",
              "\n",
              "  const cancel = document.createElement('button');\n",
              "  inputElement.parentElement.appendChild(cancel);\n",
              "  cancel.textContent = 'Cancel upload';\n",
              "  const cancelPromise = new Promise((resolve) => {\n",
              "    cancel.onclick = () => {\n",
              "      resolve(null);\n",
              "    };\n",
              "  });\n",
              "\n",
              "  // Wait for the user to pick the files.\n",
              "  const files = yield {\n",
              "    promise: Promise.race([pickedPromise, cancelPromise]),\n",
              "    response: {\n",
              "      action: 'starting',\n",
              "    }\n",
              "  };\n",
              "\n",
              "  cancel.remove();\n",
              "\n",
              "  // Disable the input element since further picks are not allowed.\n",
              "  inputElement.disabled = true;\n",
              "\n",
              "  if (!files) {\n",
              "    return {\n",
              "      response: {\n",
              "        action: 'complete',\n",
              "      }\n",
              "    };\n",
              "  }\n",
              "\n",
              "  for (const file of files) {\n",
              "    const li = document.createElement('li');\n",
              "    li.append(span(file.name, {fontWeight: 'bold'}));\n",
              "    li.append(span(\n",
              "        `(${file.type || 'n/a'}) - ${file.size} bytes, ` +\n",
              "        `last modified: ${\n",
              "            file.lastModifiedDate ? file.lastModifiedDate.toLocaleDateString() :\n",
              "                                    'n/a'} - `));\n",
              "    const percent = span('0% done');\n",
              "    li.appendChild(percent);\n",
              "\n",
              "    outputElement.appendChild(li);\n",
              "\n",
              "    const fileDataPromise = new Promise((resolve) => {\n",
              "      const reader = new FileReader();\n",
              "      reader.onload = (e) => {\n",
              "        resolve(e.target.result);\n",
              "      };\n",
              "      reader.readAsArrayBuffer(file);\n",
              "    });\n",
              "    // Wait for the data to be ready.\n",
              "    let fileData = yield {\n",
              "      promise: fileDataPromise,\n",
              "      response: {\n",
              "        action: 'continue',\n",
              "      }\n",
              "    };\n",
              "\n",
              "    // Use a chunked sending to avoid message size limits. See b/62115660.\n",
              "    let position = 0;\n",
              "    do {\n",
              "      const length = Math.min(fileData.byteLength - position, MAX_PAYLOAD_SIZE);\n",
              "      const chunk = new Uint8Array(fileData, position, length);\n",
              "      position += length;\n",
              "\n",
              "      const base64 = btoa(String.fromCharCode.apply(null, chunk));\n",
              "      yield {\n",
              "        response: {\n",
              "          action: 'append',\n",
              "          file: file.name,\n",
              "          data: base64,\n",
              "        },\n",
              "      };\n",
              "\n",
              "      let percentDone = fileData.byteLength === 0 ?\n",
              "          100 :\n",
              "          Math.round((position / fileData.byteLength) * 100);\n",
              "      percent.textContent = `${percentDone}% done`;\n",
              "\n",
              "    } while (position < fileData.byteLength);\n",
              "  }\n",
              "\n",
              "  // All done.\n",
              "  yield {\n",
              "    response: {\n",
              "      action: 'complete',\n",
              "    }\n",
              "  };\n",
              "}\n",
              "\n",
              "scope.google = scope.google || {};\n",
              "scope.google.colab = scope.google.colab || {};\n",
              "scope.google.colab._files = {\n",
              "  _uploadFiles,\n",
              "  _uploadFilesContinue,\n",
              "};\n",
              "})(self);\n",
              "</script> "
            ]
          },
          "metadata": {}
        },
        {
          "output_type": "stream",
          "name": "stdout",
          "text": [
            "Saving tg_channels.zip to tg_channels.zip\n"
          ]
        }
      ]
    },
    {
      "cell_type": "code",
      "source": [
        "import zipfile\n",
        "import io\n",
        "\n",
        "file_name = 'tg_channels.zip'\n",
        "\n",
        "with zipfile.ZipFile(io.BytesIO(uploaded[file_name]), 'r') as zip_ref:\n",
        "    zip_ref.extractall('/content')"
      ],
      "metadata": {
        "id": "cVak0HmAs_3U"
      },
      "execution_count": 4,
      "outputs": []
    },
    {
      "cell_type": "code",
      "source": [
        "import numpy as np\n",
        "import pandas as pd\n",
        "from sklearn.preprocessing import LabelEncoder\n",
        "from sklearn.model_selection import train_test_split\n",
        "from sklearn.linear_model import LogisticRegression\n",
        "from sklearn.ensemble import RandomForestClassifier\n",
        "from sklearn.model_selection import GridSearchCV\n",
        "from sklearn.model_selection import cross_val_score\n",
        "import torch\n",
        "\n",
        "import matplotlib.pyplot as plt\n",
        "\n",
        "# импортируем трансформеры\n",
        "import transformers\n",
        "import warnings\n",
        "warnings.filterwarnings('ignore')"
      ],
      "metadata": {
        "id": "4QBCXfPLtOTe"
      },
      "execution_count": 5,
      "outputs": []
    },
    {
      "cell_type": "code",
      "source": [
        "device = 'cuda' if torch.cuda.is_available() else 'cpu'\n",
        "print(device)"
      ],
      "metadata": {
        "colab": {
          "base_uri": "https://localhost:8080/"
        },
        "id": "ovXMKo-jtX8l",
        "outputId": "37b347b3-3823-4a30-dbf3-293c9d3207cf"
      },
      "execution_count": 6,
      "outputs": [
        {
          "output_type": "stream",
          "name": "stdout",
          "text": [
            "cpu\n"
          ]
        }
      ]
    },
    {
      "cell_type": "code",
      "source": [
        "df = pd.read_csv('/content/tg_channels/train_channels.csv', encoding='UTF-8')\n",
        "df"
      ],
      "metadata": {
        "colab": {
          "base_uri": "https://localhost:8080/",
          "height": 597
        },
        "id": "QNb4cdBQtfqP",
        "outputId": "4d846552-24cd-4bea-999d-a47e312cef40"
      },
      "execution_count": 15,
      "outputs": [
        {
          "output_type": "execute_result",
          "data": {
            "text/plain": [
              "                            date  \\\n",
              "0      2023-07-05 15:16:45+00:00   \n",
              "1      2023-07-11 13:13:02+00:00   \n",
              "2      2022-12-17 07:55:28+00:00   \n",
              "3      2023-05-25 10:37:54+00:00   \n",
              "4      2020-08-03 10:01:15+00:00   \n",
              "...                          ...   \n",
              "24799  2023-09-10 11:07:37+00:00   \n",
              "24800  2023-01-08 13:51:54+00:00   \n",
              "24801  2021-02-24 09:41:28+00:00   \n",
              "24802  2023-05-22 14:42:58+00:00   \n",
              "24803  2018-12-30 13:48:40+00:00   \n",
              "\n",
              "                                                 content  \\\n",
              "0      Две ссылкиРас: https://t.me/PlushevChannel/224...   \n",
              "1      @firstartclub | #обзор«Отец», Константин Аполл...   \n",
              "2      pov: когда объясняют новую тему урока, а ты ещ...   \n",
              "3      ⚡️Грузинская авиакомпания Georgian Airways зап...   \n",
              "4      Интересуешься историей и людьми, которые ее со...   \n",
              "...                                                  ...   \n",
              "24799  ✅ groza.media не заблокирован  🔥 но может быть...   \n",
              "24800  Друзья, я сейчас в Тбилиси!Было бы здорово соб...   \n",
              "24801  Без лишних слов — Школа менеджеров Яндекса 202...   \n",
              "24802  И еще один крутой пример \"AIaaS\" (\"ИИ как услу...   \n",
              "24803  Друзья, Мы очень рады, что вам понравились нов...   \n",
              "\n",
              "                            label  \\\n",
              "0                      технологии   \n",
              "1                       искусство   \n",
              "2      образование_познавательное   \n",
              "3                       маркетинг   \n",
              "4      образование_познавательное   \n",
              "...                           ...   \n",
              "24799                  технологии   \n",
              "24800                  технологии   \n",
              "24801                  технологии   \n",
              "24802                  технологии   \n",
              "24803                  технологии   \n",
              "\n",
              "                                            initial_text  \n",
              "0      Две ссылкиРас: https://t.me/PlushevChannel/224...  \n",
              "1      @firstartclub | #обзор«Отец», Константин Аполл...  \n",
              "2      pov: когда объясняют новую тему урока, а ты ещ...  \n",
              "3      ⚡️Грузинская авиакомпания Georgian Airways зап...  \n",
              "4      Интересуешься историей и людьми, которые ее со...  \n",
              "...                                                  ...  \n",
              "24799  ✅ groza.media не заблокирован  🔥 но может быть...  \n",
              "24800  Друзья, я сейчас в Тбилиси!Было бы здорово соб...  \n",
              "24801  Без лишних слов — Школа менеджеров Яндекса 202...  \n",
              "24802  И еще один крутой пример \"AIaaS\" (\"ИИ как услу...  \n",
              "24803  Друзья, Мы очень рады, что вам понравились нов...  \n",
              "\n",
              "[24804 rows x 4 columns]"
            ],
            "text/html": [
              "\n",
              "  <div id=\"df-e89ac273-81e9-44eb-90da-e3cf304c13b4\" class=\"colab-df-container\">\n",
              "    <div>\n",
              "<style scoped>\n",
              "    .dataframe tbody tr th:only-of-type {\n",
              "        vertical-align: middle;\n",
              "    }\n",
              "\n",
              "    .dataframe tbody tr th {\n",
              "        vertical-align: top;\n",
              "    }\n",
              "\n",
              "    .dataframe thead th {\n",
              "        text-align: right;\n",
              "    }\n",
              "</style>\n",
              "<table border=\"1\" class=\"dataframe\">\n",
              "  <thead>\n",
              "    <tr style=\"text-align: right;\">\n",
              "      <th></th>\n",
              "      <th>date</th>\n",
              "      <th>content</th>\n",
              "      <th>label</th>\n",
              "      <th>initial_text</th>\n",
              "    </tr>\n",
              "  </thead>\n",
              "  <tbody>\n",
              "    <tr>\n",
              "      <th>0</th>\n",
              "      <td>2023-07-05 15:16:45+00:00</td>\n",
              "      <td>Две ссылкиРас: https://t.me/PlushevChannel/224...</td>\n",
              "      <td>технологии</td>\n",
              "      <td>Две ссылкиРас: https://t.me/PlushevChannel/224...</td>\n",
              "    </tr>\n",
              "    <tr>\n",
              "      <th>1</th>\n",
              "      <td>2023-07-11 13:13:02+00:00</td>\n",
              "      <td>@firstartclub | #обзор«Отец», Константин Аполл...</td>\n",
              "      <td>искусство</td>\n",
              "      <td>@firstartclub | #обзор«Отец», Константин Аполл...</td>\n",
              "    </tr>\n",
              "    <tr>\n",
              "      <th>2</th>\n",
              "      <td>2022-12-17 07:55:28+00:00</td>\n",
              "      <td>pov: когда объясняют новую тему урока, а ты ещ...</td>\n",
              "      <td>образование_познавательное</td>\n",
              "      <td>pov: когда объясняют новую тему урока, а ты ещ...</td>\n",
              "    </tr>\n",
              "    <tr>\n",
              "      <th>3</th>\n",
              "      <td>2023-05-25 10:37:54+00:00</td>\n",
              "      <td>⚡️Грузинская авиакомпания Georgian Airways зап...</td>\n",
              "      <td>маркетинг</td>\n",
              "      <td>⚡️Грузинская авиакомпания Georgian Airways зап...</td>\n",
              "    </tr>\n",
              "    <tr>\n",
              "      <th>4</th>\n",
              "      <td>2020-08-03 10:01:15+00:00</td>\n",
              "      <td>Интересуешься историей и людьми, которые ее со...</td>\n",
              "      <td>образование_познавательное</td>\n",
              "      <td>Интересуешься историей и людьми, которые ее со...</td>\n",
              "    </tr>\n",
              "    <tr>\n",
              "      <th>...</th>\n",
              "      <td>...</td>\n",
              "      <td>...</td>\n",
              "      <td>...</td>\n",
              "      <td>...</td>\n",
              "    </tr>\n",
              "    <tr>\n",
              "      <th>24799</th>\n",
              "      <td>2023-09-10 11:07:37+00:00</td>\n",
              "      <td>✅ groza.media не заблокирован  🔥 но может быть...</td>\n",
              "      <td>технологии</td>\n",
              "      <td>✅ groza.media не заблокирован  🔥 но может быть...</td>\n",
              "    </tr>\n",
              "    <tr>\n",
              "      <th>24800</th>\n",
              "      <td>2023-01-08 13:51:54+00:00</td>\n",
              "      <td>Друзья, я сейчас в Тбилиси!Было бы здорово соб...</td>\n",
              "      <td>технологии</td>\n",
              "      <td>Друзья, я сейчас в Тбилиси!Было бы здорово соб...</td>\n",
              "    </tr>\n",
              "    <tr>\n",
              "      <th>24801</th>\n",
              "      <td>2021-02-24 09:41:28+00:00</td>\n",
              "      <td>Без лишних слов — Школа менеджеров Яндекса 202...</td>\n",
              "      <td>технологии</td>\n",
              "      <td>Без лишних слов — Школа менеджеров Яндекса 202...</td>\n",
              "    </tr>\n",
              "    <tr>\n",
              "      <th>24802</th>\n",
              "      <td>2023-05-22 14:42:58+00:00</td>\n",
              "      <td>И еще один крутой пример \"AIaaS\" (\"ИИ как услу...</td>\n",
              "      <td>технологии</td>\n",
              "      <td>И еще один крутой пример \"AIaaS\" (\"ИИ как услу...</td>\n",
              "    </tr>\n",
              "    <tr>\n",
              "      <th>24803</th>\n",
              "      <td>2018-12-30 13:48:40+00:00</td>\n",
              "      <td>Друзья, Мы очень рады, что вам понравились нов...</td>\n",
              "      <td>технологии</td>\n",
              "      <td>Друзья, Мы очень рады, что вам понравились нов...</td>\n",
              "    </tr>\n",
              "  </tbody>\n",
              "</table>\n",
              "<p>24804 rows × 4 columns</p>\n",
              "</div>\n",
              "    <div class=\"colab-df-buttons\">\n",
              "\n",
              "  <div class=\"colab-df-container\">\n",
              "    <button class=\"colab-df-convert\" onclick=\"convertToInteractive('df-e89ac273-81e9-44eb-90da-e3cf304c13b4')\"\n",
              "            title=\"Convert this dataframe to an interactive table.\"\n",
              "            style=\"display:none;\">\n",
              "\n",
              "  <svg xmlns=\"http://www.w3.org/2000/svg\" height=\"24px\" viewBox=\"0 -960 960 960\">\n",
              "    <path d=\"M120-120v-720h720v720H120Zm60-500h600v-160H180v160Zm220 220h160v-160H400v160Zm0 220h160v-160H400v160ZM180-400h160v-160H180v160Zm440 0h160v-160H620v160ZM180-180h160v-160H180v160Zm440 0h160v-160H620v160Z\"/>\n",
              "  </svg>\n",
              "    </button>\n",
              "\n",
              "  <style>\n",
              "    .colab-df-container {\n",
              "      display:flex;\n",
              "      gap: 12px;\n",
              "    }\n",
              "\n",
              "    .colab-df-convert {\n",
              "      background-color: #E8F0FE;\n",
              "      border: none;\n",
              "      border-radius: 50%;\n",
              "      cursor: pointer;\n",
              "      display: none;\n",
              "      fill: #1967D2;\n",
              "      height: 32px;\n",
              "      padding: 0 0 0 0;\n",
              "      width: 32px;\n",
              "    }\n",
              "\n",
              "    .colab-df-convert:hover {\n",
              "      background-color: #E2EBFA;\n",
              "      box-shadow: 0px 1px 2px rgba(60, 64, 67, 0.3), 0px 1px 3px 1px rgba(60, 64, 67, 0.15);\n",
              "      fill: #174EA6;\n",
              "    }\n",
              "\n",
              "    .colab-df-buttons div {\n",
              "      margin-bottom: 4px;\n",
              "    }\n",
              "\n",
              "    [theme=dark] .colab-df-convert {\n",
              "      background-color: #3B4455;\n",
              "      fill: #D2E3FC;\n",
              "    }\n",
              "\n",
              "    [theme=dark] .colab-df-convert:hover {\n",
              "      background-color: #434B5C;\n",
              "      box-shadow: 0px 1px 3px 1px rgba(0, 0, 0, 0.15);\n",
              "      filter: drop-shadow(0px 1px 2px rgba(0, 0, 0, 0.3));\n",
              "      fill: #FFFFFF;\n",
              "    }\n",
              "  </style>\n",
              "\n",
              "    <script>\n",
              "      const buttonEl =\n",
              "        document.querySelector('#df-e89ac273-81e9-44eb-90da-e3cf304c13b4 button.colab-df-convert');\n",
              "      buttonEl.style.display =\n",
              "        google.colab.kernel.accessAllowed ? 'block' : 'none';\n",
              "\n",
              "      async function convertToInteractive(key) {\n",
              "        const element = document.querySelector('#df-e89ac273-81e9-44eb-90da-e3cf304c13b4');\n",
              "        const dataTable =\n",
              "          await google.colab.kernel.invokeFunction('convertToInteractive',\n",
              "                                                    [key], {});\n",
              "        if (!dataTable) return;\n",
              "\n",
              "        const docLinkHtml = 'Like what you see? Visit the ' +\n",
              "          '<a target=\"_blank\" href=https://colab.research.google.com/notebooks/data_table.ipynb>data table notebook</a>'\n",
              "          + ' to learn more about interactive tables.';\n",
              "        element.innerHTML = '';\n",
              "        dataTable['output_type'] = 'display_data';\n",
              "        await google.colab.output.renderOutput(dataTable, element);\n",
              "        const docLink = document.createElement('div');\n",
              "        docLink.innerHTML = docLinkHtml;\n",
              "        element.appendChild(docLink);\n",
              "      }\n",
              "    </script>\n",
              "  </div>\n",
              "\n",
              "\n",
              "<div id=\"df-ee923d45-6f1a-47ab-803d-839a0075b1a0\">\n",
              "  <button class=\"colab-df-quickchart\" onclick=\"quickchart('df-ee923d45-6f1a-47ab-803d-839a0075b1a0')\"\n",
              "            title=\"Suggest charts\"\n",
              "            style=\"display:none;\">\n",
              "\n",
              "<svg xmlns=\"http://www.w3.org/2000/svg\" height=\"24px\"viewBox=\"0 0 24 24\"\n",
              "     width=\"24px\">\n",
              "    <g>\n",
              "        <path d=\"M19 3H5c-1.1 0-2 .9-2 2v14c0 1.1.9 2 2 2h14c1.1 0 2-.9 2-2V5c0-1.1-.9-2-2-2zM9 17H7v-7h2v7zm4 0h-2V7h2v10zm4 0h-2v-4h2v4z\"/>\n",
              "    </g>\n",
              "</svg>\n",
              "  </button>\n",
              "\n",
              "<style>\n",
              "  .colab-df-quickchart {\n",
              "      --bg-color: #E8F0FE;\n",
              "      --fill-color: #1967D2;\n",
              "      --hover-bg-color: #E2EBFA;\n",
              "      --hover-fill-color: #174EA6;\n",
              "      --disabled-fill-color: #AAA;\n",
              "      --disabled-bg-color: #DDD;\n",
              "  }\n",
              "\n",
              "  [theme=dark] .colab-df-quickchart {\n",
              "      --bg-color: #3B4455;\n",
              "      --fill-color: #D2E3FC;\n",
              "      --hover-bg-color: #434B5C;\n",
              "      --hover-fill-color: #FFFFFF;\n",
              "      --disabled-bg-color: #3B4455;\n",
              "      --disabled-fill-color: #666;\n",
              "  }\n",
              "\n",
              "  .colab-df-quickchart {\n",
              "    background-color: var(--bg-color);\n",
              "    border: none;\n",
              "    border-radius: 50%;\n",
              "    cursor: pointer;\n",
              "    display: none;\n",
              "    fill: var(--fill-color);\n",
              "    height: 32px;\n",
              "    padding: 0;\n",
              "    width: 32px;\n",
              "  }\n",
              "\n",
              "  .colab-df-quickchart:hover {\n",
              "    background-color: var(--hover-bg-color);\n",
              "    box-shadow: 0 1px 2px rgba(60, 64, 67, 0.3), 0 1px 3px 1px rgba(60, 64, 67, 0.15);\n",
              "    fill: var(--button-hover-fill-color);\n",
              "  }\n",
              "\n",
              "  .colab-df-quickchart-complete:disabled,\n",
              "  .colab-df-quickchart-complete:disabled:hover {\n",
              "    background-color: var(--disabled-bg-color);\n",
              "    fill: var(--disabled-fill-color);\n",
              "    box-shadow: none;\n",
              "  }\n",
              "\n",
              "  .colab-df-spinner {\n",
              "    border: 2px solid var(--fill-color);\n",
              "    border-color: transparent;\n",
              "    border-bottom-color: var(--fill-color);\n",
              "    animation:\n",
              "      spin 1s steps(1) infinite;\n",
              "  }\n",
              "\n",
              "  @keyframes spin {\n",
              "    0% {\n",
              "      border-color: transparent;\n",
              "      border-bottom-color: var(--fill-color);\n",
              "      border-left-color: var(--fill-color);\n",
              "    }\n",
              "    20% {\n",
              "      border-color: transparent;\n",
              "      border-left-color: var(--fill-color);\n",
              "      border-top-color: var(--fill-color);\n",
              "    }\n",
              "    30% {\n",
              "      border-color: transparent;\n",
              "      border-left-color: var(--fill-color);\n",
              "      border-top-color: var(--fill-color);\n",
              "      border-right-color: var(--fill-color);\n",
              "    }\n",
              "    40% {\n",
              "      border-color: transparent;\n",
              "      border-right-color: var(--fill-color);\n",
              "      border-top-color: var(--fill-color);\n",
              "    }\n",
              "    60% {\n",
              "      border-color: transparent;\n",
              "      border-right-color: var(--fill-color);\n",
              "    }\n",
              "    80% {\n",
              "      border-color: transparent;\n",
              "      border-right-color: var(--fill-color);\n",
              "      border-bottom-color: var(--fill-color);\n",
              "    }\n",
              "    90% {\n",
              "      border-color: transparent;\n",
              "      border-bottom-color: var(--fill-color);\n",
              "    }\n",
              "  }\n",
              "</style>\n",
              "\n",
              "  <script>\n",
              "    async function quickchart(key) {\n",
              "      const quickchartButtonEl =\n",
              "        document.querySelector('#' + key + ' button');\n",
              "      quickchartButtonEl.disabled = true;  // To prevent multiple clicks.\n",
              "      quickchartButtonEl.classList.add('colab-df-spinner');\n",
              "      try {\n",
              "        const charts = await google.colab.kernel.invokeFunction(\n",
              "            'suggestCharts', [key], {});\n",
              "      } catch (error) {\n",
              "        console.error('Error during call to suggestCharts:', error);\n",
              "      }\n",
              "      quickchartButtonEl.classList.remove('colab-df-spinner');\n",
              "      quickchartButtonEl.classList.add('colab-df-quickchart-complete');\n",
              "    }\n",
              "    (() => {\n",
              "      let quickchartButtonEl =\n",
              "        document.querySelector('#df-ee923d45-6f1a-47ab-803d-839a0075b1a0 button');\n",
              "      quickchartButtonEl.style.display =\n",
              "        google.colab.kernel.accessAllowed ? 'block' : 'none';\n",
              "    })();\n",
              "  </script>\n",
              "</div>\n",
              "    </div>\n",
              "  </div>\n"
            ],
            "application/vnd.google.colaboratory.intrinsic+json": {
              "type": "dataframe",
              "variable_name": "df",
              "summary": "{\n  \"name\": \"df\",\n  \"rows\": 24804,\n  \"fields\": [\n    {\n      \"column\": \"date\",\n      \"properties\": {\n        \"dtype\": \"object\",\n        \"num_unique_values\": 24720,\n        \"samples\": [\n          \"2022-07-28 11:27:10+00:00\",\n          \"2023-07-19 07:51:40+00:00\",\n          \"2023-05-24 09:14:14+00:00\"\n        ],\n        \"semantic_type\": \"\",\n        \"description\": \"\"\n      }\n    },\n    {\n      \"column\": \"content\",\n      \"properties\": {\n        \"dtype\": \"string\",\n        \"num_unique_values\": 24448,\n        \"samples\": [\n          \"\\u00ab\\u0413\\u043e\\u043b\\u0433\\u043e\\u0444\\u0430\\u00bb \\u041d\\u0438\\u043a\\u043e\\u043b\\u0430\\u0439 \\u0413\\u0435, 1893 \\u0422\\u0440\\u0435\\u0442\\u044c\\u044f\\u043a\\u043e\\u0432\\u0441\\u043a\\u0430\\u044f \\u0433\\u0430\\u043b\\u0435\\u0440\\u0435\\u044f, \\u041c\\u043e\\u0441\\u043a\\u0432\\u0430  \\u0420\\u0430\\u0431\\u043e\\u0442\\u044b \\u041d\\u0438\\u043a\\u043e\\u043b\\u0430\\u044f \\u0413\\u0435 \\u043d\\u0430 \\u0431\\u0438\\u0431\\u043b\\u0435\\u0439\\u0441\\u043a\\u0443\\u044e \\u0442\\u0435\\u043c\\u0430\\u0442\\u0438\\u043a\\u0443 \\u0431\\u044b\\u043b\\u0438 \\u043c\\u0430\\u043a\\u0441\\u0438\\u043c\\u0430\\u043b\\u044c\\u043d\\u043e \\u0440\\u0435\\u0430\\u043b\\u0438\\u0441\\u0442\\u0438\\u0447\\u043d\\u044b, \\u043b\\u0438\\u0448\\u0435\\u043d\\u044b \\u043c\\u0438\\u0441\\u0442\\u0438\\u043a\\u0438. \\u041e\\u043d\\u0438 \\u0441\\u043b\\u043e\\u0432\\u043d\\u043e \\u043e\\u0442\\u0432\\u0435\\u0442 \\u043d\\u0430 \\u0432\\u043e\\u043f\\u0440\\u043e\\u0441 \\u0438\\u0437 \\u043f\\u0440\\u0438\\u043f\\u0435\\u0432\\u0430 \\u043f\\u0435\\u0441\\u043d\\u0438 What If God Was One Of Us  \\u2013 \\u00ab\\u0427\\u0442\\u043e \\u0435\\u0441\\u043b\\u0438 \\u0431\\u044b \\u0411\\u043e\\u0433 \\u0431\\u044b\\u043b \\u043e\\u0434\\u043d\\u0438\\u043c \\u0438\\u0437 \\u043d\\u0430\\u0441?\\u00bb.  \\u041d\\u043e \\u0434\\u0430\\u0436\\u0435 \\u0441\\u0440\\u0435\\u0434\\u0438 \\u043d\\u0438\\u0445 \\u043a\\u0430\\u0440\\u0442\\u0438\\u043d\\u0430 \\u00ab\\u0413\\u043e\\u043b\\u0433\\u043e\\u0444\\u0430\\u00bb \\u0432\\u044b\\u0434\\u0435\\u043b\\u044f\\u0435\\u0442\\u0441\\u044f \\u0441\\u0432\\u043e\\u0438\\u043c \\u043f\\u043e\\u0447\\u0442\\u0438 \\u044d\\u043a\\u0441\\u043f\\u0440\\u0435\\u0441\\u0441\\u0438\\u043e\\u043d\\u0438\\u0441\\u0442\\u0441\\u043a\\u0438\\u043c  \\u043d\\u0430\\u0442\\u0443\\u0440\\u0430\\u043b\\u0438\\u0437\\u043c\\u043e\\u043c. \\u0425\\u0440\\u0438\\u0441\\u0442\\u043e\\u0441 \\u0437\\u0434\\u0435\\u0441\\u044c \\u043d\\u0435 \\u043f\\u0440\\u043e\\u0441\\u0442\\u043e \\u0442\\u0435\\u043b\\u0435\\u0441\\u0435\\u043d: \\u043e\\u043d \\u0432\\u044b\\u0433\\u043b\\u044f\\u0434\\u0438\\u0442 \\u043c\\u0430\\u043b\\u0435\\u043d\\u044c\\u043a\\u0438\\u043c \\u0438 \\u043e\\u0442\\u0447\\u0430\\u044f\\u0432\\u0448\\u0438\\u043c\\u0441\\u044f. \\u0421\\u0445\\u0432\\u0430\\u0442\\u0438\\u0432\\u0448\\u0438\\u0441\\u044c \\u0437\\u0430 \\u0433\\u043e\\u043b\\u043e\\u0432\\u0443, \\u043e\\u043d \\u043a\\u0440\\u0438\\u0447\\u0438\\u0442 \\u0432 \\u043d\\u0435\\u0431\\u043e: \\u00ab\\u041e\\u0442\\u0447\\u0435! \\u0417\\u0430\\u0447\\u0435\\u043c \\u043e\\u0441\\u0442\\u0430\\u0432\\u0438\\u043b \\u0442\\u044b \\u043c\\u0435\\u043d\\u044f?\\u00bb.  \\u0420\\u0430\\u0437\\u0431\\u043e\\u0439\\u043d\\u0438\\u043a\\u0438 \\u0440\\u044f\\u0434\\u043e\\u043c \\u0437\\u0430\\u043c\\u0435\\u0442\\u043d\\u043e \\u0432\\u044b\\u0448\\u0435 \\u0418\\u0438\\u0441\\u0443\\u0441\\u0430. \\u041f\\u0440\\u0430\\u0432\\u044b\\u0439 \\u043e\\u0442 \\u043d\\u0430\\u0441 \\u0440\\u0430\\u0441\\u043a\\u0430\\u044f\\u043b\\u0441\\u044f \\u0438 \\u0441\\u043e \\u0441\\u0442\\u044b\\u0434\\u043e\\u043c \\u043e\\u043f\\u0443\\u0441\\u0442\\u0438\\u043b \\u0433\\u043e\\u043b\\u043e\\u0432\\u0443. \\u041b\\u0438\\u0446\\u043e \\u0436\\u0435 \\u043b\\u0435\\u0432\\u043e\\u0433\\u043e \\u0438\\u0441\\u043a\\u0430\\u0436\\u0435\\u043d\\u043e \\u0437\\u043b\\u043e\\u0431\\u043e\\u0439 \\u0437\\u0430\\u0433\\u043d\\u0430\\u043d\\u043d\\u043e\\u0433\\u043e \\u0432 \\u0443\\u0433\\u043e\\u043b \\u0437\\u0432\\u0435\\u0440\\u044f.  \\u0417\\u0430 \\u0438\\u0437\\u043e\\u0431\\u0440\\u0430\\u0436\\u0435\\u043d\\u0438\\u0435 \\u0425\\u0440\\u0438\\u0441\\u0442\\u0430 \\u0445\\u0443\\u0434\\u043e\\u0436\\u043d\\u0438\\u043a\\u0430 \\u0441\\u0438\\u043b\\u044c\\u043d\\u043e \\u043a\\u0440\\u0438\\u0442\\u0438\\u043a\\u043e\\u0432\\u0430\\u043b\\u0438. \\u041e\\u0441\\u043e\\u0431\\u0435\\u043d\\u043d\\u043e \\u043f\\u043e\\u0447\\u0435\\u043c\\u0443-\\u0442\\u043e \\u0437\\u0430 \\u0435\\u0433\\u043e \\u0432\\u0441\\u043a\\u043b\\u043e\\u043a\\u043e\\u0447\\u0435\\u043d\\u043d\\u044b\\u0435 \\u0432\\u043e\\u043b\\u043e\\u0441\\u044b. \\u041e\\u0434\\u043d\\u0430 \\u0438\\u0437 \\u043f\\u043e\\u043a\\u043b\\u043e\\u043d\\u043d\\u0438\\u0446 \\u0441\\u0435\\u0442\\u043e\\u0432\\u0430\\u043b\\u0430, \\u0447\\u0442\\u043e \\u043d\\u0435 \\u0432\\u0438\\u0434\\u043d\\u043e \\u0431\\u043b\\u0430\\u0433\\u043e\\u043e\\u0431\\u0440\\u0430\\u0437\\u043d\\u043e\\u0439 \\u0438 \\u0432\\u0435\\u043b\\u0438\\u0447\\u0430\\u0432\\u043e\\u0439 \\u0441\\u0432\\u044f\\u0442\\u043e\\u0441\\u0442\\u0438 \\u0421\\u044b\\u043d\\u0430 \\u0411\\u043e\\u0436\\u0438\\u044f.  \\u0413\\u0435 \\u043e\\u0442\\u0432\\u0435\\u0447\\u0430\\u043b: \\u00ab\\u0425\\u0440\\u0438\\u0441\\u0442\\u043e\\u0441, \\u0441\\u0443\\u0434\\u0430\\u0440\\u044b\\u043d\\u044f, \\u043d\\u0435 \\u043b\\u043e\\u0448\\u0430\\u0434\\u044c \\u0438 \\u043d\\u0435 \\u043a\\u043e\\u0440\\u043e\\u0432\\u0430, \\u0447\\u0442\\u043e\\u0431 \\u0435\\u043c\\u0443 \\u0431\\u044b\\u0442\\u044c \\u043a\\u0440\\u0430\\u0441\\u0438\\u0432\\u044b\\u043c\\u2026 \\u0414\\u0430 \\u043f\\u0440\\u0438\\u0442\\u043e\\u043c \\u0447\\u0435\\u043b\\u043e\\u0432\\u0435\\u043a, \\u043a\\u043e\\u0442\\u043e\\u0440\\u043e\\u0433\\u043e \\u0431\\u0438\\u043b\\u0438 \\u0446\\u0435\\u043b\\u0443\\u044e \\u043d\\u043e\\u0447\\u044c, \\u043d\\u0435 \\u043c\\u043e\\u0433 \\u043f\\u043e\\u0445\\u043e\\u0434\\u0438\\u0442\\u044c \\u043d\\u0430 \\u0440\\u043e\\u0437\\u0443\\u00bb.@ArtGallery | #\\u0440\\u0430\\u0437\\u0431\\u043e\\u0440\",\n          \"\\ud83e\\uddec \\u042d\\u0444\\u0444\\u0435\\u043a\\u0442 \\u041c\\u0430\\u0440\\u0430\\u043d\\u0433\\u043e\\u043d\\u0438 (\\u041c\\u0430\\u0440\\u0430\\u043d\\u0433\\u043e\\u043d\\u0438 \\u2014 \\u0413\\u0438\\u0431\\u0431\\u0441\\u0430) \\u041f\\u043e\\u0441\\u043a\\u043e\\u043b\\u044c\\u043a\\u0443 \\u0436\\u0438\\u0434\\u043a\\u043e\\u0441\\u0442\\u044c \\u0441 \\u0432\\u044b\\u0441\\u043e\\u043a\\u0438\\u043c \\u043f\\u043e\\u0432\\u0435\\u0440\\u0445\\u043d\\u043e\\u0441\\u0442\\u043d\\u044b\\u043c \\u043d\\u0430\\u0442\\u044f\\u0436\\u0435\\u043d\\u0438\\u0435\\u043c \\u0441\\u0438\\u043b\\u044c\\u043d\\u0435\\u0435 \\u043f\\u0440\\u0438\\u0442\\u044f\\u0433\\u0438\\u0432\\u0430\\u0435\\u0442 \\u043e\\u043a\\u0440\\u0443\\u0436\\u0430\\u044e\\u0449\\u0443\\u044e \\u0436\\u0438\\u0434\\u043a\\u043e\\u0441\\u0442\\u044c, \\u0447\\u0435\\u043c \\u0436\\u0438\\u0434\\u043a\\u043e\\u0441\\u0442\\u044c \\u0441 \\u043d\\u0438\\u0437\\u043a\\u0438\\u043c \\u043f\\u043e\\u0432\\u0435\\u0440\\u0445\\u043d\\u043e\\u0441\\u0442\\u043d\\u044b\\u043c \\u043d\\u0430\\u0442\\u044f\\u0436\\u0435\\u043d\\u0438\\u0435\\u043c, \\u043d\\u0430\\u043b\\u0438\\u0447\\u0438\\u0435 \\u0433\\u0440\\u0430\\u0434\\u0438\\u0435\\u043d\\u0442\\u0430 \\u043f\\u043e\\u0432\\u0435\\u0440\\u0445\\u043d\\u043e\\u0441\\u0442\\u043d\\u043e\\u0433\\u043e \\u043d\\u0430\\u0442\\u044f\\u0436\\u0435\\u043d\\u0438\\u044f \\u0435\\u0441\\u0442\\u0435\\u0441\\u0442\\u0432\\u0435\\u043d\\u043d\\u044b\\u043c \\u043e\\u0431\\u0440\\u0430\\u0437\\u043e\\u043c \\u043f\\u0440\\u0438\\u0432\\u0435\\u0434\\u0435\\u0442 \\u043a \\u0432\\u044b\\u0442\\u0435\\u043a\\u0430\\u043d\\u0438\\u044e \\u0436\\u0438\\u0434\\u043a\\u043e\\u0441\\u0442\\u0438 \\u0438\\u0437 \\u043e\\u0431\\u043b\\u0430\\u0441\\u0442\\u0435\\u0439 \\u0441 \\u043d\\u0438\\u0437\\u043a\\u0438\\u043c \\u043f\\u043e\\u0432\\u0435\\u0440\\u0445\\u043d\\u043e\\u0441\\u0442\\u043d\\u044b\\u043c \\u043d\\u0430\\u0442\\u044f\\u0436\\u0435\\u043d\\u0438\\u0435\\u043c.\\u0412 \\u0441\\u043b\\u0443\\u0447\\u0430\\u0435 \\u0441 \\u043b\\u0438\\u0441\\u0442\\u043e\\u0447\\u043a\\u043e\\u043c \\u0431\\u0443\\u043c\\u0430\\u0433\\u0438 \\u0438 \\u0447\\u0435\\u0440\\u043d\\u0438\\u043b\\u0430\\u043c\\u0438 \\u043f\\u043e\\u043b\\u0443\\u0447\\u0430\\u0435\\u0442\\u0441\\u044f \\u043f\\u043e\\u0434\\u043e\\u0431\\u0438\\u0435 \\u0440\\u0435\\u0430\\u043a\\u0442\\u0438\\u0432\\u043d\\u043e\\u0433\\u043e \\u0434\\u0432\\u0438\\u0436\\u0435\\u043d\\u0438\\u044f. \\u041a\\u0440\\u0430\\u0441\\u0438\\u0432\\u043e, \\u0434\\u0430? :)\\u0413\\u0440\\u0430\\u0434\\u0438\\u0435\\u043d\\u0442 \\u043f\\u043e\\u0432\\u0435\\u0440\\u0445\\u043d\\u043e\\u0441\\u0442\\u043d\\u043e\\u0433\\u043e \\u043d\\u0430\\u0442\\u044f\\u0436\\u0435\\u043d\\u0438\\u044f \\u043c\\u043e\\u0436\\u0435\\u0442 \\u0431\\u044b\\u0442\\u044c \\u0432\\u044b\\u0437\\u0432\\u0430\\u043d \\u0433\\u0440\\u0430\\u0434\\u0438\\u0435\\u043d\\u0442\\u043e\\u043c \\u043a\\u043e\\u043d\\u0446\\u0435\\u043d\\u0442\\u0440\\u0430\\u0446\\u0438\\u0438 \\u0438\\u043b\\u0438 \\u0433\\u0440\\u0430\\u0434\\u0438\\u0435\\u043d\\u0442\\u043e\\u043c \\u0442\\u0435\\u043c\\u043f\\u0435\\u0440\\u0430\\u0442\\u0443\\u0440\\u044b (\\u043f\\u043e\\u0432\\u0435\\u0440\\u0445\\u043d\\u043e\\u0441\\u0442\\u043d\\u043e\\u0435 \\u043d\\u0430\\u0442\\u044f\\u0436\\u0435\\u043d\\u0438\\u0435 \\u044f\\u0432\\u043b\\u044f\\u0435\\u0442\\u0441\\u044f \\u0444\\u0443\\u043d\\u043a\\u0446\\u0438\\u0435\\u0439 \\u0442\\u0435\\u043c\\u043f\\u0435\\u0440\\u0430\\u0442\\u0443\\u0440\\u044b).\\ud83d\\udca1 Physics.Math.Code #gif #\\u0444\\u0438\\u0437\\u0438\\u043a\\u0430 #physics #\\u043c\\u043a\\u0442\",\n          \"\\u0412\\u043e\\u0442 \\u0447\\u0442\\u043e \\u0431\\u0443\\u0434\\u0435\\u0442, \\u0435\\u0441\\u043b\\u0438 \\u0447\\u0435\\u0441\\u0442\\u043d\\u043e \\u0441\\u043f\\u0440\\u043e\\u0441\\u0438\\u0442\\u044c \\u0437\\u0430\\u0441\\u0442\\u0440\\u043e\\u0439\\u0449\\u0438\\u043a\\u043e\\u0432 \\u043e \\u0442\\u043e\\u043c, \\u0447\\u0442\\u043e \\u043f\\u0440\\u043e\\u0438\\u0441\\u0445\\u043e\\u0434\\u0438\\u0442 \\u043d\\u0430 \\u0440\\u044b\\u043d\\u043a\\u0435 \\u043d\\u0435\\u0434\\u0432\\u0438\\u0436\\u0438\\u043c\\u043e\\u0441\\u0442\\u0438 \\u0441\\u0435\\u0439\\u0447\\u0430\\u0441.\\u042d\\u0442\\u043e \\u0432\\u0430\\u043c \\u043d\\u0435 \\u0438\\u043d\\u0442\\u0435\\u0440\\u0432\\u044c\\u044e \\u043f\\u0440\\u043e \\u0442\\u043e, \\u0447\\u0442\\u043e \\u0432\\u043e\\u0442-\\u0432\\u043e\\u0442 \\u0432\\u0441\\u0435 \\u043d\\u0430\\u043b\\u0430\\u0434\\u0438\\u0442\\u044c\\u0441\\u044f \\u0438 \\u043d\\u0430\\u0434\\u043e \\u043f\\u0435\\u0440\\u0435\\u0436\\u0434\\u0430\\u0442\\u044c. \\u042d\\u0442\\u043e \\u0438\\u0441\\u043a\\u0440\\u0435\\u043d\\u043d\\u0438\\u0435 \\u0441\\u043b\\u043e\\u0432\\u0430 \\u0443\\u0447\\u0430\\u0441\\u0442\\u043d\\u0438\\u043a\\u043e\\u0432 \\u0440\\u044b\\u043d\\u043a\\u0430 \\u0431\\u0435\\u0437 \\u0446\\u0435\\u043d\\u0437\\u0443\\u0440\\u044b.\\u041d\\u0430*\\u0443\\u0439 \\u044d\\u0442\\u0443 \\u043d\\u0435\\u043e\\u043f\\u0440\\u0435\\u0434\\u0435\\u043b\\u0435\\u043d\\u043d\\u043e\\u0441\\u0442\\u044c, \\u0432 \\u043e\\u0431\\u0449\\u0435\\u043c :)\"\n        ],\n        \"semantic_type\": \"\",\n        \"description\": \"\"\n      }\n    },\n    {\n      \"column\": \"label\",\n      \"properties\": {\n        \"dtype\": \"category\",\n        \"num_unique_values\": 5,\n        \"samples\": [\n          \"\\u0438\\u0441\\u043a\\u0443\\u0441\\u0441\\u0442\\u0432\\u043e\",\n          \"\\u0437\\u0434\\u043e\\u0440\\u043e\\u0432\\u044c\\u0435_\\u043c\\u0435\\u0434\\u0438\\u0446\\u0438\\u043d\\u0430\",\n          \"\\u043e\\u0431\\u0440\\u0430\\u0437\\u043e\\u0432\\u0430\\u043d\\u0438\\u0435_\\u043f\\u043e\\u0437\\u043d\\u0430\\u0432\\u0430\\u0442\\u0435\\u043b\\u044c\\u043d\\u043e\\u0435\"\n        ],\n        \"semantic_type\": \"\",\n        \"description\": \"\"\n      }\n    },\n    {\n      \"column\": \"initial_text\",\n      \"properties\": {\n        \"dtype\": \"string\",\n        \"num_unique_values\": 24448,\n        \"samples\": [\n          \"\\u00ab\\u0413\\u043e\\u043b\\u0433\\u043e\\u0444\\u0430\\u00bb \\u041d\\u0438\\u043a\\u043e\\u043b\\u0430\\u0439 \\u0413\\u0435, 1893 \\u0422\\u0440\\u0435\\u0442\\u044c\\u044f\\u043a\\u043e\\u0432\\u0441\\u043a\\u0430\\u044f \\u0433\\u0430\\u043b\\u0435\\u0440\\u0435\\u044f, \\u041c\\u043e\\u0441\\u043a\\u0432\\u0430  \\u0420\\u0430\\u0431\\u043e\\u0442\\u044b \\u041d\\u0438\\u043a\\u043e\\u043b\\u0430\\u044f \\u0413\\u0435 \\u043d\\u0430 \\u0431\\u0438\\u0431\\u043b\\u0435\\u0439\\u0441\\u043a\\u0443\\u044e \\u0442\\u0435\\u043c\\u0430\\u0442\\u0438\\u043a\\u0443 \\u0431\\u044b\\u043b\\u0438 \\u043c\\u0430\\u043a\\u0441\\u0438\\u043c\\u0430\\u043b\\u044c\\u043d\\u043e \\u0440\\u0435\\u0430\\u043b\\u0438\\u0441\\u0442\\u0438\\u0447\\u043d\\u044b, \\u043b\\u0438\\u0448\\u0435\\u043d\\u044b \\u043c\\u0438\\u0441\\u0442\\u0438\\u043a\\u0438. \\u041e\\u043d\\u0438 \\u0441\\u043b\\u043e\\u0432\\u043d\\u043e \\u043e\\u0442\\u0432\\u0435\\u0442 \\u043d\\u0430 \\u0432\\u043e\\u043f\\u0440\\u043e\\u0441 \\u0438\\u0437 \\u043f\\u0440\\u0438\\u043f\\u0435\\u0432\\u0430 \\u043f\\u0435\\u0441\\u043d\\u0438 What If God Was One Of Us  \\u2013 \\u00ab\\u0427\\u0442\\u043e \\u0435\\u0441\\u043b\\u0438 \\u0431\\u044b \\u0411\\u043e\\u0433 \\u0431\\u044b\\u043b \\u043e\\u0434\\u043d\\u0438\\u043c \\u0438\\u0437 \\u043d\\u0430\\u0441?\\u00bb.  \\u041d\\u043e \\u0434\\u0430\\u0436\\u0435 \\u0441\\u0440\\u0435\\u0434\\u0438 \\u043d\\u0438\\u0445 \\u043a\\u0430\\u0440\\u0442\\u0438\\u043d\\u0430 \\u00ab\\u0413\\u043e\\u043b\\u0433\\u043e\\u0444\\u0430\\u00bb \\u0432\\u044b\\u0434\\u0435\\u043b\\u044f\\u0435\\u0442\\u0441\\u044f \\u0441\\u0432\\u043e\\u0438\\u043c \\u043f\\u043e\\u0447\\u0442\\u0438 \\u044d\\u043a\\u0441\\u043f\\u0440\\u0435\\u0441\\u0441\\u0438\\u043e\\u043d\\u0438\\u0441\\u0442\\u0441\\u043a\\u0438\\u043c  \\u043d\\u0430\\u0442\\u0443\\u0440\\u0430\\u043b\\u0438\\u0437\\u043c\\u043e\\u043c. \\u0425\\u0440\\u0438\\u0441\\u0442\\u043e\\u0441 \\u0437\\u0434\\u0435\\u0441\\u044c \\u043d\\u0435 \\u043f\\u0440\\u043e\\u0441\\u0442\\u043e \\u0442\\u0435\\u043b\\u0435\\u0441\\u0435\\u043d: \\u043e\\u043d \\u0432\\u044b\\u0433\\u043b\\u044f\\u0434\\u0438\\u0442 \\u043c\\u0430\\u043b\\u0435\\u043d\\u044c\\u043a\\u0438\\u043c \\u0438 \\u043e\\u0442\\u0447\\u0430\\u044f\\u0432\\u0448\\u0438\\u043c\\u0441\\u044f. \\u0421\\u0445\\u0432\\u0430\\u0442\\u0438\\u0432\\u0448\\u0438\\u0441\\u044c \\u0437\\u0430 \\u0433\\u043e\\u043b\\u043e\\u0432\\u0443, \\u043e\\u043d \\u043a\\u0440\\u0438\\u0447\\u0438\\u0442 \\u0432 \\u043d\\u0435\\u0431\\u043e: \\u00ab\\u041e\\u0442\\u0447\\u0435! \\u0417\\u0430\\u0447\\u0435\\u043c \\u043e\\u0441\\u0442\\u0430\\u0432\\u0438\\u043b \\u0442\\u044b \\u043c\\u0435\\u043d\\u044f?\\u00bb.  \\u0420\\u0430\\u0437\\u0431\\u043e\\u0439\\u043d\\u0438\\u043a\\u0438 \\u0440\\u044f\\u0434\\u043e\\u043c \\u0437\\u0430\\u043c\\u0435\\u0442\\u043d\\u043e \\u0432\\u044b\\u0448\\u0435 \\u0418\\u0438\\u0441\\u0443\\u0441\\u0430. \\u041f\\u0440\\u0430\\u0432\\u044b\\u0439 \\u043e\\u0442 \\u043d\\u0430\\u0441 \\u0440\\u0430\\u0441\\u043a\\u0430\\u044f\\u043b\\u0441\\u044f \\u0438 \\u0441\\u043e \\u0441\\u0442\\u044b\\u0434\\u043e\\u043c \\u043e\\u043f\\u0443\\u0441\\u0442\\u0438\\u043b \\u0433\\u043e\\u043b\\u043e\\u0432\\u0443. \\u041b\\u0438\\u0446\\u043e \\u0436\\u0435 \\u043b\\u0435\\u0432\\u043e\\u0433\\u043e \\u0438\\u0441\\u043a\\u0430\\u0436\\u0435\\u043d\\u043e \\u0437\\u043b\\u043e\\u0431\\u043e\\u0439 \\u0437\\u0430\\u0433\\u043d\\u0430\\u043d\\u043d\\u043e\\u0433\\u043e \\u0432 \\u0443\\u0433\\u043e\\u043b \\u0437\\u0432\\u0435\\u0440\\u044f.  \\u0417\\u0430 \\u0438\\u0437\\u043e\\u0431\\u0440\\u0430\\u0436\\u0435\\u043d\\u0438\\u0435 \\u0425\\u0440\\u0438\\u0441\\u0442\\u0430 \\u0445\\u0443\\u0434\\u043e\\u0436\\u043d\\u0438\\u043a\\u0430 \\u0441\\u0438\\u043b\\u044c\\u043d\\u043e \\u043a\\u0440\\u0438\\u0442\\u0438\\u043a\\u043e\\u0432\\u0430\\u043b\\u0438. \\u041e\\u0441\\u043e\\u0431\\u0435\\u043d\\u043d\\u043e \\u043f\\u043e\\u0447\\u0435\\u043c\\u0443-\\u0442\\u043e \\u0437\\u0430 \\u0435\\u0433\\u043e \\u0432\\u0441\\u043a\\u043b\\u043e\\u043a\\u043e\\u0447\\u0435\\u043d\\u043d\\u044b\\u0435 \\u0432\\u043e\\u043b\\u043e\\u0441\\u044b. \\u041e\\u0434\\u043d\\u0430 \\u0438\\u0437 \\u043f\\u043e\\u043a\\u043b\\u043e\\u043d\\u043d\\u0438\\u0446 \\u0441\\u0435\\u0442\\u043e\\u0432\\u0430\\u043b\\u0430, \\u0447\\u0442\\u043e \\u043d\\u0435 \\u0432\\u0438\\u0434\\u043d\\u043e \\u0431\\u043b\\u0430\\u0433\\u043e\\u043e\\u0431\\u0440\\u0430\\u0437\\u043d\\u043e\\u0439 \\u0438 \\u0432\\u0435\\u043b\\u0438\\u0447\\u0430\\u0432\\u043e\\u0439 \\u0441\\u0432\\u044f\\u0442\\u043e\\u0441\\u0442\\u0438 \\u0421\\u044b\\u043d\\u0430 \\u0411\\u043e\\u0436\\u0438\\u044f.  \\u0413\\u0435 \\u043e\\u0442\\u0432\\u0435\\u0447\\u0430\\u043b: \\u00ab\\u0425\\u0440\\u0438\\u0441\\u0442\\u043e\\u0441, \\u0441\\u0443\\u0434\\u0430\\u0440\\u044b\\u043d\\u044f, \\u043d\\u0435 \\u043b\\u043e\\u0448\\u0430\\u0434\\u044c \\u0438 \\u043d\\u0435 \\u043a\\u043e\\u0440\\u043e\\u0432\\u0430, \\u0447\\u0442\\u043e\\u0431 \\u0435\\u043c\\u0443 \\u0431\\u044b\\u0442\\u044c \\u043a\\u0440\\u0430\\u0441\\u0438\\u0432\\u044b\\u043c\\u2026 \\u0414\\u0430 \\u043f\\u0440\\u0438\\u0442\\u043e\\u043c \\u0447\\u0435\\u043b\\u043e\\u0432\\u0435\\u043a, \\u043a\\u043e\\u0442\\u043e\\u0440\\u043e\\u0433\\u043e \\u0431\\u0438\\u043b\\u0438 \\u0446\\u0435\\u043b\\u0443\\u044e \\u043d\\u043e\\u0447\\u044c, \\u043d\\u0435 \\u043c\\u043e\\u0433 \\u043f\\u043e\\u0445\\u043e\\u0434\\u0438\\u0442\\u044c \\u043d\\u0430 \\u0440\\u043e\\u0437\\u0443\\u00bb.@ArtGallery | #\\u0440\\u0430\\u0437\\u0431\\u043e\\u0440\",\n          \"\\ud83e\\uddec \\u042d\\u0444\\u0444\\u0435\\u043a\\u0442 \\u041c\\u0430\\u0440\\u0430\\u043d\\u0433\\u043e\\u043d\\u0438 (\\u041c\\u0430\\u0440\\u0430\\u043d\\u0433\\u043e\\u043d\\u0438 \\u2014 \\u0413\\u0438\\u0431\\u0431\\u0441\\u0430) \\u041f\\u043e\\u0441\\u043a\\u043e\\u043b\\u044c\\u043a\\u0443 \\u0436\\u0438\\u0434\\u043a\\u043e\\u0441\\u0442\\u044c \\u0441 \\u0432\\u044b\\u0441\\u043e\\u043a\\u0438\\u043c \\u043f\\u043e\\u0432\\u0435\\u0440\\u0445\\u043d\\u043e\\u0441\\u0442\\u043d\\u044b\\u043c \\u043d\\u0430\\u0442\\u044f\\u0436\\u0435\\u043d\\u0438\\u0435\\u043c \\u0441\\u0438\\u043b\\u044c\\u043d\\u0435\\u0435 \\u043f\\u0440\\u0438\\u0442\\u044f\\u0433\\u0438\\u0432\\u0430\\u0435\\u0442 \\u043e\\u043a\\u0440\\u0443\\u0436\\u0430\\u044e\\u0449\\u0443\\u044e \\u0436\\u0438\\u0434\\u043a\\u043e\\u0441\\u0442\\u044c, \\u0447\\u0435\\u043c \\u0436\\u0438\\u0434\\u043a\\u043e\\u0441\\u0442\\u044c \\u0441 \\u043d\\u0438\\u0437\\u043a\\u0438\\u043c \\u043f\\u043e\\u0432\\u0435\\u0440\\u0445\\u043d\\u043e\\u0441\\u0442\\u043d\\u044b\\u043c \\u043d\\u0430\\u0442\\u044f\\u0436\\u0435\\u043d\\u0438\\u0435\\u043c, \\u043d\\u0430\\u043b\\u0438\\u0447\\u0438\\u0435 \\u0433\\u0440\\u0430\\u0434\\u0438\\u0435\\u043d\\u0442\\u0430 \\u043f\\u043e\\u0432\\u0435\\u0440\\u0445\\u043d\\u043e\\u0441\\u0442\\u043d\\u043e\\u0433\\u043e \\u043d\\u0430\\u0442\\u044f\\u0436\\u0435\\u043d\\u0438\\u044f \\u0435\\u0441\\u0442\\u0435\\u0441\\u0442\\u0432\\u0435\\u043d\\u043d\\u044b\\u043c \\u043e\\u0431\\u0440\\u0430\\u0437\\u043e\\u043c \\u043f\\u0440\\u0438\\u0432\\u0435\\u0434\\u0435\\u0442 \\u043a \\u0432\\u044b\\u0442\\u0435\\u043a\\u0430\\u043d\\u0438\\u044e \\u0436\\u0438\\u0434\\u043a\\u043e\\u0441\\u0442\\u0438 \\u0438\\u0437 \\u043e\\u0431\\u043b\\u0430\\u0441\\u0442\\u0435\\u0439 \\u0441 \\u043d\\u0438\\u0437\\u043a\\u0438\\u043c \\u043f\\u043e\\u0432\\u0435\\u0440\\u0445\\u043d\\u043e\\u0441\\u0442\\u043d\\u044b\\u043c \\u043d\\u0430\\u0442\\u044f\\u0436\\u0435\\u043d\\u0438\\u0435\\u043c.\\u0412 \\u0441\\u043b\\u0443\\u0447\\u0430\\u0435 \\u0441 \\u043b\\u0438\\u0441\\u0442\\u043e\\u0447\\u043a\\u043e\\u043c \\u0431\\u0443\\u043c\\u0430\\u0433\\u0438 \\u0438 \\u0447\\u0435\\u0440\\u043d\\u0438\\u043b\\u0430\\u043c\\u0438 \\u043f\\u043e\\u043b\\u0443\\u0447\\u0430\\u0435\\u0442\\u0441\\u044f \\u043f\\u043e\\u0434\\u043e\\u0431\\u0438\\u0435 \\u0440\\u0435\\u0430\\u043a\\u0442\\u0438\\u0432\\u043d\\u043e\\u0433\\u043e \\u0434\\u0432\\u0438\\u0436\\u0435\\u043d\\u0438\\u044f. \\u041a\\u0440\\u0430\\u0441\\u0438\\u0432\\u043e, \\u0434\\u0430? :)\\u0413\\u0440\\u0430\\u0434\\u0438\\u0435\\u043d\\u0442 \\u043f\\u043e\\u0432\\u0435\\u0440\\u0445\\u043d\\u043e\\u0441\\u0442\\u043d\\u043e\\u0433\\u043e \\u043d\\u0430\\u0442\\u044f\\u0436\\u0435\\u043d\\u0438\\u044f \\u043c\\u043e\\u0436\\u0435\\u0442 \\u0431\\u044b\\u0442\\u044c \\u0432\\u044b\\u0437\\u0432\\u0430\\u043d \\u0433\\u0440\\u0430\\u0434\\u0438\\u0435\\u043d\\u0442\\u043e\\u043c \\u043a\\u043e\\u043d\\u0446\\u0435\\u043d\\u0442\\u0440\\u0430\\u0446\\u0438\\u0438 \\u0438\\u043b\\u0438 \\u0433\\u0440\\u0430\\u0434\\u0438\\u0435\\u043d\\u0442\\u043e\\u043c \\u0442\\u0435\\u043c\\u043f\\u0435\\u0440\\u0430\\u0442\\u0443\\u0440\\u044b (\\u043f\\u043e\\u0432\\u0435\\u0440\\u0445\\u043d\\u043e\\u0441\\u0442\\u043d\\u043e\\u0435 \\u043d\\u0430\\u0442\\u044f\\u0436\\u0435\\u043d\\u0438\\u0435 \\u044f\\u0432\\u043b\\u044f\\u0435\\u0442\\u0441\\u044f \\u0444\\u0443\\u043d\\u043a\\u0446\\u0438\\u0435\\u0439 \\u0442\\u0435\\u043c\\u043f\\u0435\\u0440\\u0430\\u0442\\u0443\\u0440\\u044b).\\ud83d\\udca1 Physics.Math.Code #gif #\\u0444\\u0438\\u0437\\u0438\\u043a\\u0430 #physics #\\u043c\\u043a\\u0442\",\n          \"\\u0412\\u043e\\u0442 \\u0447\\u0442\\u043e \\u0431\\u0443\\u0434\\u0435\\u0442, \\u0435\\u0441\\u043b\\u0438 \\u0447\\u0435\\u0441\\u0442\\u043d\\u043e \\u0441\\u043f\\u0440\\u043e\\u0441\\u0438\\u0442\\u044c \\u0437\\u0430\\u0441\\u0442\\u0440\\u043e\\u0439\\u0449\\u0438\\u043a\\u043e\\u0432 \\u043e \\u0442\\u043e\\u043c, \\u0447\\u0442\\u043e \\u043f\\u0440\\u043e\\u0438\\u0441\\u0445\\u043e\\u0434\\u0438\\u0442 \\u043d\\u0430 \\u0440\\u044b\\u043d\\u043a\\u0435 \\u043d\\u0435\\u0434\\u0432\\u0438\\u0436\\u0438\\u043c\\u043e\\u0441\\u0442\\u0438 \\u0441\\u0435\\u0439\\u0447\\u0430\\u0441.\\u042d\\u0442\\u043e \\u0432\\u0430\\u043c \\u043d\\u0435 \\u0438\\u043d\\u0442\\u0435\\u0440\\u0432\\u044c\\u044e \\u043f\\u0440\\u043e \\u0442\\u043e, \\u0447\\u0442\\u043e \\u0432\\u043e\\u0442-\\u0432\\u043e\\u0442 \\u0432\\u0441\\u0435 \\u043d\\u0430\\u043b\\u0430\\u0434\\u0438\\u0442\\u044c\\u0441\\u044f \\u0438 \\u043d\\u0430\\u0434\\u043e \\u043f\\u0435\\u0440\\u0435\\u0436\\u0434\\u0430\\u0442\\u044c. \\u042d\\u0442\\u043e \\u0438\\u0441\\u043a\\u0440\\u0435\\u043d\\u043d\\u0438\\u0435 \\u0441\\u043b\\u043e\\u0432\\u0430 \\u0443\\u0447\\u0430\\u0441\\u0442\\u043d\\u0438\\u043a\\u043e\\u0432 \\u0440\\u044b\\u043d\\u043a\\u0430 \\u0431\\u0435\\u0437 \\u0446\\u0435\\u043d\\u0437\\u0443\\u0440\\u044b.\\u041d\\u0430*\\u0443\\u0439 \\u044d\\u0442\\u0443 \\u043d\\u0435\\u043e\\u043f\\u0440\\u0435\\u0434\\u0435\\u043b\\u0435\\u043d\\u043d\\u043e\\u0441\\u0442\\u044c, \\u0432 \\u043e\\u0431\\u0449\\u0435\\u043c :)\"\n        ],\n        \"semantic_type\": \"\",\n        \"description\": \"\"\n      }\n    }\n  ]\n}"
            }
          },
          "metadata": {},
          "execution_count": 15
        }
      ]
    },
    {
      "cell_type": "code",
      "source": [
        "# возьмем только первые сто ради экономии времени\n",
        "df_red = df[['content', 'label']].iloc[:10000, :]"
      ],
      "metadata": {
        "id": "xbv7wwW4vO9J"
      },
      "execution_count": 81,
      "outputs": []
    },
    {
      "cell_type": "code",
      "source": [
        "# кодируем класс\n",
        "df_red['sen_enc'] = LabelEncoder().fit_transform(df_red['label'])"
      ],
      "metadata": {
        "id": "-w-Qch5UvVzp"
      },
      "execution_count": 82,
      "outputs": []
    },
    {
      "cell_type": "code",
      "source": [
        "df_red.head()"
      ],
      "metadata": {
        "colab": {
          "base_uri": "https://localhost:8080/",
          "height": 206
        },
        "id": "1qXjd7YUvbQb",
        "outputId": "09a47f43-d01e-4ec9-a54a-3a624d92c58c"
      },
      "execution_count": 83,
      "outputs": [
        {
          "output_type": "execute_result",
          "data": {
            "text/plain": [
              "                                             content  \\\n",
              "0  Две ссылкиРас: https://t.me/PlushevChannel/224...   \n",
              "1  @firstartclub | #обзор«Отец», Константин Аполл...   \n",
              "2  pov: когда объясняют новую тему урока, а ты ещ...   \n",
              "3  ⚡️Грузинская авиакомпания Georgian Airways зап...   \n",
              "4  Интересуешься историей и людьми, которые ее со...   \n",
              "\n",
              "                        label  sen_enc  \n",
              "0                  технологии        4  \n",
              "1                   искусство        1  \n",
              "2  образование_познавательное        3  \n",
              "3                   маркетинг        2  \n",
              "4  образование_познавательное        3  "
            ],
            "text/html": [
              "\n",
              "  <div id=\"df-fb42c294-f17f-4314-8b68-96ce6edbaf3f\" class=\"colab-df-container\">\n",
              "    <div>\n",
              "<style scoped>\n",
              "    .dataframe tbody tr th:only-of-type {\n",
              "        vertical-align: middle;\n",
              "    }\n",
              "\n",
              "    .dataframe tbody tr th {\n",
              "        vertical-align: top;\n",
              "    }\n",
              "\n",
              "    .dataframe thead th {\n",
              "        text-align: right;\n",
              "    }\n",
              "</style>\n",
              "<table border=\"1\" class=\"dataframe\">\n",
              "  <thead>\n",
              "    <tr style=\"text-align: right;\">\n",
              "      <th></th>\n",
              "      <th>content</th>\n",
              "      <th>label</th>\n",
              "      <th>sen_enc</th>\n",
              "    </tr>\n",
              "  </thead>\n",
              "  <tbody>\n",
              "    <tr>\n",
              "      <th>0</th>\n",
              "      <td>Две ссылкиРас: https://t.me/PlushevChannel/224...</td>\n",
              "      <td>технологии</td>\n",
              "      <td>4</td>\n",
              "    </tr>\n",
              "    <tr>\n",
              "      <th>1</th>\n",
              "      <td>@firstartclub | #обзор«Отец», Константин Аполл...</td>\n",
              "      <td>искусство</td>\n",
              "      <td>1</td>\n",
              "    </tr>\n",
              "    <tr>\n",
              "      <th>2</th>\n",
              "      <td>pov: когда объясняют новую тему урока, а ты ещ...</td>\n",
              "      <td>образование_познавательное</td>\n",
              "      <td>3</td>\n",
              "    </tr>\n",
              "    <tr>\n",
              "      <th>3</th>\n",
              "      <td>⚡️Грузинская авиакомпания Georgian Airways зап...</td>\n",
              "      <td>маркетинг</td>\n",
              "      <td>2</td>\n",
              "    </tr>\n",
              "    <tr>\n",
              "      <th>4</th>\n",
              "      <td>Интересуешься историей и людьми, которые ее со...</td>\n",
              "      <td>образование_познавательное</td>\n",
              "      <td>3</td>\n",
              "    </tr>\n",
              "  </tbody>\n",
              "</table>\n",
              "</div>\n",
              "    <div class=\"colab-df-buttons\">\n",
              "\n",
              "  <div class=\"colab-df-container\">\n",
              "    <button class=\"colab-df-convert\" onclick=\"convertToInteractive('df-fb42c294-f17f-4314-8b68-96ce6edbaf3f')\"\n",
              "            title=\"Convert this dataframe to an interactive table.\"\n",
              "            style=\"display:none;\">\n",
              "\n",
              "  <svg xmlns=\"http://www.w3.org/2000/svg\" height=\"24px\" viewBox=\"0 -960 960 960\">\n",
              "    <path d=\"M120-120v-720h720v720H120Zm60-500h600v-160H180v160Zm220 220h160v-160H400v160Zm0 220h160v-160H400v160ZM180-400h160v-160H180v160Zm440 0h160v-160H620v160ZM180-180h160v-160H180v160Zm440 0h160v-160H620v160Z\"/>\n",
              "  </svg>\n",
              "    </button>\n",
              "\n",
              "  <style>\n",
              "    .colab-df-container {\n",
              "      display:flex;\n",
              "      gap: 12px;\n",
              "    }\n",
              "\n",
              "    .colab-df-convert {\n",
              "      background-color: #E8F0FE;\n",
              "      border: none;\n",
              "      border-radius: 50%;\n",
              "      cursor: pointer;\n",
              "      display: none;\n",
              "      fill: #1967D2;\n",
              "      height: 32px;\n",
              "      padding: 0 0 0 0;\n",
              "      width: 32px;\n",
              "    }\n",
              "\n",
              "    .colab-df-convert:hover {\n",
              "      background-color: #E2EBFA;\n",
              "      box-shadow: 0px 1px 2px rgba(60, 64, 67, 0.3), 0px 1px 3px 1px rgba(60, 64, 67, 0.15);\n",
              "      fill: #174EA6;\n",
              "    }\n",
              "\n",
              "    .colab-df-buttons div {\n",
              "      margin-bottom: 4px;\n",
              "    }\n",
              "\n",
              "    [theme=dark] .colab-df-convert {\n",
              "      background-color: #3B4455;\n",
              "      fill: #D2E3FC;\n",
              "    }\n",
              "\n",
              "    [theme=dark] .colab-df-convert:hover {\n",
              "      background-color: #434B5C;\n",
              "      box-shadow: 0px 1px 3px 1px rgba(0, 0, 0, 0.15);\n",
              "      filter: drop-shadow(0px 1px 2px rgba(0, 0, 0, 0.3));\n",
              "      fill: #FFFFFF;\n",
              "    }\n",
              "  </style>\n",
              "\n",
              "    <script>\n",
              "      const buttonEl =\n",
              "        document.querySelector('#df-fb42c294-f17f-4314-8b68-96ce6edbaf3f button.colab-df-convert');\n",
              "      buttonEl.style.display =\n",
              "        google.colab.kernel.accessAllowed ? 'block' : 'none';\n",
              "\n",
              "      async function convertToInteractive(key) {\n",
              "        const element = document.querySelector('#df-fb42c294-f17f-4314-8b68-96ce6edbaf3f');\n",
              "        const dataTable =\n",
              "          await google.colab.kernel.invokeFunction('convertToInteractive',\n",
              "                                                    [key], {});\n",
              "        if (!dataTable) return;\n",
              "\n",
              "        const docLinkHtml = 'Like what you see? Visit the ' +\n",
              "          '<a target=\"_blank\" href=https://colab.research.google.com/notebooks/data_table.ipynb>data table notebook</a>'\n",
              "          + ' to learn more about interactive tables.';\n",
              "        element.innerHTML = '';\n",
              "        dataTable['output_type'] = 'display_data';\n",
              "        await google.colab.output.renderOutput(dataTable, element);\n",
              "        const docLink = document.createElement('div');\n",
              "        docLink.innerHTML = docLinkHtml;\n",
              "        element.appendChild(docLink);\n",
              "      }\n",
              "    </script>\n",
              "  </div>\n",
              "\n",
              "\n",
              "<div id=\"df-408afb54-1e22-4c43-8755-c186b39cb6bb\">\n",
              "  <button class=\"colab-df-quickchart\" onclick=\"quickchart('df-408afb54-1e22-4c43-8755-c186b39cb6bb')\"\n",
              "            title=\"Suggest charts\"\n",
              "            style=\"display:none;\">\n",
              "\n",
              "<svg xmlns=\"http://www.w3.org/2000/svg\" height=\"24px\"viewBox=\"0 0 24 24\"\n",
              "     width=\"24px\">\n",
              "    <g>\n",
              "        <path d=\"M19 3H5c-1.1 0-2 .9-2 2v14c0 1.1.9 2 2 2h14c1.1 0 2-.9 2-2V5c0-1.1-.9-2-2-2zM9 17H7v-7h2v7zm4 0h-2V7h2v10zm4 0h-2v-4h2v4z\"/>\n",
              "    </g>\n",
              "</svg>\n",
              "  </button>\n",
              "\n",
              "<style>\n",
              "  .colab-df-quickchart {\n",
              "      --bg-color: #E8F0FE;\n",
              "      --fill-color: #1967D2;\n",
              "      --hover-bg-color: #E2EBFA;\n",
              "      --hover-fill-color: #174EA6;\n",
              "      --disabled-fill-color: #AAA;\n",
              "      --disabled-bg-color: #DDD;\n",
              "  }\n",
              "\n",
              "  [theme=dark] .colab-df-quickchart {\n",
              "      --bg-color: #3B4455;\n",
              "      --fill-color: #D2E3FC;\n",
              "      --hover-bg-color: #434B5C;\n",
              "      --hover-fill-color: #FFFFFF;\n",
              "      --disabled-bg-color: #3B4455;\n",
              "      --disabled-fill-color: #666;\n",
              "  }\n",
              "\n",
              "  .colab-df-quickchart {\n",
              "    background-color: var(--bg-color);\n",
              "    border: none;\n",
              "    border-radius: 50%;\n",
              "    cursor: pointer;\n",
              "    display: none;\n",
              "    fill: var(--fill-color);\n",
              "    height: 32px;\n",
              "    padding: 0;\n",
              "    width: 32px;\n",
              "  }\n",
              "\n",
              "  .colab-df-quickchart:hover {\n",
              "    background-color: var(--hover-bg-color);\n",
              "    box-shadow: 0 1px 2px rgba(60, 64, 67, 0.3), 0 1px 3px 1px rgba(60, 64, 67, 0.15);\n",
              "    fill: var(--button-hover-fill-color);\n",
              "  }\n",
              "\n",
              "  .colab-df-quickchart-complete:disabled,\n",
              "  .colab-df-quickchart-complete:disabled:hover {\n",
              "    background-color: var(--disabled-bg-color);\n",
              "    fill: var(--disabled-fill-color);\n",
              "    box-shadow: none;\n",
              "  }\n",
              "\n",
              "  .colab-df-spinner {\n",
              "    border: 2px solid var(--fill-color);\n",
              "    border-color: transparent;\n",
              "    border-bottom-color: var(--fill-color);\n",
              "    animation:\n",
              "      spin 1s steps(1) infinite;\n",
              "  }\n",
              "\n",
              "  @keyframes spin {\n",
              "    0% {\n",
              "      border-color: transparent;\n",
              "      border-bottom-color: var(--fill-color);\n",
              "      border-left-color: var(--fill-color);\n",
              "    }\n",
              "    20% {\n",
              "      border-color: transparent;\n",
              "      border-left-color: var(--fill-color);\n",
              "      border-top-color: var(--fill-color);\n",
              "    }\n",
              "    30% {\n",
              "      border-color: transparent;\n",
              "      border-left-color: var(--fill-color);\n",
              "      border-top-color: var(--fill-color);\n",
              "      border-right-color: var(--fill-color);\n",
              "    }\n",
              "    40% {\n",
              "      border-color: transparent;\n",
              "      border-right-color: var(--fill-color);\n",
              "      border-top-color: var(--fill-color);\n",
              "    }\n",
              "    60% {\n",
              "      border-color: transparent;\n",
              "      border-right-color: var(--fill-color);\n",
              "    }\n",
              "    80% {\n",
              "      border-color: transparent;\n",
              "      border-right-color: var(--fill-color);\n",
              "      border-bottom-color: var(--fill-color);\n",
              "    }\n",
              "    90% {\n",
              "      border-color: transparent;\n",
              "      border-bottom-color: var(--fill-color);\n",
              "    }\n",
              "  }\n",
              "</style>\n",
              "\n",
              "  <script>\n",
              "    async function quickchart(key) {\n",
              "      const quickchartButtonEl =\n",
              "        document.querySelector('#' + key + ' button');\n",
              "      quickchartButtonEl.disabled = true;  // To prevent multiple clicks.\n",
              "      quickchartButtonEl.classList.add('colab-df-spinner');\n",
              "      try {\n",
              "        const charts = await google.colab.kernel.invokeFunction(\n",
              "            'suggestCharts', [key], {});\n",
              "      } catch (error) {\n",
              "        console.error('Error during call to suggestCharts:', error);\n",
              "      }\n",
              "      quickchartButtonEl.classList.remove('colab-df-spinner');\n",
              "      quickchartButtonEl.classList.add('colab-df-quickchart-complete');\n",
              "    }\n",
              "    (() => {\n",
              "      let quickchartButtonEl =\n",
              "        document.querySelector('#df-408afb54-1e22-4c43-8755-c186b39cb6bb button');\n",
              "      quickchartButtonEl.style.display =\n",
              "        google.colab.kernel.accessAllowed ? 'block' : 'none';\n",
              "    })();\n",
              "  </script>\n",
              "</div>\n",
              "    </div>\n",
              "  </div>\n"
            ],
            "application/vnd.google.colaboratory.intrinsic+json": {
              "type": "dataframe",
              "variable_name": "df_red",
              "summary": "{\n  \"name\": \"df_red\",\n  \"rows\": 10000,\n  \"fields\": [\n    {\n      \"column\": \"content\",\n      \"properties\": {\n        \"dtype\": \"string\",\n        \"num_unique_values\": 9936,\n        \"samples\": [\n          \"\\u041f\\u043e\\u0438\\u0441\\u043a \\u042f\\u043d\\u0434\\u0435\\u043a\\u0441\\u0430 \\u0434\\u043b\\u044f \\u043f\\u0440\\u043e\\u0433\\u0440\\u0430\\u043c\\u043c\\u0438\\u0441\\u0442\\u043e\\u0432 \\u0441\\u0442\\u0430\\u043b \\u0442\\u043e\\u0447\\u043d\\u0435\\u0435 \\ud83d\\udc69\\u200d\\ud83d\\udcbb\\u0427\\u0442\\u043e \\u0431\\u044b\\u043b\\u043e: \\u0412 \\u041f\\u043e\\u0438\\u0441\\u043a\\u0435 \\u0440\\u0430\\u0431\\u043e\\u0442\\u0430\\u0435\\u0442 \\u043d\\u0435\\u0439\\u0440\\u043e\\u0441\\u0435\\u0442\\u044c YaTI. \\u041e\\u043d\\u0430 \\u0438\\u0449\\u0435\\u0442 \\u0432 \\u0438\\u043d\\u0442\\u0435\\u0440\\u043d\\u0435\\u0442\\u0435 \\u043d\\u0435 \\u043f\\u043e \\u0441\\u043b\\u043e\\u0432\\u0430\\u043c, \\u0430 \\u043f\\u043e \\u0441\\u043c\\u044b\\u0441\\u043b\\u0443. YaTI \\u0441\\u0432\\u044f\\u0437\\u044b\\u0432\\u0430\\u0435\\u0442 \\u0437\\u0430\\u043f\\u0440\\u043e\\u0441\\u044b \\u0441 \\u0438\\u043d\\u0444\\u043e\\u0440\\u043c\\u0430\\u0446\\u0438\\u0435\\u0439 \\u043d\\u0430 \\u0441\\u0442\\u0440\\u0430\\u043d\\u0438\\u0446\\u0430\\u0445 \\u0438 \\u043f\\u043e\\u043d\\u0438\\u043c\\u0430\\u0435\\u0442, \\u0447\\u0442\\u043e \\u0444\\u0440\\u0430\\u0437\\u044b \\u00ab\\u043f\\u0430\\u0440\\u043a \\u0440\\u0430\\u0437\\u0432\\u043b\\u0435\\u0447\\u0435\\u043d\\u0438\\u0439\\u00bb \\u0438 \\u00ab\\u0430\\u043c\\u0435\\u0440\\u0438\\u043a\\u0430\\u043d\\u0441\\u043a\\u0438\\u0435 \\u0433\\u043e\\u0440\\u043a\\u0438\\u00bb \\u0431\\u043b\\u0438\\u0437\\u043a\\u0438 \\u043f\\u043e \\u0437\\u043d\\u0430\\u0447\\u0435\\u043d\\u0438\\u044e.\\u0427\\u0442\\u043e \\u0442\\u0435\\u043f\\u0435\\u0440\\u044c: YaTI \\u0434\\u0435\\u043b\\u0430\\u0435\\u0442 \\u0442\\u043e \\u0436\\u0435 \\u0441\\u0430\\u043c\\u043e\\u0435, \\u043d\\u043e \\u0441 \\u0434\\u043e\\u043a\\u0443\\u043c\\u0435\\u043d\\u0442\\u0430\\u0446\\u0438\\u0435\\u0439 \\u0440\\u0430\\u0437\\u0440\\u0430\\u0431\\u043e\\u0442\\u0447\\u0438\\u043a\\u043e\\u0432. \\u041e\\u043d\\u0430 \\u0438\\u0437\\u0443\\u0447\\u0438\\u043b\\u0430 \\u0441\\u0430\\u0439\\u0442\\u044b \\u0434\\u043b\\u044f \\u043f\\u0440\\u043e\\u0433\\u0440\\u0430\\u043c\\u043c\\u0438\\u0441\\u0442\\u043e\\u0432 \\u0438 \\u0441\\u0432\\u044f\\u0437\\u0430\\u043b\\u0430 \\u0438\\u0445 \\u0441\\u043e \\u0441\\u043f\\u0435\\u0446\\u0438\\u0430\\u043b\\u0438\\u0437\\u0438\\u0440\\u043e\\u0432\\u0430\\u043d\\u043d\\u044b\\u043c\\u0438 \\u043f\\u043e\\u0438\\u0441\\u043a\\u043e\\u0432\\u044b\\u043c\\u0438 \\u0437\\u0430\\u043f\\u0440\\u043e\\u0441\\u0430\\u043c\\u0438. \\u0412 \\u044d\\u0442\\u043e\\u043c \\u043f\\u043e\\u043c\\u043e\\u0433\\u043b\\u0438 \\u044d\\u043a\\u0441\\u043f\\u0435\\u0440\\u0442\\u044b-\\u043f\\u0440\\u043e\\u0433\\u0440\\u0430\\u043c\\u043c\\u0438\\u0441\\u0442\\u044b, \\u043a\\u043e\\u0442\\u043e\\u0440\\u044b\\u0435 \\u043f\\u043e\\u043a\\u0430\\u0437\\u0430\\u043b\\u0438 \\u043d\\u0430\\u0438\\u0431\\u043e\\u043b\\u0435\\u0435 \\u0440\\u0435\\u043b\\u0435\\u0432\\u0430\\u043d\\u0442\\u043d\\u044b\\u0435 \\u0434\\u043e\\u043a\\u0443\\u043c\\u0435\\u043d\\u0442\\u044b, \\u0438 \\u043d\\u043e\\u0432\\u0430\\u044f \\u043d\\u0435\\u0439\\u0440\\u043e\\u0441\\u0435\\u0442\\u044c \\u2014 CS YaTI. \\u0422\\u043e \\u0435\\u0441\\u0442\\u044c Computer Science YaTI.\\u0411\\u043e\\u043d\\u0443\\u0441: \\u0412 \\u041f\\u043e\\u0438\\u0441\\u043a\\u0435 \\u043f\\u043e\\u044f\\u0432\\u0438\\u043b\\u0441\\u044f \\u043d\\u043e\\u0432\\u044b\\u0439, \\u0431\\u043e\\u043b\\u0435\\u0435 \\u043f\\u043e\\u0434\\u0440\\u043e\\u0431\\u043d\\u044b\\u0439 \\u0431\\u043b\\u043e\\u043a \\u0441 \\u043e\\u0442\\u0432\\u0435\\u0442\\u0430\\u043c\\u0438 \\u0438\\u0437 Stack Overflow. \\u0412 \\u043d\\u0451\\u043c \\u043d\\u0435 \\u0442\\u043e\\u043b\\u044c\\u043a\\u043e \\u043e\\u0442\\u0432\\u0435\\u0442, \\u043d\\u043e \\u0438 \\u0441\\u0430\\u043c \\u043a\\u043e\\u0434.\",\n          \"\\u041d\\u043e\\u0432\\u043e\\u0441\\u0442\\u0438 \\u041a\\u043e\\u0432\\u0438\\u0434\\u043b\\u044b: \\u0410\\u0440\\u043a\\u0442\\u0443\\u0440 \\u0438 \\u041a\\u0440\\u0430\\u043a\\u0435\\u043d (\\u044d\\u0442\\u043e \\u043f\\u043e\\u0445\\u043e\\u0436\\u0438\\u0435 \\u0432\\u0430\\u0440\\u0438\\u0430\\u043d\\u0442\\u044b \\u0441\\u0435\\u043c\\u0435\\u0439\\u0441\\u0442\\u0432\\u0430 XBB \\u043d\\u0430 \\u043a\\u043e\\u0442\\u043e\\u0440\\u044b\\u0435 \\u0433\\u043e\\u0442\\u043e\\u0432\\u044f\\u0442 \\u043d\\u043e\\u0432\\u0443\\u044e \\u0432\\u0430\\u043a\\u0446\\u0438\\u043d\\u0443) \\u043f\\u043e\\u0447\\u0442\\u0438 \\u043f\\u043e\\u0434\\u0432\\u0438\\u043d\\u0443\\u0442\\u044b \\u043d\\u043e\\u0432\\u044b\\u043c\\u0438 \\u043f\\u0430\\u0440\\u043d\\u044f\\u043c\\u0438 \\u043d\\u0430 \\u0440\\u0430\\u0439\\u043e\\u043d\\u0435. \\u042d\\u0442\\u0438 \\u043f\\u043e\\u0434\\u0432\\u0430\\u0440\\u0438\\u0430\\u043d\\u0442\\u044b \\u043e\\u043c\\u0438\\u043a\\u0440\\u043e\\u043d\\u043e\\u0432, EG.5 \\u0438 XBB.2.3, \\u043f\\u043e\\u043a\\u0430 \\u043d\\u0435 \\u043f\\u043e\\u043b\\u0443\\u0447\\u0438\\u043b\\u0438 \\u0438\\u043c\\u0435\\u043d\\u043d\\u044b\\u0435 \\u044f\\u0440\\u043b\\u044b\\u043a\\u0438. \\u041a\\u0430\\u0436\\u0434\\u044b\\u0439 \\u0438\\u0437 \\u043d\\u0438\\u0445 \\u0441\\u043e\\u0441\\u0442\\u0430\\u0432\\u0438\\u043b 13% \\u043d\\u043e\\u0432\\u044b\\u0445 \\u0438\\u043d\\u0444\\u0435\\u043a\\u0446\\u0438\\u0439 \\u0437\\u0430 \\u043f\\u043e\\u0441\\u043b\\u0435\\u0434\\u043d\\u0438\\u0435 \\u0434\\u0432\\u0435 \\u043d\\u0435\\u0434\\u0435\\u043b\\u0438. \\u0410\\u0440\\u043a\\u0442\\u0443\\u0440 \\u043d\\u0430 \\u043f\\u0435\\u0440\\u0432\\u043e\\u043c \\u043c\\u0435\\u0441\\u0442\\u0435 \\u0441 17 \\u043f\\u0440\\u043e\\u0446\\u0435\\u043d\\u0442\\u0430\\u043c\\u0438, \\u0430 \\u041a\\u0440\\u0430\\u043a\\u0435\\u043d \\u043d\\u0430 \\u0432\\u0442\\u043e\\u0440\\u043e\\u043c, \\u0441 16 %. \\u041e\\u0441\\u0442\\u0430\\u043b\\u044c\\u043d\\u043e\\u0435 - \\u043a\\u0443\\u0447\\u0430 \\u0440\\u0430\\u0437\\u043d\\u044b\\u0445 \\u0437\\u0432\\u0435\\u0440\\u0443\\u0448\\u0435\\u043a, \\u043f\\u0442\\u0438\\u0442\\u043e\\u043c \\u0438 \\u043d\\u043e\\u043d\\u043f\\u0430\\u0440\\u0435\\u043b\\u044c\\u044e.\",\n          \"\\u041c\\u0438\\u043a\\u0440\\u043e\\u0445\\u0438\\u0440\\u0443\\u0440\\u0433\\u0438 \\u041f\\u0435\\u0434\\u0438\\u0430\\u0442\\u0440\\u0438\\u0447\\u0435\\u0441\\u043a\\u043e\\u0433\\u043e \\u0443\\u043d\\u0438\\u0432\\u0435\\u0440\\u0441\\u0438\\u0442\\u0435\\u0442\\u0430 \\u0432\\u043e\\u0441\\u0441\\u0442\\u0430\\u043d\\u043e\\u0432\\u0438\\u043b\\u0438 \\u0440\\u0443\\u043a\\u0443 \\u044e\\u043d\\u043e\\u0448\\u0435, \\u043a\\u043e\\u0442\\u043e\\u0440\\u044b\\u0439 \\u0441\\u0435\\u0440\\u044c\\u0435\\u0437\\u043d\\u043e \\u043f\\u043e\\u0440\\u0430\\u043d\\u0438\\u043b \\u0435\\u0435 \\u043d\\u0430 \\u0434\\u0430\\u0447\\u043517-\\u043b\\u0435\\u0442\\u043d\\u0438\\u0439 \\u044e\\u043d\\u043e\\u0448\\u0430 \\u0441\\u0435\\u0440\\u044c\\u0435\\u0437\\u043d\\u043e \\u043f\\u043e\\u0440\\u0430\\u043d\\u0438\\u043b \\u0440\\u0443\\u043a\\u0443 \\u043c\\u043e\\u0442\\u043e\\u0446\\u0438\\u043a\\u043b\\u0435\\u0442\\u043d\\u043e\\u0439 \\u0446\\u0435\\u043f\\u044c\\u044e \\u043d\\u0430 \\u0434\\u0430\\u0447\\u0435.\\u041f\\u043e\\u0434\\u0440\\u043e\\u0441\\u0442\\u043e\\u043a \\u0441\\u0430\\u043c\\u043e\\u0441\\u0442\\u043e\\u044f\\u0442\\u0435\\u043b\\u044c\\u043d\\u043e \\u0432 \\u0441\\u043e\\u043f\\u0440\\u043e\\u0432\\u043e\\u0436\\u0434\\u0435\\u043d\\u0438\\u0438 \\u0440\\u043e\\u0434\\u043d\\u044b\\u0445 \\u043f\\u0440\\u0438\\u0431\\u044b\\u043b \\u0432 \\u043a\\u043b\\u0438\\u043d\\u0438\\u043a\\u0443 \\u0443\\u043d\\u0438\\u0432\\u0435\\u0440\\u0441\\u0438\\u0442\\u0435\\u0442\\u0430, \\u0437\\u043d\\u0430\\u044f, \\u0447\\u0442\\u043e \\u0437\\u0434\\u0435\\u0441\\u044c \\u0440\\u0430\\u0431\\u043e\\u0442\\u0430\\u0435\\u0442 \\u0435\\u0434\\u0438\\u043d\\u0441\\u0442\\u0432\\u0435\\u043d\\u043d\\u044b\\u0439 \\u043d\\u0430 \\u0421\\u0435\\u0432\\u0435\\u0440\\u043e-\\u0417\\u0430\\u043f\\u0430\\u0434\\u0435 \\u043c\\u0438\\u043a\\u0440\\u043e\\u0445\\u0438\\u0440\\u0443\\u0440\\u0433\\u0438\\u0447\\u0435\\u0441\\u043a\\u0438\\u0439 \\u0434\\u0435\\u0442\\u0441\\u043a\\u0438\\u0439 \\u0446\\u0435\\u043d\\u0442\\u0440.\\u041c\\u043e\\u043b\\u043e\\u0434\\u043e\\u0433\\u043e \\u0447\\u0435\\u043b\\u043e\\u0432\\u0435\\u043a\\u0430 \\u043e\\u0441\\u043c\\u043e\\u0442\\u0440\\u0435\\u043b \\u0438 \\u0441\\u0440\\u0430\\u0437\\u0443 \\u043d\\u0430\\u043f\\u0440\\u0430\\u0432\\u0438\\u043b \\u0432 \\u043e\\u043f\\u0435\\u0440\\u0430\\u0446\\u0438\\u043e\\u043d\\u043d\\u0443\\u044e \\u0445\\u0438\\u0440\\u0443\\u0440\\u0433 \\u043a\\u0430\\u043d\\u0434\\u0438\\u0434\\u0430\\u0442 \\u043d\\u0430\\u0443\\u043a \\u041c\\u0438\\u0445\\u0430\\u0438\\u043b \\u0410\\u0437\\u0430\\u0440\\u043e\\u0432. \\u041e\\u043d \\u0436\\u0435 \\u043f\\u0440\\u043e\\u0432\\u043e\\u0434\\u0438\\u043b \\u043e\\u043f\\u0435\\u0440\\u0430\\u0446\\u0438\\u044e.\\u0411\\u044b\\u043b\\u0430 \\u0432\\u044b\\u043f\\u043e\\u043b\\u043d\\u0435\\u043d\\u0430 \\u043e\\u043f\\u0435\\u0440\\u0430\\u0446\\u0438\\u044f \\u043f\\u043e \\u0444\\u043e\\u0440\\u043c\\u0438\\u0440\\u043e\\u0432\\u0430\\u043d\\u0438\\u044e \\u043f\\u0430\\u043b\\u044c\\u0446\\u0435\\u0432 \\u043d\\u0430 \\u043b\\u0435\\u0432\\u043e\\u0439 \\u043a\\u0438\\u0441\\u0442\\u0438, \\u0441\\u0448\\u0438\\u043b\\u0438 \\u0441\\u0443\\u0445\\u043e\\u0436\\u0438\\u043b\\u0438\\u044f, \\u0444\\u0430\\u043b\\u0430\\u043d\\u0433\\u0438 \\u043d\\u0430 \\u0443\\u0440\\u043e\\u0432\\u043d\\u0435 \\u043f\\u0440\\u043e\\u043a\\u0441\\u0438\\u043c\\u0430\\u043b\\u044c\\u043d\\u043e\\u0439 \\u0444\\u0430\\u043b\\u0430\\u043d\\u0433\\u0438. \\u0411\\u043e\\u043b\\u0435\\u0435 6 \\u0447\\u0430\\u0441\\u043e\\u0432 \\u043f\\u0440\\u043e\\u0434\\u043e\\u043b\\u0436\\u0430\\u043b\\u0430\\u0441\\u044c \\u043e\\u043f\\u0435\\u0440\\u0430\\u0446\\u0438\\u044f.\\u041f\\u043e\\u0434\\u0440\\u043e\\u0431\\u043d\\u0435\\u0435\"\n        ],\n        \"semantic_type\": \"\",\n        \"description\": \"\"\n      }\n    },\n    {\n      \"column\": \"label\",\n      \"properties\": {\n        \"dtype\": \"category\",\n        \"num_unique_values\": 5,\n        \"samples\": [\n          \"\\u0438\\u0441\\u043a\\u0443\\u0441\\u0441\\u0442\\u0432\\u043e\",\n          \"\\u0437\\u0434\\u043e\\u0440\\u043e\\u0432\\u044c\\u0435_\\u043c\\u0435\\u0434\\u0438\\u0446\\u0438\\u043d\\u0430\",\n          \"\\u043e\\u0431\\u0440\\u0430\\u0437\\u043e\\u0432\\u0430\\u043d\\u0438\\u0435_\\u043f\\u043e\\u0437\\u043d\\u0430\\u0432\\u0430\\u0442\\u0435\\u043b\\u044c\\u043d\\u043e\\u0435\"\n        ],\n        \"semantic_type\": \"\",\n        \"description\": \"\"\n      }\n    },\n    {\n      \"column\": \"sen_enc\",\n      \"properties\": {\n        \"dtype\": \"number\",\n        \"std\": 1,\n        \"min\": 0,\n        \"max\": 4,\n        \"num_unique_values\": 5,\n        \"samples\": [\n          1,\n          0,\n          3\n        ],\n        \"semantic_type\": \"\",\n        \"description\": \"\"\n      }\n    }\n  ]\n}"
            }
          },
          "metadata": {},
          "execution_count": 83
        }
      ]
    },
    {
      "cell_type": "markdown",
      "source": [
        "Загружаем модель"
      ],
      "metadata": {
        "id": "CeOXIy-12t7P"
      }
    },
    {
      "cell_type": "code",
      "source": [
        "# rubert-tiny2:\n",
        "from transformers import AutoTokenizer, AutoModel\n",
        "\n",
        "## задаем саму модель\n",
        "model = AutoModel.from_pretrained(\"cointegrated/rubert-tiny2\")\n",
        "\n",
        "# токенайзер к ней (для некоторых моделей токенайзер будет отличаться, см.\n",
        "## в документации к каждой модели конкретно)\n",
        "tokenizer = AutoTokenizer.from_pretrained(\"cointegrated/rubert-tiny2\")\n",
        "\n"
      ],
      "metadata": {
        "colab": {
          "base_uri": "https://localhost:8080/",
          "height": 209,
          "referenced_widgets": [
            "6c48431e571c45998e19cda5a434b8ae",
            "901e09b5f3264111a5e7c0eb6ebc7cf1",
            "77fbbe06f241485bb6115ff2c2fcbd2e",
            "c273a6f65c0b4e37b31bc8789d95c0ed",
            "4355226ecdb541a5ba481c54c361faf5",
            "63304d37be3946c6a9b8f0c7222c8a52",
            "ef23e284ad0a44c48d38aff281e602a8",
            "0f374d7d264b469bbdc3056513ae8a70",
            "15c3298c2ab646e9baaa1978f895fcb3",
            "1ce3fac81488498ab9e72ff208b27183",
            "29c21ae8b2464bfd8514584a8d84ee34",
            "086f7b4b1931427fabf87bf4fbf4fa4c",
            "2f3c9285ff864db5aa6f0a75506cdc31",
            "15982b420b094e9e9c7c2034f6fde182",
            "ea648a85a32f4d15bd9e9e8d5a606ac3",
            "6445f1700bfe4b3195187474c1ea5a76",
            "27313c2bb386468d8512123acb65189f",
            "08bd2021424341149d43c3c2a1de060f",
            "23ec581a3f614d9eb12797a403ebcb8b",
            "4d3682df2441403ba82671861f579f8a",
            "7bd806de59944b3ab7c1b11d0e975f5d",
            "c9bdcaf484584b1a9eebdd702a2c0e7d",
            "092d75fe0d64498d97fb312a56171da4",
            "79f49d870d7e4fc39d843edd6991f76c",
            "22139a8aeec9476485f219e128ee97dd",
            "ae862741b87541b28f5f56ec9a96a172",
            "78eca58e338e41d99347cac21e67f2c1",
            "dff4666d632943369aa736cb86cca1a4",
            "31f5c004ad534bc788edca3c7ed4a37e",
            "439e93e9ad68471c88a676e41d553f83",
            "cecf2f158e8549c9bccf08b6565d090f",
            "cdd4dd1644954ada988a0be3a52d7e94",
            "ce09de53920b44e3b43afcc9c33c3da7",
            "f291a9d62ff8490086273d042637f195",
            "019fe1bfef584ba692a071b0cffc4b3d",
            "8d759f7397674b2b9613ab40915c7e90",
            "e925d0e413ae42e987fed609fb2d17d1",
            "db798e3f7d4b4fa8bef9038746981c45",
            "dd933a5a925d4a76b1a2a7a89cb96eff",
            "aba195c93c00459c857f470b3e9d90ae",
            "7e70b50aad0248088f6677b2c9610c11",
            "0e076fb9954e4159bd77f1b7ee32bed8",
            "e30df2125c1d443d82007852374c47f9",
            "79b491454f88431e9fd0b88351b9299b",
            "19a92bd89028451695942a466c3d96d1",
            "1420b0343a4b475b903f65f8689a0ab4",
            "5cc162241fe742e6a21a48391172ac0e",
            "20be4c973f2c43f987b59bcaa5a13d57",
            "b91ac8db37504416aeea54874c4b9e79",
            "c143332541e74792858139b089038c09",
            "1380e5f3815844be8e36f61b1d6d9f8b",
            "0ac659e16a1848a8a2e0394d3eb147f1",
            "20046153189f4d72addeaf14c8d95470",
            "0d5fb8454b4c4c0f81f4be8348f291ec",
            "d8ba75f3e91743ffb990987db9280416",
            "1560952a84ac432592e4204db36aab7b",
            "78d3f05f1f57426087fdd8d96aec25a1",
            "d11593886d9b4068945b7d26f9de27a4",
            "b53e9adb5184426a96ce136bfe62b072",
            "4e1f4849090d40b79e0f40aa6446d4f2",
            "4be12865c37d422482f4044ab6432437",
            "57a7136a5e534def96ec9c488712d4c8",
            "20dbfec73c64447ab1c37f6f65255530",
            "8f83b9888596414e86e12d53bbf24d81",
            "83e68de468c54e6c8e8bab9debbae383",
            "27173a6c47f3419989de944bf920dcb8"
          ]
        },
        "id": "uCpSAmE7wJEb",
        "outputId": "08131481-e916-4db7-d31c-187744a73781"
      },
      "execution_count": 12,
      "outputs": [
        {
          "output_type": "display_data",
          "data": {
            "text/plain": [
              "config.json:   0%|          | 0.00/693 [00:00<?, ?B/s]"
            ],
            "application/vnd.jupyter.widget-view+json": {
              "version_major": 2,
              "version_minor": 0,
              "model_id": "6c48431e571c45998e19cda5a434b8ae"
            }
          },
          "metadata": {}
        },
        {
          "output_type": "display_data",
          "data": {
            "text/plain": [
              "model.safetensors:   0%|          | 0.00/118M [00:00<?, ?B/s]"
            ],
            "application/vnd.jupyter.widget-view+json": {
              "version_major": 2,
              "version_minor": 0,
              "model_id": "086f7b4b1931427fabf87bf4fbf4fa4c"
            }
          },
          "metadata": {}
        },
        {
          "output_type": "display_data",
          "data": {
            "text/plain": [
              "tokenizer_config.json:   0%|          | 0.00/401 [00:00<?, ?B/s]"
            ],
            "application/vnd.jupyter.widget-view+json": {
              "version_major": 2,
              "version_minor": 0,
              "model_id": "092d75fe0d64498d97fb312a56171da4"
            }
          },
          "metadata": {}
        },
        {
          "output_type": "display_data",
          "data": {
            "text/plain": [
              "vocab.txt:   0%|          | 0.00/1.08M [00:00<?, ?B/s]"
            ],
            "application/vnd.jupyter.widget-view+json": {
              "version_major": 2,
              "version_minor": 0,
              "model_id": "f291a9d62ff8490086273d042637f195"
            }
          },
          "metadata": {}
        },
        {
          "output_type": "display_data",
          "data": {
            "text/plain": [
              "tokenizer.json:   0%|          | 0.00/1.74M [00:00<?, ?B/s]"
            ],
            "application/vnd.jupyter.widget-view+json": {
              "version_major": 2,
              "version_minor": 0,
              "model_id": "19a92bd89028451695942a466c3d96d1"
            }
          },
          "metadata": {}
        },
        {
          "output_type": "display_data",
          "data": {
            "text/plain": [
              "special_tokens_map.json:   0%|          | 0.00/112 [00:00<?, ?B/s]"
            ],
            "application/vnd.jupyter.widget-view+json": {
              "version_major": 2,
              "version_minor": 0,
              "model_id": "1560952a84ac432592e4204db36aab7b"
            }
          },
          "metadata": {}
        }
      ]
    },
    {
      "cell_type": "code",
      "source": [
        "model"
      ],
      "metadata": {
        "colab": {
          "base_uri": "https://localhost:8080/"
        },
        "id": "hiJmr3CTyBgT",
        "outputId": "6333793d-80d5-418f-9852-dfc0e2562532"
      },
      "execution_count": 13,
      "outputs": [
        {
          "output_type": "execute_result",
          "data": {
            "text/plain": [
              "BertModel(\n",
              "  (embeddings): BertEmbeddings(\n",
              "    (word_embeddings): Embedding(83828, 312, padding_idx=0)\n",
              "    (position_embeddings): Embedding(2048, 312)\n",
              "    (token_type_embeddings): Embedding(2, 312)\n",
              "    (LayerNorm): LayerNorm((312,), eps=1e-12, elementwise_affine=True)\n",
              "    (dropout): Dropout(p=0.1, inplace=False)\n",
              "  )\n",
              "  (encoder): BertEncoder(\n",
              "    (layer): ModuleList(\n",
              "      (0-2): 3 x BertLayer(\n",
              "        (attention): BertAttention(\n",
              "          (self): BertSelfAttention(\n",
              "            (query): Linear(in_features=312, out_features=312, bias=True)\n",
              "            (key): Linear(in_features=312, out_features=312, bias=True)\n",
              "            (value): Linear(in_features=312, out_features=312, bias=True)\n",
              "            (dropout): Dropout(p=0.1, inplace=False)\n",
              "          )\n",
              "          (output): BertSelfOutput(\n",
              "            (dense): Linear(in_features=312, out_features=312, bias=True)\n",
              "            (LayerNorm): LayerNorm((312,), eps=1e-12, elementwise_affine=True)\n",
              "            (dropout): Dropout(p=0.1, inplace=False)\n",
              "          )\n",
              "        )\n",
              "        (intermediate): BertIntermediate(\n",
              "          (dense): Linear(in_features=312, out_features=600, bias=True)\n",
              "          (intermediate_act_fn): GELUActivation()\n",
              "        )\n",
              "        (output): BertOutput(\n",
              "          (dense): Linear(in_features=600, out_features=312, bias=True)\n",
              "          (LayerNorm): LayerNorm((312,), eps=1e-12, elementwise_affine=True)\n",
              "          (dropout): Dropout(p=0.1, inplace=False)\n",
              "        )\n",
              "      )\n",
              "    )\n",
              "  )\n",
              "  (pooler): BertPooler(\n",
              "    (dense): Linear(in_features=312, out_features=312, bias=True)\n",
              "    (activation): Tanh()\n",
              "  )\n",
              ")"
            ]
          },
          "metadata": {},
          "execution_count": 13
        }
      ]
    },
    {
      "cell_type": "code",
      "source": [
        "## зададим максимальную длину последовательности\n",
        "MAX_LEN = 128"
      ],
      "metadata": {
        "id": "M2trarBUyfcp"
      },
      "execution_count": 84,
      "outputs": []
    },
    {
      "cell_type": "code",
      "source": [
        "# токенизируем одну фразу\n",
        "tokenizer.encode(\n",
        "    'Привет как дела',\n",
        "    add_special_tokens=True,\n",
        "    truncation=True,\n",
        "    max_length=MAX_LEN,\n",
        "    # padding='max_length'\n",
        "    )"
      ],
      "metadata": {
        "colab": {
          "base_uri": "https://localhost:8080/"
        },
        "id": "BTDdViXH0bY9",
        "outputId": "576d6cb2-f6b6-4036-b22b-91ca448e70c1"
      },
      "execution_count": 85,
      "outputs": [
        {
          "output_type": "execute_result",
          "data": {
            "text/plain": [
              "[2, 51343, 1150, 7843, 3]"
            ]
          },
          "metadata": {},
          "execution_count": 85
        }
      ]
    },
    {
      "cell_type": "code",
      "source": [
        "tokenizer.decode(51343)"
      ],
      "metadata": {
        "colab": {
          "base_uri": "https://localhost:8080/",
          "height": 35
        },
        "id": "hP_qchU50tQM",
        "outputId": "f3f70d57-5cd7-43a3-97b2-b0ad6476a0ec"
      },
      "execution_count": 86,
      "outputs": [
        {
          "output_type": "execute_result",
          "data": {
            "text/plain": [
              "'Привет'"
            ],
            "application/vnd.google.colaboratory.intrinsic+json": {
              "type": "string"
            }
          },
          "metadata": {},
          "execution_count": 86
        }
      ]
    },
    {
      "cell_type": "code",
      "source": [
        "# применяем токенизатор:\n",
        "# -≥ add_special_tokens = добавляем служебные токены (CLS=2, SEP=3)\n",
        "# -≥ truncation = обрезаем по максимальной длине\n",
        "# -≥ max_length = максимальная длина последовательности\n",
        "tokenized = df_red['content'].apply((lambda x: tokenizer.encode(x,\n",
        "                                                                      add_special_tokens=True,\n",
        "                                                                      truncation=True,\n",
        "                                                                      max_length=MAX_LEN)))"
      ],
      "metadata": {
        "id": "bNX0E-7x1eX2"
      },
      "execution_count": 87,
      "outputs": []
    },
    {
      "cell_type": "code",
      "source": [
        "tokenized"
      ],
      "metadata": {
        "colab": {
          "base_uri": "https://localhost:8080/"
        },
        "id": "hbtfENKx1u8m",
        "outputId": "487b506b-f710-48c0-f554-9760fc7d5ec4"
      },
      "execution_count": 88,
      "outputs": [
        {
          "output_type": "execute_result",
          "data": {
            "text/plain": [
              "0       [2, 23706, 35999, 4845, 4992, 30, 2986, 30, 19...\n",
              "1       [2, 36, 804, 3623, 11205, 1, 7, 33238, 105, 18...\n",
              "2       [2, 867, 846, 30, 3570, 48888, 18856, 18377, 4...\n",
              "3       [2, 1, 46655, 15682, 9451, 68723, 34168, 38353...\n",
              "4       [2, 32305, 644, 35256, 36666, 320, 21667, 16, ...\n",
              "                              ...                        \n",
              "9995    [2, 10721, 23101, 37121, 19319, 29726, 320, 33...\n",
              "9996    [2, 33488, 56616, 21494, 35, 299, 29642, 32000...\n",
              "9997    [2, 35129, 2386, 33541, 68955, 16, 4146, 30903...\n",
              "9998    [2, 25202, 26075, 55861, 15439, 18022, 650, 16...\n",
              "9999    [2, 6226, 35531, 46605, 35855, 30598, 2677, 16...\n",
              "Name: content, Length: 10000, dtype: object"
            ]
          },
          "metadata": {},
          "execution_count": 88
        }
      ]
    },
    {
      "cell_type": "code",
      "source": [
        "# посмотрим на результат токенизатора\n",
        "# 2 - CLS – classification token\n",
        "# 3 – EOS – end of sequence\n",
        "tokenized.values[:2]"
      ],
      "metadata": {
        "colab": {
          "base_uri": "https://localhost:8080/"
        },
        "id": "HKJZzkxj14pG",
        "outputId": "e443d710-6076-4322-89e4-ac04e4c00802"
      },
      "execution_count": 89,
      "outputs": [
        {
          "output_type": "execute_result",
          "data": {
            "text/plain": [
              "array([list([2, 23706, 35999, 4845, 4992, 30, 2986, 30, 19, 19, 87, 18, 1127, 19, 5414, 1607, 846, 1097, 1694, 4669, 19, 6451, 1140, 1290, 8759, 2112, 30, 2986, 30, 19, 19, 859, 18, 85, 21332, 18, 2643, 19, 5646, 67, 537, 67, 2120, 19, 1078, 19, 1107, 19, 42271, 19, 1375, 539, 1290, 24339, 15582, 1433, 539, 1383, 1433, 29506, 5864, 1320, 587, 1140, 1320, 25452, 1012, 831, 9722, 656, 18, 18, 18, 280, 10030, 10632, 8341, 22933, 17, 1619, 5277, 18, 18, 18, 3]),\n",
              "       list([2, 36, 804, 3623, 11205, 1, 7, 33238, 105, 18876, 117, 16, 10849, 79003, 3190, 46822, 68765, 12, 2139, 13, 39251, 5382, 20113, 17, 105, 297, 42435, 36789, 5189, 66687, 1229, 32770, 1373, 117, 18, 34196, 14357, 16, 1150, 78173, 22326, 5021, 2182, 16, 1908, 320, 2445, 51487, 4427, 16, 34913, 54586, 42210, 18, 49614, 16, 39329, 775, 38368, 66692, 656, 778, 40191, 78668, 26106, 16, 16296, 15899, 679, 320, 48109, 18, 5971, 28910, 32007, 16, 1363, 46127, 36801, 17, 33145, 48697, 329, 43663, 18, 3280, 3687, 769, 40330, 44713, 16, 10879, 26810, 35218, 30521, 1142, 12712, 53932, 16, 38295, 11924, 38467, 320, 32237, 58108, 322, 18770, 15827, 43900, 18, 39923, 6713, 34064, 548, 21538, 1142, 11122, 18, 18876, 17, 769, 46464, 320, 32608, 2480, 16, 14159, 3])],\n",
              "      dtype=object)"
            ]
          },
          "metadata": {},
          "execution_count": 89
        }
      ]
    },
    {
      "cell_type": "code",
      "source": [
        "# проверим длины последовательностей: максимальная будет 128,\n",
        "# но какие-то будут меньше\n",
        "for i in tokenized.values[:10]:\n",
        "    print(len(i), end=' ')"
      ],
      "metadata": {
        "colab": {
          "base_uri": "https://localhost:8080/"
        },
        "id": "2jEkbtpP18vk",
        "outputId": "0f16ddee-6265-4881-9d88-c0df67a9748e"
      },
      "execution_count": 90,
      "outputs": [
        {
          "output_type": "stream",
          "name": "stdout",
          "text": [
            "85 128 18 64 53 54 87 102 33 128 "
          ]
        }
      ]
    },
    {
      "cell_type": "code",
      "source": [
        "# чтобы дополнить последовательности до фиксированной длины, допишем нули к\n",
        "# коротким последовательностям\n",
        "padded = np.array([i + [0]*(MAX_LEN-len(i)) for i in tokenized.values])"
      ],
      "metadata": {
        "id": "m3EaV6Fi2Bpb"
      },
      "execution_count": 91,
      "outputs": []
    },
    {
      "cell_type": "code",
      "source": [
        "# проверим\n",
        "# теперь все последовательности должны быть одинаковой длины - max_len\n",
        "for i in padded[:10]:\n",
        "    print(len(i), end=' ')"
      ],
      "metadata": {
        "colab": {
          "base_uri": "https://localhost:8080/"
        },
        "id": "zfDmy2Tu2Fxn",
        "outputId": "976c7b43-6b73-4d70-d4a2-e977855d2aab"
      },
      "execution_count": 92,
      "outputs": [
        {
          "output_type": "stream",
          "name": "stdout",
          "text": [
            "128 128 128 128 128 128 128 128 128 128 "
          ]
        }
      ]
    },
    {
      "cell_type": "code",
      "source": [
        "padded[78]"
      ],
      "metadata": {
        "colab": {
          "base_uri": "https://localhost:8080/"
        },
        "id": "jkNyfCx02Iah",
        "outputId": "1ba10ece-4f0f-4e6d-8f36-07762241bcba"
      },
      "execution_count": 93,
      "outputs": [
        {
          "output_type": "execute_result",
          "data": {
            "text/plain": [
              "array([    2, 43203,   613, 18708,    17,  2389, 36091,     1,     7,\n",
              "       36214,   733, 13253, 10565,  2597,   666, 73198, 43057, 42680,\n",
              "       27228,   548, 32079,    16, 11352,    17,  1619, 25913, 39596,\n",
              "        1588, 83198, 39832,    16,   312, 30411,    17,  1619, 30440,\n",
              "       34529, 17950,  7757, 29292,    18,   282,  3200, 71587, 26629,\n",
              "       49540,    16, 29820, 38090, 25473,  2608, 36091,   761,    16,\n",
              "       29860,   548,  1619, 29420, 36462,   320,  1150,  1908, 33642,\n",
              "          16,  1046,   314,  5557, 36091, 42504,  9977, 49552,  9022,\n",
              "         705, 23729, 18232,    18, 36303, 27662, 36214,    30,  2986,\n",
              "          30,    19,    19,  2406,  1173,    18,   747,    19,    71,\n",
              "        7747,  1469,    67,    79,  1140,  1429,  1478,   559,     3,\n",
              "           0,     0,     0,     0,     0,     0,     0,     0,     0,\n",
              "           0,     0,     0,     0,     0,     0,     0,     0,     0,\n",
              "           0,     0,     0,     0,     0,     0,     0,     0,     0,\n",
              "           0,     0])"
            ]
          },
          "metadata": {},
          "execution_count": 93
        }
      ]
    },
    {
      "cell_type": "markdown",
      "source": [
        "Masking"
      ],
      "metadata": {
        "id": "Z8iJyrM12m6u"
      }
    },
    {
      "cell_type": "code",
      "source": [
        "# чтобы attention не считался для позиций, где установлены фиктивные\n",
        "# нулевые токены, мы делаем для него маску\n",
        "attention_mask = np.where(padded != 0, 1, 0)\n",
        "attention_mask[78]"
      ],
      "metadata": {
        "colab": {
          "base_uri": "https://localhost:8080/"
        },
        "id": "SLMddgUB20ox",
        "outputId": "c04ed008-976e-4b27-98c7-573cd1f2c760"
      },
      "execution_count": 94,
      "outputs": [
        {
          "output_type": "execute_result",
          "data": {
            "text/plain": [
              "array([1, 1, 1, 1, 1, 1, 1, 1, 1, 1, 1, 1, 1, 1, 1, 1, 1, 1, 1, 1, 1, 1,\n",
              "       1, 1, 1, 1, 1, 1, 1, 1, 1, 1, 1, 1, 1, 1, 1, 1, 1, 1, 1, 1, 1, 1,\n",
              "       1, 1, 1, 1, 1, 1, 1, 1, 1, 1, 1, 1, 1, 1, 1, 1, 1, 1, 1, 1, 1, 1,\n",
              "       1, 1, 1, 1, 1, 1, 1, 1, 1, 1, 1, 1, 1, 1, 1, 1, 1, 1, 1, 1, 1, 1,\n",
              "       1, 1, 1, 1, 1, 1, 1, 1, 1, 1, 1, 0, 0, 0, 0, 0, 0, 0, 0, 0, 0, 0,\n",
              "       0, 0, 0, 0, 0, 0, 0, 0, 0, 0, 0, 0, 0, 0, 0, 0, 0, 0])"
            ]
          },
          "metadata": {},
          "execution_count": 94
        }
      ]
    },
    {
      "cell_type": "code",
      "source": [
        "print(padded.shape); print(attention_mask.shape)"
      ],
      "metadata": {
        "colab": {
          "base_uri": "https://localhost:8080/"
        },
        "id": "T2hxVFyC2_Tx",
        "outputId": "54b546a1-7728-484f-91b2-580902cdb3a8"
      },
      "execution_count": 95,
      "outputs": [
        {
          "output_type": "stream",
          "name": "stdout",
          "text": [
            "(10000, 128)\n",
            "(10000, 128)\n"
          ]
        }
      ]
    },
    {
      "cell_type": "markdown",
      "source": [
        "Сделаем датасет из наших массивов (это необязательно, но желательно)."
      ],
      "metadata": {
        "id": "hHqvb5AX3Qkp"
      }
    },
    {
      "cell_type": "code",
      "source": [
        "class BertInputs(torch.utils.data.Dataset):\n",
        "    def __init__(self, tokenized_inputs, attention_masks):\n",
        "        super().__init__()\n",
        "        self.tokenized_inputs = tokenized_inputs\n",
        "        self.attention_masks = attention_masks\n",
        "\n",
        "    def __len__(self):\n",
        "        return self.tokenized_inputs.shape[0]\n",
        "\n",
        "    def __getitem__(self, idx):\n",
        "        ids = self.tokenized_inputs[idx]\n",
        "        ams = self.attention_masks[idx]\n",
        "\n",
        "        return ids, ams\n",
        "\n",
        "dataset = BertInputs(padded, attention_mask)"
      ],
      "metadata": {
        "id": "iG4myr013SEh"
      },
      "execution_count": 96,
      "outputs": []
    },
    {
      "cell_type": "code",
      "source": [
        "loader = torch.utils.data.DataLoader(dataset, batch_size=10, shuffle=False)\n",
        "sample_ids, sample_ams = next(iter(loader))\n",
        "print(sample_ids.shape, sample_ams.shape)"
      ],
      "metadata": {
        "colab": {
          "base_uri": "https://localhost:8080/"
        },
        "id": "wFSiMzxW3abk",
        "outputId": "d5b16681-ed5c-4a68-c78b-ee9d68ffbac6"
      },
      "execution_count": 97,
      "outputs": [
        {
          "output_type": "stream",
          "name": "stdout",
          "text": [
            "torch.Size([10, 128]) torch.Size([10, 128])\n"
          ]
        }
      ]
    },
    {
      "cell_type": "code",
      "source": [
        "model.to(device)"
      ],
      "metadata": {
        "colab": {
          "base_uri": "https://localhost:8080/"
        },
        "id": "bx4j4zAD3b5n",
        "outputId": "b545be00-742a-44a2-8e71-a2bfd60c3f7e"
      },
      "execution_count": 98,
      "outputs": [
        {
          "output_type": "execute_result",
          "data": {
            "text/plain": [
              "BertModel(\n",
              "  (embeddings): BertEmbeddings(\n",
              "    (word_embeddings): Embedding(83828, 312, padding_idx=0)\n",
              "    (position_embeddings): Embedding(2048, 312)\n",
              "    (token_type_embeddings): Embedding(2, 312)\n",
              "    (LayerNorm): LayerNorm((312,), eps=1e-12, elementwise_affine=True)\n",
              "    (dropout): Dropout(p=0.1, inplace=False)\n",
              "  )\n",
              "  (encoder): BertEncoder(\n",
              "    (layer): ModuleList(\n",
              "      (0-2): 3 x BertLayer(\n",
              "        (attention): BertAttention(\n",
              "          (self): BertSelfAttention(\n",
              "            (query): Linear(in_features=312, out_features=312, bias=True)\n",
              "            (key): Linear(in_features=312, out_features=312, bias=True)\n",
              "            (value): Linear(in_features=312, out_features=312, bias=True)\n",
              "            (dropout): Dropout(p=0.1, inplace=False)\n",
              "          )\n",
              "          (output): BertSelfOutput(\n",
              "            (dense): Linear(in_features=312, out_features=312, bias=True)\n",
              "            (LayerNorm): LayerNorm((312,), eps=1e-12, elementwise_affine=True)\n",
              "            (dropout): Dropout(p=0.1, inplace=False)\n",
              "          )\n",
              "        )\n",
              "        (intermediate): BertIntermediate(\n",
              "          (dense): Linear(in_features=312, out_features=600, bias=True)\n",
              "          (intermediate_act_fn): GELUActivation()\n",
              "        )\n",
              "        (output): BertOutput(\n",
              "          (dense): Linear(in_features=600, out_features=312, bias=True)\n",
              "          (LayerNorm): LayerNorm((312,), eps=1e-12, elementwise_affine=True)\n",
              "          (dropout): Dropout(p=0.1, inplace=False)\n",
              "        )\n",
              "      )\n",
              "    )\n",
              "  )\n",
              "  (pooler): BertPooler(\n",
              "    (dense): Linear(in_features=312, out_features=312, bias=True)\n",
              "    (activation): Tanh()\n",
              "  )\n",
              ")"
            ]
          },
          "metadata": {},
          "execution_count": 98
        }
      ]
    },
    {
      "cell_type": "code",
      "source": [
        "%%time\n",
        "features = []\n",
        "for inputs, attention_masks in loader:\n",
        "# Получаем выход модели (нам оттуда нужно не все)\n",
        "    with torch.inference_mode():\n",
        "        last_hidden_states = model(inputs.cpu(), attention_mask=attention_masks.cpu())\n",
        "        vectors = last_hidden_states[0][:,0,:].cpu().numpy()\n",
        "    features.extend(vectors)\n",
        "len(features)"
      ],
      "metadata": {
        "colab": {
          "base_uri": "https://localhost:8080/"
        },
        "id": "REMExwz43290",
        "outputId": "d22af5e3-e1c3-4b91-880f-24ed8b9ae97c"
      },
      "execution_count": 99,
      "outputs": [
        {
          "output_type": "stream",
          "name": "stdout",
          "text": [
            "CPU times: user 15min 22s, sys: 2min 14s, total: 17min 36s\n",
            "Wall time: 22 s\n"
          ]
        },
        {
          "output_type": "execute_result",
          "data": {
            "text/plain": [
              "10000"
            ]
          },
          "metadata": {},
          "execution_count": 99
        }
      ]
    },
    {
      "cell_type": "code",
      "source": [
        "features[0].shape"
      ],
      "metadata": {
        "colab": {
          "base_uri": "https://localhost:8080/"
        },
        "id": "eSTT9SiS4LKZ",
        "outputId": "74ea2504-a943-492d-d2b1-7b7dbbfac173"
      },
      "execution_count": 100,
      "outputs": [
        {
          "output_type": "execute_result",
          "data": {
            "text/plain": [
              "(312,)"
            ]
          },
          "metadata": {},
          "execution_count": 100
        }
      ]
    },
    {
      "cell_type": "code",
      "source": [
        "# Прогоним тестовый батч\n",
        "with torch.inference_mode():\n",
        "    last_hs = model(sample_ids.cpu(), attention_mask=sample_ams.cpu())\n",
        "print(last_hs[0].shape)"
      ],
      "metadata": {
        "colab": {
          "base_uri": "https://localhost:8080/"
        },
        "id": "2WxMa3bM4MTM",
        "outputId": "2542583a-6961-46b5-9bd5-58aa7f0c8daf"
      },
      "execution_count": 101,
      "outputs": [
        {
          "output_type": "stream",
          "name": "stdout",
          "text": [
            "torch.Size([10, 128, 312])\n"
          ]
        }
      ]
    },
    {
      "cell_type": "code",
      "source": [
        "model_out_shape = last_hs[0].shape\n",
        "print(model_out_shape)\n",
        "print(f'{model_out_shape[0]} - число объектов,\\n \\\n",
        "{model_out_shape[1]} - длина каждой последовательности, \\n \\\n",
        "{model_out_shape[2]} - длина выходного вектора BERT для одного элемента последовательности')"
      ],
      "metadata": {
        "colab": {
          "base_uri": "https://localhost:8080/"
        },
        "id": "F1LBb5Pr4y0f",
        "outputId": "e7327435-241a-4715-a6eb-f211a80f9fa1"
      },
      "execution_count": 102,
      "outputs": [
        {
          "output_type": "stream",
          "name": "stdout",
          "text": [
            "torch.Size([10, 128, 312])\n",
            "10 - число объектов,\n",
            " 128 - длина каждой последовательности, \n",
            " 312 - длина выходного вектора BERT для одного элемента последовательности\n"
          ]
        }
      ]
    },
    {
      "cell_type": "code",
      "source": [
        "len(features)"
      ],
      "metadata": {
        "colab": {
          "base_uri": "https://localhost:8080/"
        },
        "id": "8aPA9xAL40R7",
        "outputId": "1f279f3c-5c34-42f1-9bca-511b3bebca89"
      },
      "execution_count": 103,
      "outputs": [
        {
          "output_type": "execute_result",
          "data": {
            "text/plain": [
              "10000"
            ]
          },
          "metadata": {},
          "execution_count": 103
        }
      ]
    },
    {
      "cell_type": "code",
      "source": [
        "X_train, X_val, y_train, y_val = train_test_split(features, df_red['sen_enc'].iloc[:10000])\n",
        "print(f'Features shape: {len(X_train)}, Target shape: {len(y_train)}')"
      ],
      "metadata": {
        "colab": {
          "base_uri": "https://localhost:8080/"
        },
        "id": "a6HDKXmL5Hlm",
        "outputId": "8b4bde65-a221-4884-809a-be2b29a0608f"
      },
      "execution_count": 104,
      "outputs": [
        {
          "output_type": "stream",
          "name": "stdout",
          "text": [
            "Features shape: 7500, Target shape: 7500\n"
          ]
        }
      ]
    },
    {
      "cell_type": "code",
      "source": [
        "df_red['sen_enc'].value_counts()/len(features)*100"
      ],
      "metadata": {
        "colab": {
          "base_uri": "https://localhost:8080/"
        },
        "id": "gvrmtStZ5L02",
        "outputId": "f409df98-2da9-478a-fae5-dbd6fbf113ee"
      },
      "execution_count": 105,
      "outputs": [
        {
          "output_type": "execute_result",
          "data": {
            "text/plain": [
              "sen_enc\n",
              "4    29.76\n",
              "2    20.40\n",
              "0    20.06\n",
              "3    16.29\n",
              "1    13.49\n",
              "Name: count, dtype: float64"
            ]
          },
          "metadata": {},
          "execution_count": 105
        }
      ]
    },
    {
      "cell_type": "code",
      "source": [
        "from sklearn.linear_model import LogisticRegression\n",
        "\n",
        "# инициализируем модель логистической регрессии\n",
        "log_reg = LogisticRegression(max_iter=1000)\n",
        "\n",
        "# обучаем модель на тренировочных данных\n",
        "log_reg.fit(X_train, y_train)\n",
        "\n",
        "# оценка точности модели на валидационных данных\n",
        "accuracy = log_reg.score(X_val, y_val)\n",
        "print(f'Accuracy: {accuracy}')"
      ],
      "metadata": {
        "colab": {
          "base_uri": "https://localhost:8080/"
        },
        "id": "WvdOG8Ng5POp",
        "outputId": "4e4b594f-ddf2-4fc0-ab5d-3a8299893145"
      },
      "execution_count": 106,
      "outputs": [
        {
          "output_type": "stream",
          "name": "stdout",
          "text": [
            "Accuracy: 0.7564\n"
          ]
        }
      ]
    },
    {
      "cell_type": "code",
      "source": [
        "# Выберем случайный текст из датасета\n",
        "random_idx = np.random.randint(0, len(df_red))\n",
        "text = df_red['content'].iloc[random_idx]\n",
        "true_label = df_red['label'].iloc[random_idx]\n",
        "\n",
        "# Предсказание\n",
        "pred_label = clf.predict([features[random_idx]])[0]\n",
        "pred_label_text = df_red['label'].loc[df_red['sen_enc'] == pred_label].iloc[0]\n",
        "\n",
        "print(f\"Текст: {text}\")\n",
        "print(f\"Реальный лэйбл: {true_label}\")\n",
        "print(f\"Предсказанный лэйбл: {pred_label_text}\")"
      ],
      "metadata": {
        "colab": {
          "base_uri": "https://localhost:8080/"
        },
        "id": "S2Y32z3d5UwU",
        "outputId": "0f19bae6-4c83-4a19-8855-a25426f08314"
      },
      "execution_count": 107,
      "outputs": [
        {
          "output_type": "stream",
          "name": "stdout",
          "text": [
            "Текст: Когда разобрал сложную тему с Математиком Андреем и идешь на урок в полной ясности 🔥\n",
            "Реальный лэйбл: образование_познавательное\n",
            "Предсказанный лэйбл: образование_познавательное\n"
          ]
        }
      ]
    },
    {
      "cell_type": "code",
      "source": [
        "import torch.nn as nn\n",
        "\n",
        "class CustomBERT(nn.Module):\n",
        "    def __init__(self, bert_model):\n",
        "        super(CustomBERT, self).__init__()\n",
        "        self.bert = bert_model\n",
        "        self.dropout = nn.Dropout(0.1)\n",
        "        self.classifier = nn.Linear(self.bert.config.hidden_size, df_red['sen_enc'].nunique())\n",
        "\n",
        "    def forward(self, input_ids, attention_mask):\n",
        "        output = self.bert(input_ids=input_ids, attention_mask=attention_mask)\n",
        "        pooled_output = output.pooler_output\n",
        "        pooled_output = self.dropout(pooled_output)\n",
        "        logits = self.classifier(pooled_output)\n",
        "        return logits\n",
        "\n",
        "custom_bert_model = CustomBERT(model)\n",
        "\n",
        "device = torch.device(\"cuda\" if torch.cuda.is_available() else \"cpu\")\n",
        "custom_bert_model.to(device)\n",
        "\n",
        "criterion = nn.CrossEntropyLoss()\n",
        "optimizer = torch.optim.Adam(custom_bert_model.parameters(), lr=2e-5)\n",
        "\n",
        "num_epochs = 4\n",
        "for epoch in range(num_epochs):\n",
        "    custom_bert_model.train()\n",
        "    for i, (inputs, attention_masks) in enumerate(loader):\n",
        "        inputs, attention_masks = inputs.to(device), attention_masks.to(device)\n",
        "        labels = torch.tensor(df_red['sen_enc'].iloc[:10000].values[i*10:(i+1)*10]).to(device)  # выборка меток только для текущего батча\n",
        "\n",
        "        optimizer.zero_grad()\n",
        "        outputs = custom_bert_model(inputs, attention_masks)\n",
        "        loss = criterion(outputs, labels)\n",
        "        loss.backward()\n",
        "        optimizer.step()\n",
        "\n",
        "        if i % 100 == 0:\n",
        "            print(f'Epoch {epoch + 1}, Batch {i}, Loss: {loss.item()}')\n",
        "\n",
        "\n",
        "custom_bert_model.eval()\n",
        "with torch.no_grad():\n",
        "    outputs = custom_bert_model(torch.tensor(padded[:10000]).to(device), torch.tensor(attention_mask[:10000]).to(device))\n",
        "    _, predicted = torch.max(outputs, 1)\n",
        "\n",
        "accuracy = (predicted.cpu().numpy() == y_val).mean()\n",
        "print(f'Accuracy on validation set: {accuracy}')"
      ],
      "metadata": {
        "colab": {
          "base_uri": "https://localhost:8080/",
          "height": 1000
        },
        "id": "nk8_0wqGOwC9",
        "outputId": "fddecef3-c472-4b3c-cb27-002526002f09"
      },
      "execution_count": 112,
      "outputs": [
        {
          "output_type": "stream",
          "name": "stdout",
          "text": [
            "Epoch 1, Batch 0, Loss: 1.7529178857803345\n",
            "Epoch 1, Batch 100, Loss: 0.6414965391159058\n",
            "Epoch 1, Batch 200, Loss: 0.4155500829219818\n",
            "Epoch 1, Batch 300, Loss: 0.24055223166942596\n",
            "Epoch 1, Batch 400, Loss: 0.1040404811501503\n",
            "Epoch 1, Batch 500, Loss: 0.10617856681346893\n",
            "Epoch 1, Batch 600, Loss: 0.13381628692150116\n",
            "Epoch 1, Batch 700, Loss: 0.04296010360121727\n",
            "Epoch 1, Batch 800, Loss: 0.07764606922864914\n",
            "Epoch 1, Batch 900, Loss: 0.30803439021110535\n",
            "Epoch 2, Batch 0, Loss: 0.22502613067626953\n",
            "Epoch 2, Batch 100, Loss: 0.015006574802100658\n",
            "Epoch 2, Batch 200, Loss: 0.017749955877661705\n",
            "Epoch 2, Batch 300, Loss: 0.024924883618950844\n",
            "Epoch 2, Batch 400, Loss: 0.03827900439500809\n",
            "Epoch 2, Batch 500, Loss: 0.023458069190382957\n",
            "Epoch 2, Batch 600, Loss: 0.018876710906624794\n",
            "Epoch 2, Batch 700, Loss: 0.01274495292454958\n",
            "Epoch 2, Batch 800, Loss: 0.015328958630561829\n",
            "Epoch 2, Batch 900, Loss: 0.1338089108467102\n",
            "Epoch 3, Batch 0, Loss: 0.01822884939610958\n",
            "Epoch 3, Batch 100, Loss: 0.005572430323809385\n",
            "Epoch 3, Batch 200, Loss: 0.011650173924863338\n",
            "Epoch 3, Batch 300, Loss: 0.009200768545269966\n",
            "Epoch 3, Batch 400, Loss: 0.006077941041439772\n",
            "Epoch 3, Batch 500, Loss: 0.007947642356157303\n",
            "Epoch 3, Batch 600, Loss: 0.005178699269890785\n",
            "Epoch 3, Batch 700, Loss: 0.01011002715677023\n",
            "Epoch 3, Batch 800, Loss: 0.09925603866577148\n",
            "Epoch 3, Batch 900, Loss: 0.017387880012392998\n",
            "Epoch 4, Batch 0, Loss: 0.005955084227025509\n",
            "Epoch 4, Batch 100, Loss: 0.00558124016970396\n",
            "Epoch 4, Batch 200, Loss: 0.005142779089510441\n",
            "Epoch 4, Batch 300, Loss: 0.0033362270332872868\n",
            "Epoch 4, Batch 400, Loss: 0.0031195529736578465\n",
            "Epoch 4, Batch 500, Loss: 0.0036471723578870296\n",
            "Epoch 4, Batch 600, Loss: 0.002437189221382141\n",
            "Epoch 4, Batch 700, Loss: 0.0029609971679747105\n",
            "Epoch 4, Batch 800, Loss: 0.005329754203557968\n",
            "Epoch 4, Batch 900, Loss: 0.021908219903707504\n"
          ]
        },
        {
          "output_type": "error",
          "ename": "ValueError",
          "evalue": "('Lengths must match to compare', (2500,), (10000,))",
          "traceback": [
            "\u001b[0;31m---------------------------------------------------------------------------\u001b[0m",
            "\u001b[0;31mValueError\u001b[0m                                Traceback (most recent call last)",
            "\u001b[0;32m<ipython-input-112-91e380b12ccb>\u001b[0m in \u001b[0;36m<cell line: 47>\u001b[0;34m()\u001b[0m\n\u001b[1;32m     45\u001b[0m     \u001b[0m_\u001b[0m\u001b[0;34m,\u001b[0m \u001b[0mpredicted\u001b[0m \u001b[0;34m=\u001b[0m \u001b[0mtorch\u001b[0m\u001b[0;34m.\u001b[0m\u001b[0mmax\u001b[0m\u001b[0;34m(\u001b[0m\u001b[0moutputs\u001b[0m\u001b[0;34m,\u001b[0m \u001b[0;36m1\u001b[0m\u001b[0;34m)\u001b[0m\u001b[0;34m\u001b[0m\u001b[0;34m\u001b[0m\u001b[0m\n\u001b[1;32m     46\u001b[0m \u001b[0;34m\u001b[0m\u001b[0m\n\u001b[0;32m---> 47\u001b[0;31m \u001b[0maccuracy\u001b[0m \u001b[0;34m=\u001b[0m \u001b[0;34m(\u001b[0m\u001b[0mpredicted\u001b[0m\u001b[0;34m.\u001b[0m\u001b[0mcpu\u001b[0m\u001b[0;34m(\u001b[0m\u001b[0;34m)\u001b[0m\u001b[0;34m.\u001b[0m\u001b[0mnumpy\u001b[0m\u001b[0;34m(\u001b[0m\u001b[0;34m)\u001b[0m \u001b[0;34m==\u001b[0m \u001b[0my_val\u001b[0m\u001b[0;34m)\u001b[0m\u001b[0;34m.\u001b[0m\u001b[0mmean\u001b[0m\u001b[0;34m(\u001b[0m\u001b[0;34m)\u001b[0m\u001b[0;34m\u001b[0m\u001b[0;34m\u001b[0m\u001b[0m\n\u001b[0m\u001b[1;32m     48\u001b[0m \u001b[0mprint\u001b[0m\u001b[0;34m(\u001b[0m\u001b[0;34mf'Accuracy on validation set: {accuracy}'\u001b[0m\u001b[0;34m)\u001b[0m\u001b[0;34m\u001b[0m\u001b[0;34m\u001b[0m\u001b[0m\n",
            "\u001b[0;32m/usr/local/lib/python3.10/dist-packages/pandas/core/generic.py\u001b[0m in \u001b[0;36m__array_ufunc__\u001b[0;34m(self, ufunc, method, *inputs, **kwargs)\u001b[0m\n\u001b[1;32m   2014\u001b[0m         \u001b[0mself\u001b[0m\u001b[0;34m,\u001b[0m \u001b[0mufunc\u001b[0m\u001b[0;34m:\u001b[0m \u001b[0mnp\u001b[0m\u001b[0;34m.\u001b[0m\u001b[0mufunc\u001b[0m\u001b[0;34m,\u001b[0m \u001b[0mmethod\u001b[0m\u001b[0;34m:\u001b[0m \u001b[0mstr\u001b[0m\u001b[0;34m,\u001b[0m \u001b[0;34m*\u001b[0m\u001b[0minputs\u001b[0m\u001b[0;34m:\u001b[0m \u001b[0mAny\u001b[0m\u001b[0;34m,\u001b[0m \u001b[0;34m**\u001b[0m\u001b[0mkwargs\u001b[0m\u001b[0;34m:\u001b[0m \u001b[0mAny\u001b[0m\u001b[0;34m\u001b[0m\u001b[0;34m\u001b[0m\u001b[0m\n\u001b[1;32m   2015\u001b[0m     ):\n\u001b[0;32m-> 2016\u001b[0;31m         \u001b[0;32mreturn\u001b[0m \u001b[0marraylike\u001b[0m\u001b[0;34m.\u001b[0m\u001b[0marray_ufunc\u001b[0m\u001b[0;34m(\u001b[0m\u001b[0mself\u001b[0m\u001b[0;34m,\u001b[0m \u001b[0mufunc\u001b[0m\u001b[0;34m,\u001b[0m \u001b[0mmethod\u001b[0m\u001b[0;34m,\u001b[0m \u001b[0;34m*\u001b[0m\u001b[0minputs\u001b[0m\u001b[0;34m,\u001b[0m \u001b[0;34m**\u001b[0m\u001b[0mkwargs\u001b[0m\u001b[0;34m)\u001b[0m\u001b[0;34m\u001b[0m\u001b[0;34m\u001b[0m\u001b[0m\n\u001b[0m\u001b[1;32m   2017\u001b[0m \u001b[0;34m\u001b[0m\u001b[0m\n\u001b[1;32m   2018\u001b[0m     \u001b[0;31m# ----------------------------------------------------------------------\u001b[0m\u001b[0;34m\u001b[0m\u001b[0;34m\u001b[0m\u001b[0m\n",
            "\u001b[0;32m/usr/local/lib/python3.10/dist-packages/pandas/core/arraylike.py\u001b[0m in \u001b[0;36marray_ufunc\u001b[0;34m(self, ufunc, method, *inputs, **kwargs)\u001b[0m\n\u001b[1;32m    271\u001b[0m \u001b[0;34m\u001b[0m\u001b[0m\n\u001b[1;32m    272\u001b[0m     \u001b[0;31m# for binary ops, use our custom dunder methods\u001b[0m\u001b[0;34m\u001b[0m\u001b[0;34m\u001b[0m\u001b[0m\n\u001b[0;32m--> 273\u001b[0;31m     \u001b[0mresult\u001b[0m \u001b[0;34m=\u001b[0m \u001b[0mmaybe_dispatch_ufunc_to_dunder_op\u001b[0m\u001b[0;34m(\u001b[0m\u001b[0mself\u001b[0m\u001b[0;34m,\u001b[0m \u001b[0mufunc\u001b[0m\u001b[0;34m,\u001b[0m \u001b[0mmethod\u001b[0m\u001b[0;34m,\u001b[0m \u001b[0;34m*\u001b[0m\u001b[0minputs\u001b[0m\u001b[0;34m,\u001b[0m \u001b[0;34m**\u001b[0m\u001b[0mkwargs\u001b[0m\u001b[0;34m)\u001b[0m\u001b[0;34m\u001b[0m\u001b[0;34m\u001b[0m\u001b[0m\n\u001b[0m\u001b[1;32m    274\u001b[0m     \u001b[0;32mif\u001b[0m \u001b[0mresult\u001b[0m \u001b[0;32mis\u001b[0m \u001b[0;32mnot\u001b[0m \u001b[0mNotImplemented\u001b[0m\u001b[0;34m:\u001b[0m\u001b[0;34m\u001b[0m\u001b[0;34m\u001b[0m\u001b[0m\n\u001b[1;32m    275\u001b[0m         \u001b[0;32mreturn\u001b[0m \u001b[0mresult\u001b[0m\u001b[0;34m\u001b[0m\u001b[0;34m\u001b[0m\u001b[0m\n",
            "\u001b[0;32m/usr/local/lib/python3.10/dist-packages/pandas/_libs/ops_dispatch.pyx\u001b[0m in \u001b[0;36mpandas._libs.ops_dispatch.maybe_dispatch_ufunc_to_dunder_op\u001b[0;34m()\u001b[0m\n",
            "\u001b[0;32m/usr/local/lib/python3.10/dist-packages/pandas/core/ops/common.py\u001b[0m in \u001b[0;36mnew_method\u001b[0;34m(self, other)\u001b[0m\n\u001b[1;32m     79\u001b[0m         \u001b[0mother\u001b[0m \u001b[0;34m=\u001b[0m \u001b[0mitem_from_zerodim\u001b[0m\u001b[0;34m(\u001b[0m\u001b[0mother\u001b[0m\u001b[0;34m)\u001b[0m\u001b[0;34m\u001b[0m\u001b[0;34m\u001b[0m\u001b[0m\n\u001b[1;32m     80\u001b[0m \u001b[0;34m\u001b[0m\u001b[0m\n\u001b[0;32m---> 81\u001b[0;31m         \u001b[0;32mreturn\u001b[0m \u001b[0mmethod\u001b[0m\u001b[0;34m(\u001b[0m\u001b[0mself\u001b[0m\u001b[0;34m,\u001b[0m \u001b[0mother\u001b[0m\u001b[0;34m)\u001b[0m\u001b[0;34m\u001b[0m\u001b[0;34m\u001b[0m\u001b[0m\n\u001b[0m\u001b[1;32m     82\u001b[0m \u001b[0;34m\u001b[0m\u001b[0m\n\u001b[1;32m     83\u001b[0m     \u001b[0;32mreturn\u001b[0m \u001b[0mnew_method\u001b[0m\u001b[0;34m\u001b[0m\u001b[0;34m\u001b[0m\u001b[0m\n",
            "\u001b[0;32m/usr/local/lib/python3.10/dist-packages/pandas/core/arraylike.py\u001b[0m in \u001b[0;36m__eq__\u001b[0;34m(self, other)\u001b[0m\n\u001b[1;32m     38\u001b[0m     \u001b[0;34m@\u001b[0m\u001b[0munpack_zerodim_and_defer\u001b[0m\u001b[0;34m(\u001b[0m\u001b[0;34m\"__eq__\"\u001b[0m\u001b[0;34m)\u001b[0m\u001b[0;34m\u001b[0m\u001b[0;34m\u001b[0m\u001b[0m\n\u001b[1;32m     39\u001b[0m     \u001b[0;32mdef\u001b[0m \u001b[0m__eq__\u001b[0m\u001b[0;34m(\u001b[0m\u001b[0mself\u001b[0m\u001b[0;34m,\u001b[0m \u001b[0mother\u001b[0m\u001b[0;34m)\u001b[0m\u001b[0;34m:\u001b[0m\u001b[0;34m\u001b[0m\u001b[0;34m\u001b[0m\u001b[0m\n\u001b[0;32m---> 40\u001b[0;31m         \u001b[0;32mreturn\u001b[0m \u001b[0mself\u001b[0m\u001b[0;34m.\u001b[0m\u001b[0m_cmp_method\u001b[0m\u001b[0;34m(\u001b[0m\u001b[0mother\u001b[0m\u001b[0;34m,\u001b[0m \u001b[0moperator\u001b[0m\u001b[0;34m.\u001b[0m\u001b[0meq\u001b[0m\u001b[0;34m)\u001b[0m\u001b[0;34m\u001b[0m\u001b[0;34m\u001b[0m\u001b[0m\n\u001b[0m\u001b[1;32m     41\u001b[0m \u001b[0;34m\u001b[0m\u001b[0m\n\u001b[1;32m     42\u001b[0m     \u001b[0;34m@\u001b[0m\u001b[0munpack_zerodim_and_defer\u001b[0m\u001b[0;34m(\u001b[0m\u001b[0;34m\"__ne__\"\u001b[0m\u001b[0;34m)\u001b[0m\u001b[0;34m\u001b[0m\u001b[0;34m\u001b[0m\u001b[0m\n",
            "\u001b[0;32m/usr/local/lib/python3.10/dist-packages/pandas/core/series.py\u001b[0m in \u001b[0;36m_cmp_method\u001b[0;34m(self, other, op)\u001b[0m\n\u001b[1;32m   6094\u001b[0m \u001b[0;34m\u001b[0m\u001b[0m\n\u001b[1;32m   6095\u001b[0m         \u001b[0;32mwith\u001b[0m \u001b[0mnp\u001b[0m\u001b[0;34m.\u001b[0m\u001b[0merrstate\u001b[0m\u001b[0;34m(\u001b[0m\u001b[0mall\u001b[0m\u001b[0;34m=\u001b[0m\u001b[0;34m\"ignore\"\u001b[0m\u001b[0;34m)\u001b[0m\u001b[0;34m:\u001b[0m\u001b[0;34m\u001b[0m\u001b[0;34m\u001b[0m\u001b[0m\n\u001b[0;32m-> 6096\u001b[0;31m             \u001b[0mres_values\u001b[0m \u001b[0;34m=\u001b[0m \u001b[0mops\u001b[0m\u001b[0;34m.\u001b[0m\u001b[0mcomparison_op\u001b[0m\u001b[0;34m(\u001b[0m\u001b[0mlvalues\u001b[0m\u001b[0;34m,\u001b[0m \u001b[0mrvalues\u001b[0m\u001b[0;34m,\u001b[0m \u001b[0mop\u001b[0m\u001b[0;34m)\u001b[0m\u001b[0;34m\u001b[0m\u001b[0;34m\u001b[0m\u001b[0m\n\u001b[0m\u001b[1;32m   6097\u001b[0m \u001b[0;34m\u001b[0m\u001b[0m\n\u001b[1;32m   6098\u001b[0m         \u001b[0;32mreturn\u001b[0m \u001b[0mself\u001b[0m\u001b[0;34m.\u001b[0m\u001b[0m_construct_result\u001b[0m\u001b[0;34m(\u001b[0m\u001b[0mres_values\u001b[0m\u001b[0;34m,\u001b[0m \u001b[0mname\u001b[0m\u001b[0;34m=\u001b[0m\u001b[0mres_name\u001b[0m\u001b[0;34m)\u001b[0m\u001b[0;34m\u001b[0m\u001b[0;34m\u001b[0m\u001b[0m\n",
            "\u001b[0;32m/usr/local/lib/python3.10/dist-packages/pandas/core/ops/array_ops.py\u001b[0m in \u001b[0;36mcomparison_op\u001b[0;34m(left, right, op)\u001b[0m\n\u001b[1;32m    268\u001b[0m         \u001b[0;31m#  The ambiguous case is object-dtype.  See GH#27803\u001b[0m\u001b[0;34m\u001b[0m\u001b[0;34m\u001b[0m\u001b[0m\n\u001b[1;32m    269\u001b[0m         \u001b[0;32mif\u001b[0m \u001b[0mlen\u001b[0m\u001b[0;34m(\u001b[0m\u001b[0mlvalues\u001b[0m\u001b[0;34m)\u001b[0m \u001b[0;34m!=\u001b[0m \u001b[0mlen\u001b[0m\u001b[0;34m(\u001b[0m\u001b[0mrvalues\u001b[0m\u001b[0;34m)\u001b[0m\u001b[0;34m:\u001b[0m\u001b[0;34m\u001b[0m\u001b[0;34m\u001b[0m\u001b[0m\n\u001b[0;32m--> 270\u001b[0;31m             raise ValueError(\n\u001b[0m\u001b[1;32m    271\u001b[0m                 \u001b[0;34m\"Lengths must match to compare\"\u001b[0m\u001b[0;34m,\u001b[0m \u001b[0mlvalues\u001b[0m\u001b[0;34m.\u001b[0m\u001b[0mshape\u001b[0m\u001b[0;34m,\u001b[0m \u001b[0mrvalues\u001b[0m\u001b[0;34m.\u001b[0m\u001b[0mshape\u001b[0m\u001b[0;34m\u001b[0m\u001b[0;34m\u001b[0m\u001b[0m\n\u001b[1;32m    272\u001b[0m             )\n",
            "\u001b[0;31mValueError\u001b[0m: ('Lengths must match to compare', (2500,), (10000,))"
          ]
        }
      ]
    }
  ]
}