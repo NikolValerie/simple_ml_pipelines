{
  "nbformat": 4,
  "nbformat_minor": 0,
  "metadata": {
    "colab": {
      "provenance": [],
      "machine_shape": "hm",
      "gpuType": "V28",
      "authorship_tag": "ABX9TyN80LGGVIRx7bhZM484le2F",
      "include_colab_link": true
    },
    "kernelspec": {
      "name": "python3",
      "display_name": "Python 3"
    },
    "language_info": {
      "name": "python"
    },
    "accelerator": "TPU"
  },
  "cells": [
    {
      "cell_type": "markdown",
      "metadata": {
        "id": "view-in-github",
        "colab_type": "text"
      },
      "source": [
        "<a href=\"https://colab.research.google.com/github/NikolValerie/PANDAS-real-estate/blob/main/Reviews_class_bert.ipynb\" target=\"_parent\"><img src=\"https://colab.research.google.com/assets/colab-badge.svg\" alt=\"Open In Colab\"/></a>"
      ]
    },
    {
      "cell_type": "code",
      "source": [
        "import numpy as np\n",
        "import pandas as pd\n",
        "from sklearn.preprocessing import LabelEncoder\n",
        "from sklearn.model_selection import train_test_split\n",
        "from sklearn.linear_model import LogisticRegression\n",
        "from sklearn.ensemble import RandomForestClassifier\n",
        "from sklearn.model_selection import GridSearchCV\n",
        "from sklearn.model_selection import cross_val_score\n",
        "import torch\n",
        "\n",
        "import matplotlib.pyplot as plt\n",
        "\n",
        "# импортируем трансформеры\n",
        "import transformers\n",
        "import warnings\n",
        "warnings.filterwarnings('ignore')"
      ],
      "metadata": {
        "id": "m9tLcFfPc2d1"
      },
      "execution_count": 1,
      "outputs": []
    },
    {
      "cell_type": "code",
      "source": [
        "file_path = 'kinopoisk.jsonl'\n",
        "\n",
        "# Open the JSONL file and read its contents\n",
        "with open(file_path, 'r') as file:\n",
        "    # Initialize an empty list to store JSON objects\n",
        "    json_data = []\n",
        "\n",
        "    # Read each line in the JSONL file\n",
        "    for line in file:\n",
        "        # Parse the JSON object from the line and append it to the list\n",
        "        json_data.append(json.loads(line))\n",
        "\n",
        "# Create a Pandas DataFrame from the list of JSON objects\n",
        "df = pd.DataFrame(json_data)\n",
        "\n",
        "df"
      ],
      "metadata": {
        "colab": {
          "base_uri": "https://localhost:8080/",
          "height": 999
        },
        "id": "qJKbNuIRh9pU",
        "outputId": "b499174d-3c9d-464c-f1fb-3bfd56b2f8f7"
      },
      "execution_count": 25,
      "outputs": [
        {
          "output_type": "execute_result",
          "data": {
            "text/plain": [
              "            part             movie_name review_id         author  \\\n",
              "0         top250            Блеф (1976)     17144      Come Back   \n",
              "1         top250            Блеф (1976)     17139        Stasiki   \n",
              "2         top250            Блеф (1976)     17137       Flashman   \n",
              "3         top250            Блеф (1976)     17135  Sergio Tishin   \n",
              "4         top250            Блеф (1976)     17151        Фюльгья   \n",
              "...          ...                    ...       ...            ...   \n",
              "36586  bottom100  Цветок дьявола (2010)     25123     bestiya163   \n",
              "36587  bottom100  Цветок дьявола (2010)     25192          Молка   \n",
              "36588  bottom100  Цветок дьявола (2010)     25080          jetry   \n",
              "36589  bottom100  Цветок дьявола (2010)     25088         Alkort   \n",
              "36590  bottom100  Цветок дьявола (2010)     25149           Флоя   \n",
              "\n",
              "                      date                                              title  \\\n",
              "0      2011-09-24T00:00:00                             Плакали наши денежки ©   \n",
              "1      2008-03-04T00:00:00                                               None   \n",
              "2      2007-03-04T00:00:00                                               None   \n",
              "3      2009-08-17T00:00:00  \" Черное, красное, ерунда это все. Выигрывает ...   \n",
              "4      2009-08-20T00:00:00                «Он хотел убежать? Да! Блеф, блеф…»   \n",
              "...                    ...                                                ...   \n",
              "36586  2010-09-23T00:00:00                                        Ой, ой, ой!   \n",
              "36587  2010-10-02T00:00:00                          Молчаливый мужик на коне…   \n",
              "36588  2010-09-16T00:00:00                      Это проявилось сегодня ночью.   \n",
              "36589  2010-09-16T00:00:00                                «Finita la comedia»   \n",
              "36590  2011-02-20T00:00:00                      На что потратили аж 5000000?!   \n",
              "\n",
              "        grade3 grade10                                            content  \n",
              "0         Good      10  \\n\"Блеф» — одна из моих самых любимых комедий....  \n",
              "1         Good       0  \\nАдриано Челентано продолжает радовать нас св...  \n",
              "2         Good      10  \\nНесомненно, это один из великих фильмов 80-х...  \n",
              "3         Good       0  \\nЭта фраза на мой взгляд отражает сюжет несом...  \n",
              "4      Neutral       7  \\n- как пела Земфира, скорее всего, по соверше...  \n",
              "...        ...     ...                                                ...  \n",
              "36586      Bad       2  \\n      Ну с чего бы начать… Давненько я не пи...  \n",
              "36587      Bad       1  \\n      Можно начать с того, что уже постер к ...  \n",
              "36588     Good       7  \\n      Фильм производства России, поэтому мно...  \n",
              "36589      Bad       0  \\n      16 сентября на большие экраны вышел «м...  \n",
              "36590      Bad       1  \\n      Эх, как я пыталась настроить себя поло...  \n",
              "\n",
              "[36591 rows x 9 columns]"
            ],
            "text/html": [
              "\n",
              "  <div id=\"df-644525bd-f22e-4814-83a9-f49aa3a65fb4\" class=\"colab-df-container\">\n",
              "    <div>\n",
              "<style scoped>\n",
              "    .dataframe tbody tr th:only-of-type {\n",
              "        vertical-align: middle;\n",
              "    }\n",
              "\n",
              "    .dataframe tbody tr th {\n",
              "        vertical-align: top;\n",
              "    }\n",
              "\n",
              "    .dataframe thead th {\n",
              "        text-align: right;\n",
              "    }\n",
              "</style>\n",
              "<table border=\"1\" class=\"dataframe\">\n",
              "  <thead>\n",
              "    <tr style=\"text-align: right;\">\n",
              "      <th></th>\n",
              "      <th>part</th>\n",
              "      <th>movie_name</th>\n",
              "      <th>review_id</th>\n",
              "      <th>author</th>\n",
              "      <th>date</th>\n",
              "      <th>title</th>\n",
              "      <th>grade3</th>\n",
              "      <th>grade10</th>\n",
              "      <th>content</th>\n",
              "    </tr>\n",
              "  </thead>\n",
              "  <tbody>\n",
              "    <tr>\n",
              "      <th>0</th>\n",
              "      <td>top250</td>\n",
              "      <td>Блеф (1976)</td>\n",
              "      <td>17144</td>\n",
              "      <td>Come Back</td>\n",
              "      <td>2011-09-24T00:00:00</td>\n",
              "      <td>Плакали наши денежки ©</td>\n",
              "      <td>Good</td>\n",
              "      <td>10</td>\n",
              "      <td>\\n\"Блеф» — одна из моих самых любимых комедий....</td>\n",
              "    </tr>\n",
              "    <tr>\n",
              "      <th>1</th>\n",
              "      <td>top250</td>\n",
              "      <td>Блеф (1976)</td>\n",
              "      <td>17139</td>\n",
              "      <td>Stasiki</td>\n",
              "      <td>2008-03-04T00:00:00</td>\n",
              "      <td>None</td>\n",
              "      <td>Good</td>\n",
              "      <td>0</td>\n",
              "      <td>\\nАдриано Челентано продолжает радовать нас св...</td>\n",
              "    </tr>\n",
              "    <tr>\n",
              "      <th>2</th>\n",
              "      <td>top250</td>\n",
              "      <td>Блеф (1976)</td>\n",
              "      <td>17137</td>\n",
              "      <td>Flashman</td>\n",
              "      <td>2007-03-04T00:00:00</td>\n",
              "      <td>None</td>\n",
              "      <td>Good</td>\n",
              "      <td>10</td>\n",
              "      <td>\\nНесомненно, это один из великих фильмов 80-х...</td>\n",
              "    </tr>\n",
              "    <tr>\n",
              "      <th>3</th>\n",
              "      <td>top250</td>\n",
              "      <td>Блеф (1976)</td>\n",
              "      <td>17135</td>\n",
              "      <td>Sergio Tishin</td>\n",
              "      <td>2009-08-17T00:00:00</td>\n",
              "      <td>\" Черное, красное, ерунда это все. Выигрывает ...</td>\n",
              "      <td>Good</td>\n",
              "      <td>0</td>\n",
              "      <td>\\nЭта фраза на мой взгляд отражает сюжет несом...</td>\n",
              "    </tr>\n",
              "    <tr>\n",
              "      <th>4</th>\n",
              "      <td>top250</td>\n",
              "      <td>Блеф (1976)</td>\n",
              "      <td>17151</td>\n",
              "      <td>Фюльгья</td>\n",
              "      <td>2009-08-20T00:00:00</td>\n",
              "      <td>«Он хотел убежать? Да! Блеф, блеф…»</td>\n",
              "      <td>Neutral</td>\n",
              "      <td>7</td>\n",
              "      <td>\\n- как пела Земфира, скорее всего, по соверше...</td>\n",
              "    </tr>\n",
              "    <tr>\n",
              "      <th>...</th>\n",
              "      <td>...</td>\n",
              "      <td>...</td>\n",
              "      <td>...</td>\n",
              "      <td>...</td>\n",
              "      <td>...</td>\n",
              "      <td>...</td>\n",
              "      <td>...</td>\n",
              "      <td>...</td>\n",
              "      <td>...</td>\n",
              "    </tr>\n",
              "    <tr>\n",
              "      <th>36586</th>\n",
              "      <td>bottom100</td>\n",
              "      <td>Цветок дьявола (2010)</td>\n",
              "      <td>25123</td>\n",
              "      <td>bestiya163</td>\n",
              "      <td>2010-09-23T00:00:00</td>\n",
              "      <td>Ой, ой, ой!</td>\n",
              "      <td>Bad</td>\n",
              "      <td>2</td>\n",
              "      <td>\\n      Ну с чего бы начать… Давненько я не пи...</td>\n",
              "    </tr>\n",
              "    <tr>\n",
              "      <th>36587</th>\n",
              "      <td>bottom100</td>\n",
              "      <td>Цветок дьявола (2010)</td>\n",
              "      <td>25192</td>\n",
              "      <td>Молка</td>\n",
              "      <td>2010-10-02T00:00:00</td>\n",
              "      <td>Молчаливый мужик на коне…</td>\n",
              "      <td>Bad</td>\n",
              "      <td>1</td>\n",
              "      <td>\\n      Можно начать с того, что уже постер к ...</td>\n",
              "    </tr>\n",
              "    <tr>\n",
              "      <th>36588</th>\n",
              "      <td>bottom100</td>\n",
              "      <td>Цветок дьявола (2010)</td>\n",
              "      <td>25080</td>\n",
              "      <td>jetry</td>\n",
              "      <td>2010-09-16T00:00:00</td>\n",
              "      <td>Это проявилось сегодня ночью.</td>\n",
              "      <td>Good</td>\n",
              "      <td>7</td>\n",
              "      <td>\\n      Фильм производства России, поэтому мно...</td>\n",
              "    </tr>\n",
              "    <tr>\n",
              "      <th>36589</th>\n",
              "      <td>bottom100</td>\n",
              "      <td>Цветок дьявола (2010)</td>\n",
              "      <td>25088</td>\n",
              "      <td>Alkort</td>\n",
              "      <td>2010-09-16T00:00:00</td>\n",
              "      <td>«Finita la comedia»</td>\n",
              "      <td>Bad</td>\n",
              "      <td>0</td>\n",
              "      <td>\\n      16 сентября на большие экраны вышел «м...</td>\n",
              "    </tr>\n",
              "    <tr>\n",
              "      <th>36590</th>\n",
              "      <td>bottom100</td>\n",
              "      <td>Цветок дьявола (2010)</td>\n",
              "      <td>25149</td>\n",
              "      <td>Флоя</td>\n",
              "      <td>2011-02-20T00:00:00</td>\n",
              "      <td>На что потратили аж 5000000?!</td>\n",
              "      <td>Bad</td>\n",
              "      <td>1</td>\n",
              "      <td>\\n      Эх, как я пыталась настроить себя поло...</td>\n",
              "    </tr>\n",
              "  </tbody>\n",
              "</table>\n",
              "<p>36591 rows × 9 columns</p>\n",
              "</div>\n",
              "    <div class=\"colab-df-buttons\">\n",
              "\n",
              "  <div class=\"colab-df-container\">\n",
              "    <button class=\"colab-df-convert\" onclick=\"convertToInteractive('df-644525bd-f22e-4814-83a9-f49aa3a65fb4')\"\n",
              "            title=\"Convert this dataframe to an interactive table.\"\n",
              "            style=\"display:none;\">\n",
              "\n",
              "  <svg xmlns=\"http://www.w3.org/2000/svg\" height=\"24px\" viewBox=\"0 -960 960 960\">\n",
              "    <path d=\"M120-120v-720h720v720H120Zm60-500h600v-160H180v160Zm220 220h160v-160H400v160Zm0 220h160v-160H400v160ZM180-400h160v-160H180v160Zm440 0h160v-160H620v160ZM180-180h160v-160H180v160Zm440 0h160v-160H620v160Z\"/>\n",
              "  </svg>\n",
              "    </button>\n",
              "\n",
              "  <style>\n",
              "    .colab-df-container {\n",
              "      display:flex;\n",
              "      gap: 12px;\n",
              "    }\n",
              "\n",
              "    .colab-df-convert {\n",
              "      background-color: #E8F0FE;\n",
              "      border: none;\n",
              "      border-radius: 50%;\n",
              "      cursor: pointer;\n",
              "      display: none;\n",
              "      fill: #1967D2;\n",
              "      height: 32px;\n",
              "      padding: 0 0 0 0;\n",
              "      width: 32px;\n",
              "    }\n",
              "\n",
              "    .colab-df-convert:hover {\n",
              "      background-color: #E2EBFA;\n",
              "      box-shadow: 0px 1px 2px rgba(60, 64, 67, 0.3), 0px 1px 3px 1px rgba(60, 64, 67, 0.15);\n",
              "      fill: #174EA6;\n",
              "    }\n",
              "\n",
              "    .colab-df-buttons div {\n",
              "      margin-bottom: 4px;\n",
              "    }\n",
              "\n",
              "    [theme=dark] .colab-df-convert {\n",
              "      background-color: #3B4455;\n",
              "      fill: #D2E3FC;\n",
              "    }\n",
              "\n",
              "    [theme=dark] .colab-df-convert:hover {\n",
              "      background-color: #434B5C;\n",
              "      box-shadow: 0px 1px 3px 1px rgba(0, 0, 0, 0.15);\n",
              "      filter: drop-shadow(0px 1px 2px rgba(0, 0, 0, 0.3));\n",
              "      fill: #FFFFFF;\n",
              "    }\n",
              "  </style>\n",
              "\n",
              "    <script>\n",
              "      const buttonEl =\n",
              "        document.querySelector('#df-644525bd-f22e-4814-83a9-f49aa3a65fb4 button.colab-df-convert');\n",
              "      buttonEl.style.display =\n",
              "        google.colab.kernel.accessAllowed ? 'block' : 'none';\n",
              "\n",
              "      async function convertToInteractive(key) {\n",
              "        const element = document.querySelector('#df-644525bd-f22e-4814-83a9-f49aa3a65fb4');\n",
              "        const dataTable =\n",
              "          await google.colab.kernel.invokeFunction('convertToInteractive',\n",
              "                                                    [key], {});\n",
              "        if (!dataTable) return;\n",
              "\n",
              "        const docLinkHtml = 'Like what you see? Visit the ' +\n",
              "          '<a target=\"_blank\" href=https://colab.research.google.com/notebooks/data_table.ipynb>data table notebook</a>'\n",
              "          + ' to learn more about interactive tables.';\n",
              "        element.innerHTML = '';\n",
              "        dataTable['output_type'] = 'display_data';\n",
              "        await google.colab.output.renderOutput(dataTable, element);\n",
              "        const docLink = document.createElement('div');\n",
              "        docLink.innerHTML = docLinkHtml;\n",
              "        element.appendChild(docLink);\n",
              "      }\n",
              "    </script>\n",
              "  </div>\n",
              "\n",
              "\n",
              "<div id=\"df-83f31fae-8658-45ea-b307-dc06dd05e684\">\n",
              "  <button class=\"colab-df-quickchart\" onclick=\"quickchart('df-83f31fae-8658-45ea-b307-dc06dd05e684')\"\n",
              "            title=\"Suggest charts\"\n",
              "            style=\"display:none;\">\n",
              "\n",
              "<svg xmlns=\"http://www.w3.org/2000/svg\" height=\"24px\"viewBox=\"0 0 24 24\"\n",
              "     width=\"24px\">\n",
              "    <g>\n",
              "        <path d=\"M19 3H5c-1.1 0-2 .9-2 2v14c0 1.1.9 2 2 2h14c1.1 0 2-.9 2-2V5c0-1.1-.9-2-2-2zM9 17H7v-7h2v7zm4 0h-2V7h2v10zm4 0h-2v-4h2v4z\"/>\n",
              "    </g>\n",
              "</svg>\n",
              "  </button>\n",
              "\n",
              "<style>\n",
              "  .colab-df-quickchart {\n",
              "      --bg-color: #E8F0FE;\n",
              "      --fill-color: #1967D2;\n",
              "      --hover-bg-color: #E2EBFA;\n",
              "      --hover-fill-color: #174EA6;\n",
              "      --disabled-fill-color: #AAA;\n",
              "      --disabled-bg-color: #DDD;\n",
              "  }\n",
              "\n",
              "  [theme=dark] .colab-df-quickchart {\n",
              "      --bg-color: #3B4455;\n",
              "      --fill-color: #D2E3FC;\n",
              "      --hover-bg-color: #434B5C;\n",
              "      --hover-fill-color: #FFFFFF;\n",
              "      --disabled-bg-color: #3B4455;\n",
              "      --disabled-fill-color: #666;\n",
              "  }\n",
              "\n",
              "  .colab-df-quickchart {\n",
              "    background-color: var(--bg-color);\n",
              "    border: none;\n",
              "    border-radius: 50%;\n",
              "    cursor: pointer;\n",
              "    display: none;\n",
              "    fill: var(--fill-color);\n",
              "    height: 32px;\n",
              "    padding: 0;\n",
              "    width: 32px;\n",
              "  }\n",
              "\n",
              "  .colab-df-quickchart:hover {\n",
              "    background-color: var(--hover-bg-color);\n",
              "    box-shadow: 0 1px 2px rgba(60, 64, 67, 0.3), 0 1px 3px 1px rgba(60, 64, 67, 0.15);\n",
              "    fill: var(--button-hover-fill-color);\n",
              "  }\n",
              "\n",
              "  .colab-df-quickchart-complete:disabled,\n",
              "  .colab-df-quickchart-complete:disabled:hover {\n",
              "    background-color: var(--disabled-bg-color);\n",
              "    fill: var(--disabled-fill-color);\n",
              "    box-shadow: none;\n",
              "  }\n",
              "\n",
              "  .colab-df-spinner {\n",
              "    border: 2px solid var(--fill-color);\n",
              "    border-color: transparent;\n",
              "    border-bottom-color: var(--fill-color);\n",
              "    animation:\n",
              "      spin 1s steps(1) infinite;\n",
              "  }\n",
              "\n",
              "  @keyframes spin {\n",
              "    0% {\n",
              "      border-color: transparent;\n",
              "      border-bottom-color: var(--fill-color);\n",
              "      border-left-color: var(--fill-color);\n",
              "    }\n",
              "    20% {\n",
              "      border-color: transparent;\n",
              "      border-left-color: var(--fill-color);\n",
              "      border-top-color: var(--fill-color);\n",
              "    }\n",
              "    30% {\n",
              "      border-color: transparent;\n",
              "      border-left-color: var(--fill-color);\n",
              "      border-top-color: var(--fill-color);\n",
              "      border-right-color: var(--fill-color);\n",
              "    }\n",
              "    40% {\n",
              "      border-color: transparent;\n",
              "      border-right-color: var(--fill-color);\n",
              "      border-top-color: var(--fill-color);\n",
              "    }\n",
              "    60% {\n",
              "      border-color: transparent;\n",
              "      border-right-color: var(--fill-color);\n",
              "    }\n",
              "    80% {\n",
              "      border-color: transparent;\n",
              "      border-right-color: var(--fill-color);\n",
              "      border-bottom-color: var(--fill-color);\n",
              "    }\n",
              "    90% {\n",
              "      border-color: transparent;\n",
              "      border-bottom-color: var(--fill-color);\n",
              "    }\n",
              "  }\n",
              "</style>\n",
              "\n",
              "  <script>\n",
              "    async function quickchart(key) {\n",
              "      const quickchartButtonEl =\n",
              "        document.querySelector('#' + key + ' button');\n",
              "      quickchartButtonEl.disabled = true;  // To prevent multiple clicks.\n",
              "      quickchartButtonEl.classList.add('colab-df-spinner');\n",
              "      try {\n",
              "        const charts = await google.colab.kernel.invokeFunction(\n",
              "            'suggestCharts', [key], {});\n",
              "      } catch (error) {\n",
              "        console.error('Error during call to suggestCharts:', error);\n",
              "      }\n",
              "      quickchartButtonEl.classList.remove('colab-df-spinner');\n",
              "      quickchartButtonEl.classList.add('colab-df-quickchart-complete');\n",
              "    }\n",
              "    (() => {\n",
              "      let quickchartButtonEl =\n",
              "        document.querySelector('#df-83f31fae-8658-45ea-b307-dc06dd05e684 button');\n",
              "      quickchartButtonEl.style.display =\n",
              "        google.colab.kernel.accessAllowed ? 'block' : 'none';\n",
              "    })();\n",
              "  </script>\n",
              "</div>\n",
              "    </div>\n",
              "  </div>\n"
            ],
            "application/vnd.google.colaboratory.intrinsic+json": {
              "type": "dataframe",
              "variable_name": "df",
              "summary": "{\n  \"name\": \"df\",\n  \"rows\": 36591,\n  \"fields\": [\n    {\n      \"column\": \"part\",\n      \"properties\": {\n        \"dtype\": \"category\",\n        \"num_unique_values\": 2,\n        \"samples\": [\n          \"bottom100\",\n          \"top250\"\n        ],\n        \"semantic_type\": \"\",\n        \"description\": \"\"\n      }\n    },\n    {\n      \"column\": \"movie_name\",\n      \"properties\": {\n        \"dtype\": \"category\",\n        \"num_unique_values\": 350,\n        \"samples\": [\n          \"\\u0427\\u0430\\u043f\\u043b\\u0438\\u043d (1992)\",\n          \"\\u041d\\u0438\\u043a\\u0442\\u043e \\u043d\\u0435 \\u0437\\u043d\\u0430\\u0435\\u0442 \\u043f\\u0440\\u043e \\u0441\\u0435\\u043a\\u0441 (2006)\"\n        ],\n        \"semantic_type\": \"\",\n        \"description\": \"\"\n      }\n    },\n    {\n      \"column\": \"review_id\",\n      \"properties\": {\n        \"dtype\": \"string\",\n        \"num_unique_values\": 30695,\n        \"samples\": [\n          \"6120\",\n          \"10847\"\n        ],\n        \"semantic_type\": \"\",\n        \"description\": \"\"\n      }\n    },\n    {\n      \"column\": \"author\",\n      \"properties\": {\n        \"dtype\": \"category\",\n        \"num_unique_values\": 16210,\n        \"samples\": [\n          \"Atera\",\n          \"kitniss5\"\n        ],\n        \"semantic_type\": \"\",\n        \"description\": \"\"\n      }\n    },\n    {\n      \"column\": \"date\",\n      \"properties\": {\n        \"dtype\": \"object\",\n        \"num_unique_values\": 2643,\n        \"samples\": [\n          \"2007-01-21T00:00:00\",\n          \"2011-09-05T00:00:00\"\n        ],\n        \"semantic_type\": \"\",\n        \"description\": \"\"\n      }\n    },\n    {\n      \"column\": \"title\",\n      \"properties\": {\n        \"dtype\": \"string\",\n        \"num_unique_values\": 26236,\n        \"samples\": [\n          \"\\u041d\\u0435 \\u044f\\u00a0\\u043d\\u0430\\u0447\\u0430\\u043b\\u0430 \\u044d\\u0442\\u043e\\u0442 \\u0431\\u043e\\u0439, \\u043d\\u043e\\u00a0\\u044f \\u0435\\u0433\\u043e\\u00a0\\u0437\\u0430\\u043a\\u043e\\u043d\\u0447\\u0443\",\n          \"\\u041b\\u044e\\u0431\\u043e\\u0432\\u044c \\u0442\\u043e\\u043b\\u043a\\u0430\\u0435\\u0442 \\u043d\\u0430\\u0441\\u00a0\\u043d\\u0430 \\u0431\\u0435\\u0437\\u0443\\u043c\\u043d\\u044b\\u0435 \\u043f\\u043e\\u0441\\u0442\\u0443\\u043f\\u043a\\u0438\\u2026\"\n        ],\n        \"semantic_type\": \"\",\n        \"description\": \"\"\n      }\n    },\n    {\n      \"column\": \"grade3\",\n      \"properties\": {\n        \"dtype\": \"category\",\n        \"num_unique_values\": 3,\n        \"samples\": [\n          \"Good\",\n          \"Neutral\"\n        ],\n        \"semantic_type\": \"\",\n        \"description\": \"\"\n      }\n    },\n    {\n      \"column\": \"grade10\",\n      \"properties\": {\n        \"dtype\": \"category\",\n        \"num_unique_values\": 69,\n        \"samples\": [\n          \"9.9\",\n          \"10\"\n        ],\n        \"semantic_type\": \"\",\n        \"description\": \"\"\n      }\n    },\n    {\n      \"column\": \"content\",\n      \"properties\": {\n        \"dtype\": \"string\",\n        \"num_unique_values\": 36579,\n        \"samples\": [\n          \"\\n\\u042d\\u0442\\u043e \\u0434\\u0430\\u043b\\u0435\\u043a\\u043e \\u043d\\u0435\\u00a0\\u0441\\u0442\\u0430\\u043d\\u0434\\u0430\\u0440\\u0442\\u043d\\u044b\\u0439 \\u0444\\u0438\\u043b\\u044c\\u043c, \\u0432\\u043f\\u0440\\u043e\\u0447\\u0435\\u043c \\u043a\\u0430\\u043a\\u00a0\\u0438 \\u0432\\u0441\\u0435\\u00a0\\u0444\\u0438\\u043b\\u044c\\u043c\\u044b \\u0424\\u0435\\u0434\\u0435\\u0440\\u0438\\u043a\\u043e \\u0424\\u0435\\u043b\\u043b\\u0438\\u043d\\u0438. \\u041f\\u0440\\u0435\\u0436\\u0434\\u0435 \\u0432\\u0441\\u0435\\u0433\\u043e \\u00abLa dolce vita\\u00bb \\u0441\\u043b\\u0435\\u0434\\u0443\\u0435\\u0442 \\u0440\\u0430\\u0441\\u0441\\u043c\\u0430\\u0442\\u0440\\u0438\\u0432\\u0430\\u0442\\u044c \\u043a\\u0430\\u043a\\u00a0\\u0444\\u0438\\u043b\\u043e\\u0441\\u043e\\u0444\\u0441\\u043a\\u0443\\u044e \\u043f\\u0440\\u0438\\u0442\\u0447\\u0443 \\u043e\\u0431\\u00a0\\u0438\\u0442\\u0430\\u043b\\u044c\\u044f\\u043d\\u0441\\u043a\\u043e\\u043c \\u043e\\u0431\\u0449\\u0435\\u0441\\u0442\\u0432\\u0435, \\u043f\\u0435\\u0440\\u0435\\u0436\\u0438\\u0432\\u0430\\u044e\\u0449\\u0435\\u043c \\u00ab\\u044d\\u043a\\u043e\\u043d\\u043e\\u043c\\u0438\\u0447\\u0435\\u0441\\u043a\\u043e\\u0435 \\u0447\\u0443\\u0434\\u043e\\u00bb \\u043f\\u043e\\u0441\\u043b\\u0435 \\u043d\\u0435\\u0441\\u043a\\u043e\\u043b\\u044c\\u043a\\u0438\\u0445 \\u043b\\u0435\\u0442\\u00a0\\u043d\\u0438\\u0449\\u0435\\u0442\\u044b. \\u041b\\u0443\\u0447\\u0448\\u0435 \\u0447\\u0435\\u043c\\u00a0\\u0424\\u0435\\u043b\\u043b\\u0438\\u043d\\u0438 \\u043e\\u0431\\u00a0\\u0438\\u0442\\u0430\\u043b\\u044c\\u044f\\u043d\\u0446\\u0430\\u0445 (\\u0434\\u0430 \\u0438\\u00a0\\u043e \\u043b\\u0438\\u0447\\u043d\\u043e\\u0441\\u0442\\u044f\\u0445 \\u0432\\u043e\\u043e\\u0431\\u0449\\u0435), \\u0438\\u0445\\u00a0\\u0436\\u0438\\u0437\\u043d\\u0438, \\u043f\\u0440\\u0438\\u0432\\u044b\\u0447\\u043a\\u0430\\u0445, \\u043f\\u0440\\u0435\\u0434\\u043f\\u043e\\u0447\\u0442\\u0435\\u043d\\u0438\\u044f\\u0445 \\u0438\\u00a0\\u0441\\u0442\\u0440\\u0430\\u0441\\u0442\\u044f\\u0445 \\u043d\\u0435\\u00a0\\u0441\\u043d\\u0438\\u043c\\u0430\\u043b \\u043d\\u0438\\u043a\\u0442\\u043e.\\n\\n\\u041e\\u043d \\u0445\\u043e\\u0442\\u0435\\u043b \\u043f\\u043e\\u043a\\u0430\\u0437\\u0430\\u0442\\u044c, \\u043a\\u0430\\u043a\\u00a0\\u0431\\u0435\\u0441\\u043f\\u0435\\u0447\\u043d\\u0430, \\u043f\\u0443\\u0441\\u0442\\u0430, \\u0431\\u0435\\u0441\\u0441\\u043c\\u044b\\u0441\\u043b\\u0435\\u043d\\u043d\\u0430 \\u0436\\u0438\\u0437\\u043d\\u044c, \\u0432\\u00a0\\u043a\\u043e\\u0442\\u043e\\u0440\\u043e\\u0439 \\u0446\\u0430\\u0440\\u044f\\u0442 \\u043e\\u0434\\u0438\\u043d\\u043e\\u0447\\u0435\\u0441\\u0442\\u0432\\u043e, \\u043e\\u0442\\u0447\\u0443\\u0436\\u0434\\u0435\\u043d\\u0438\\u0435, \\u0440\\u0430\\u0437\\u043e\\u0431\\u0449\\u0435\\u043d\\u0438\\u0435 \\u043b\\u044e\\u0434\\u0435\\u0439. \\u041f\\u0440\\u043e\\u0431\\u043b\\u0435\\u043c\\u0430 \\u043b\\u0438\\u0447\\u043d\\u043e\\u0441\\u0442\\u0438 \\u0433\\u0435\\u0440\\u043e\\u044f \\u041c\\u0430\\u0441\\u0442\\u0440\\u043e\\u044f\\u043d\\u043d\\u0438 \\u043e\\u0441\\u0442\\u0430\\u0435\\u0442\\u0441\\u044f \\u0430\\u043a\\u0442\\u0443\\u0430\\u043b\\u044c\\u043d\\u0430 \\u0438\\u00a0\\u043f\\u043e \\u0441\\u0435\\u0439\\u00a0\\u0434\\u0435\\u043d\\u044c. \\u041e\\u043d\\u00a0\\u043f\\u043e\\u0441\\u0442\\u043e\\u044f\\u043d\\u043d\\u043e \\u043f\\u0440\\u0438\\u0441\\u0443\\u0442\\u0441\\u0442\\u0432\\u0443\\u0435\\u0442 \\u0432\\u00a0\\u0444\\u0430\\u043b\\u044c\\u0448\\u0438\\u0432\\u044b\\u0445, \\u043f\\u044c\\u044f\\u043d\\u044b\\u0445, \\u00ab\\u0432\\u0435\\u0441\\u0435\\u043b\\u044b\\u0445\\u00bb \\u0432\\u0435\\u0447\\u0435\\u0440\\u0438\\u043d\\u043a\\u0430\\u0445 \\u0440\\u0430\\u0437\\u043d\\u043e\\u043e\\u0431\\u0440\\u0430\\u0437\\u043d\\u044b\\u0445 \\u044d\\u043b\\u0438\\u0442. \\u0412\\u00a0\\u044d\\u0442\\u043e\\u043c \\u043d\\u0435\\u043f\\u0440\\u0435\\u043a\\u0440\\u0430\\u0449\\u0430\\u044e\\u0449\\u0435\\u043c\\u0441\\u044f \\u043f\\u0440\\u0430\\u0437\\u0434\\u043d\\u0438\\u043a\\u0435 \\u0433\\u043e\\u043b\\u043e\\u0441 \\u043e\\u0434\\u043d\\u043e\\u0433\\u043e \\u0447\\u0435\\u043b\\u043e\\u0432\\u0435\\u043a\\u0430 \\u0441\\u043e\\u0432\\u0441\\u0435\\u043c \\u043d\\u0435\\u00a0\\u0441\\u043b\\u044b\\u0448\\u043d\\u043e, \\u043e\\u043d\\u00a0\\u0442\\u0435\\u0440\\u044f\\u0435\\u0442\\u0441\\u044f \\u0437\\u0430\\u00a0\\u0433\\u0443\\u043b\\u043e\\u043c \\u0432\\u043e\\u0441\\u0442\\u043e\\u0440\\u0436\\u0435\\u043d\\u043d\\u044b\\u0445 \\u043a\\u0440\\u0438\\u043a\\u043e\\u0432. \\u0427\\u0442\\u043e\\u00a0\\u043e\\u0441\\u0442\\u0430\\u0435\\u0442\\u0441\\u044f \\u043f\\u043e\\u0441\\u043b\\u0435 \\u0432\\u0435\\u0447\\u0435\\u0440\\u0438\\u043d\\u043a\\u0438?\\u0422\\u043e\\u043b\\u044c\\u043a\\u043e \\u043e\\u043d\\u0430, \\u043e\\u0442\\u00a0\\u043a\\u043e\\u0442\\u043e\\u0440\\u043e\\u0439 \\u0432\\u0441\\u0435\\u00a0\\u0445\\u043e\\u0442\\u044f\\u0442 \\u0443\\u0431\\u0435\\u0436\\u0430\\u0442\\u044c. \\u0422\\u043e\\u043b\\u044c\\u043a\\u043e \\u043e\\u043d\\u0430\\u00a0\\u2014\\u00a0\\u0441\\u0430\\u043c\\u0430 \\u0436\\u0438\\u0437\\u043d\\u044c\\n\\n\\u041a\\u0430\\u0440\\u0442\\u0438\\u043d\\u0430 \\u043f\\u043e\\u043b\\u0443\\u0447\\u0438\\u043b\\u0430 \\u00ab\\u0417\\u043e\\u043b\\u043e\\u0442\\u0443\\u044e \\u043f\\u0430\\u043b\\u044c\\u043c\\u043e\\u0432\\u0443\\u044e \\u0432\\u0435\\u0442\\u0432\\u044c\\u00bb \\u043d\\u0430\\u00a0\\u0444\\u0435\\u0441\\u0442\\u0438\\u0432\\u0430\\u043b\\u0435 \\u0432\\u00a0\\u041a\\u0430\\u043d\\u043d\\u0430\\u0445 \\u0438\\u00a0\\u043e\\u043a\\u0430\\u0437\\u0430\\u043b\\u0430 \\u0437\\u043d\\u0430\\u0447\\u0438\\u0442\\u0435\\u043b\\u044c\\u043d\\u043e\\u0435 \\u0432\\u043b\\u0438\\u044f\\u043d\\u0438\\u0435 \\u043d\\u0430\\u00a0\\u043a\\u0438\\u043d\\u0435\\u043c\\u0430\\u0442\\u043e\\u0433\\u0440\\u0430\\u0444\\u0438\\u0441\\u0442\\u043e\\u0432 \\u0432\\u0441\\u0435\\u0433\\u043e \\u043c\\u0438\\u0440\\u0430. \\u041f\\u0440\\u0438\\u00a0\\u0432\\u043d\\u0435\\u0448\\u043d\\u0435\\u0439 \\u043f\\u0440\\u043e\\u0441\\u0442\\u043e\\u0442\\u0435, \\u044f\\u0441\\u043d\\u043e\\u0441\\u0442\\u0438 \\u043b\\u0435\\u043d\\u0442\\u0430 \\u0432\\u043f\\u0435\\u0440\\u0432\\u044b\\u0435 \\u043f\\u043e\\u0440\\u0430\\u0437\\u0438\\u043b\\u0430 \\u0431\\u0430\\u0440\\u043e\\u0447\\u043d\\u043e\\u0441\\u0442\\u044c\\u044e \\u0440\\u0435\\u0436\\u0438\\u0441\\u0441\\u0435\\u0440\\u0441\\u043a\\u043e\\u0433\\u043e \\u0432\\u0438\\u0434\\u0435\\u043d\\u0438\\u044f, \\u0441\\u043b\\u043e\\u0436\\u043d\\u043e\\u0441\\u0442\\u044c\\u044e \\u043a\\u043e\\u043c\\u043f\\u043e\\u0437\\u0438\\u0446\\u0438\\u0438, \\u0441\\u0438\\u043c\\u0432\\u043e\\u043b\\u0438\\u0447\\u043d\\u043e\\u0441\\u0442\\u044c\\u044e \\u043f\\u0440\\u043e\\u043b\\u043e\\u0433\\u0430 \\u0438\\u00a0\\u043f\\u043e\\u044d\\u0442\\u0438\\u0447\\u0435\\u0441\\u043a\\u043e\\u0433\\u043e \\u0444\\u0438\\u043d\\u0430\\u043b\\u0430, \\u0441\\u0442\\u0430\\u0432\\u0448\\u0435\\u0433\\u043e \\u043e\\u0434\\u043d\\u043e\\u0439 \\u0438\\u0437\\u00a0\\u0443\\u0442\\u043e\\u043d\\u0447\\u0435\\u043d\\u043d\\u044b\\u0445 \\u043b\\u0438\\u0440\\u0438\\u0447\\u0435\\u0441\\u043a\\u0438\\u0445 \\u0441\\u0446\\u0435\\u043d \\u0432\\u00a0\\u0438\\u0441\\u0442\\u043e\\u0440\\u0438\\u0438 \\u043c\\u0438\\u0440\\u043e\\u0432\\u043e\\u0433\\u043e \\u043a\\u0438\\u043d\\u043e.\\n\\n\\u0421\\u043f\\u0430\\u0441\\u0438\\u0431\\u043e \\u0437\\u0430\\u00a0\\u0432\\u0441\\u0435 \\u0442\\u0440\\u0443\\u0434\\u044b \\u0412\\u0430\\u0448\\u0438, \\u0424\\u0435\\u0434\\u0435\\u0440\\u0438\\u043a\\u043e \\u0424\\u0435\\u043b\\u043b\\u0438\\u043d\\u0438!\\n\\n10 \\u0438\\u0437\\u00a010\",\n          \"\\n\\u00ab\\u0413\\u043b\\u0430\\u0434\\u0438\\u0430\\u0442\\u043e\\u0440\\u00bb\\u00a0\\u2014\\u00a0\\u044d\\u0442\\u043e \\u043e\\u0434\\u0438\\u043d \\u0438\\u0437\\u00a0\\u043b\\u0443\\u0447\\u0448\\u0438\\u0445 \\u0438\\u0441\\u0442\\u043e\\u0440\\u0438\\u0447\\u0435\\u0441\\u043a\\u0438\\u0445 \\u0444\\u0438\\u043b\\u044c\\u043c\\u043e\\u0432 \\u0413\\u043e\\u043b\\u043b\\u0438\\u0432\\u0443\\u0434\\u0430. \\u00ab\\u0413\\u043b\\u0430\\u0434\\u0438\\u0430\\u0442\\u043e\\u0440\\u00bb \\u0434\\u043e\\u043b\\u0436\\u0435\\u043d \\u043f\\u043e\\u043d\\u0440\\u0430\\u0432\\u0438\\u0442\\u044c\\u0441\\u044f \\u043a\\u0430\\u043a\\u00a0\\u043b\\u044e\\u0431\\u0438\\u0442\\u0435\\u043b\\u044f\\u043c \\u0431\\u043e\\u0435\\u0432\\u0438\\u043a\\u043e\\u0432, \\u0442\\u0430\\u043a\\u00a0\\u0438 \\u043b\\u044e\\u0431\\u0438\\u0442\\u0435\\u043b\\u044f\\u043c \\u043c\\u0435\\u043b\\u043e\\u0434\\u0440\\u0430\\u043c. \\u0412\\u00a0\\u0444\\u0438\\u043b\\u044c\\u043c\\u0435 \\u0435\\u0441\\u0442\\u044c \\u0432\\u0441\\u0435: \\u0445\\u043e\\u0440\\u043e\\u0448\\u043e \\u043f\\u043e\\u0441\\u0442\\u0430\\u0432\\u043b\\u0435\\u043d\\u043d\\u044b\\u0435 \\u0437\\u0430\\u0445\\u0432\\u0430\\u0442\\u044b\\u0432\\u0430\\u044e\\u0449\\u0438\\u0435 \\u0434\\u0440\\u0430\\u043a\\u0438, \\u0442\\u0440\\u043e\\u0433\\u0430\\u0442\\u0435\\u043b\\u044c\\u043d\\u044b\\u0435 \\u0436\\u0438\\u0437\\u043d\\u0435\\u043d\\u043d\\u044b\\u0435 \\u0438\\u00a0\\u043b\\u044e\\u0431\\u043e\\u0432\\u043d\\u044b\\u0435 \\u0438\\u0441\\u0442\\u043e\\u0440\\u0438\\u0438 \\u0433\\u0435\\u0440\\u043e\\u0435\\u0432, \\u0438\\u0437\\u0443\\u043c\\u0438\\u0442\\u0435\\u043b\\u044c\\u043d\\u043e \\u043a\\u0440\\u0430\\u0441\\u0438\\u0432\\u044b\\u0435 \\u043f\\u0435\\u0439\\u0437\\u0430\\u0436\\u0438, \\u00ab\\u0441\\u043d\\u044b\\u00bb \\u0438\\u00a0\\u00ab\\u0432\\u0438\\u0434\\u0435\\u043d\\u0438\\u044f\\u00bb \\u0438\\u00a0\\u043e\\u0433\\u0440\\u043e\\u043c\\u043d\\u043e\\u0435 \\u043c\\u043d\\u043e\\u0436\\u0435\\u0441\\u0442\\u0432\\u043e \\u0444\\u0438\\u043b\\u043e\\u0441\\u043e\\u0444\\u0441\\u043a\\u0438\\u0445 \\u0431\\u0435\\u0441\\u0435\\u0434 \\u0438\\u00a0\\u0440\\u0430\\u0437\\u0433\\u043e\\u0432\\u043e\\u0440\\u043e\\u0432. \\u0421\\u0432\\u043e\\u0435\\u0439 \\u0444\\u0438\\u043b\\u043e\\u0441\\u043e\\u0444\\u0438\\u0435\\u0439 \\u0438\\u00a0\\u043c\\u0443\\u0434\\u0440\\u043e\\u0441\\u0442\\u044c\\u044e \\u0441\\u00a0\\u043d\\u0430\\u043c\\u0438 \\u0434\\u0435\\u043b\\u044f\\u0442\\u0441\\u044f \\u0440\\u0430\\u0431\\u044b, \\u0441\\u043e\\u043b\\u0434\\u0430\\u0442\\u044b, \\u0433\\u043b\\u0430\\u0434\\u0438\\u0430\\u0442\\u043e\\u0440\\u044b, \\u043d\\u0430\\u0447\\u0430\\u043b\\u044c\\u043d\\u0438\\u043a\\u0438 \\u0433\\u043b\\u0430\\u0434\\u0438\\u0430\\u0442\\u043e\\u0440\\u043e\\u0432, \\u0447\\u0443\\u0442\\u044c \\u043b\\u0438\\u00a0\\u043d\\u0435 \\u0441\\u043e\\u0431\\u0430\\u043a\\u0438. \\u0412\\u0441\\u0435\\u00a0\\u044d\\u0442\\u043e \\u0441\\u043e\\u043f\\u0440\\u043e\\u0432\\u043e\\u0436\\u0434\\u0430\\u0435\\u0442\\u0441\\u044f \\u0432\\u0435\\u043b\\u0438\\u043a\\u043e\\u043b\\u0435\\u043f\\u043d\\u043e \\u043f\\u0440\\u043e\\u0442\\u044f\\u0436\\u043d\\u043e\\u0439 \\u043c\\u0443\\u0437\\u044b\\u043a\\u043e\\u0439. \\n\\n\\u0413\\u043b\\u0430\\u0432\\u043d\\u044b\\u0439 \\u0433\\u0435\\u0440\\u043e\\u0439\\u00a0\\u2014\\u00a0\\u0447\\u0435\\u0441\\u0442\\u043d\\u044b\\u0439, \\u0431\\u043b\\u0430\\u0433\\u043e\\u0440\\u043e\\u0434\\u043d\\u044b\\u0439, \\u0443\\u043c\\u043d\\u044b\\u0439, \\u0441\\u0438\\u043b\\u044c\\u043d\\u044b\\u0439, \\u0432\\u043e\\u043e\\u0431\\u0449\\u0435\\u043c \\u043d\\u0430\\u0441\\u0442\\u043e\\u044f\\u0449\\u0438\\u0439 \\u0433\\u0435\\u0440\\u043e\\u0439 (\\u0420\\u0430\\u0441\\u0441\\u0435\\u043b \\u041a\\u0440\\u043e\\u0443). \\u041e\\u043d\\u00a0\\u0431\\u044b\\u043b \\u0441\\u0447\\u0430\\u0441\\u0442\\u043b\\u0438\\u0432\\u044b\\u043c \\u043c\\u0443\\u0436\\u0435\\u043c \\u0438\\u00a0\\u043e\\u0442\\u0446\\u043e\\u043c, \\u0445\\u043e\\u0440\\u043e\\u0448\\u0438\\u043c \\u0432\\u043e\\u0438\\u043d\\u043e\\u043c, \\u043b\\u044e\\u0431\\u0438\\u043c\\u0446\\u0435\\u043c \\u0441\\u043e\\u043b\\u0434\\u0430\\u0442 \\u0438\\u00a0\\u043f\\u0440\\u0435\\u0434\\u043f\\u043e\\u043b\\u0430\\u0433\\u0430\\u0435\\u043c\\u044b\\u043c \\u043d\\u0430\\u0441\\u043b\\u0435\\u0434\\u043d\\u0438\\u043a\\u043e\\u043c \\u041c\\u0430\\u0440\\u043a\\u0430 \\u0410\\u0432\\u0440\\u0435\\u043b\\u0438\\u044f, \\u0430\\u00a0\\u0441\\u0442\\u0430\\u043b \\u0440\\u0430\\u0431\\u043e\\u043c-\\u0433\\u043b\\u0430\\u0434\\u0438\\u0430\\u0442\\u043e\\u0440\\u043e\\u043c. \\u041e\\u043d\\u00a0\\u0438\\u0437 \\u0442\\u0435\\u0445\\u00a0\\u043b\\u044e\\u0434\\u0435\\u0439, \\u043a\\u043e\\u0442\\u043e\\u0440\\u044b\\u0435 \\u0445\\u043e\\u0440\\u043e\\u0448\\u043e \\u0438\\u00a0\\u0441 \\u043f\\u043e\\u043b\\u043d\\u043e\\u0439 \\u043e\\u0442\\u0434\\u0430\\u0447\\u0435\\u0439 \\u0434\\u0435\\u043b\\u0430\\u044e\\u0442 \\u0441\\u0432\\u043e\\u0435 \\u0434\\u0435\\u043b\\u043e, \\u043d\\u043e\\u00a0\\u0445\\u043e\\u0442\\u044f\\u0442 \\u043b\\u0438\\u0448\\u044c \\u043e\\u0434\\u043d\\u043e\\u0433\\u043e\\u00a0\\u2014\\u00a0\\u0443\\u0439\\u0442\\u0438 \\u0434\\u043e\\u043c\\u043e\\u0439 \\u0438\\u00a0\\u0431\\u044b\\u0442\\u044c \\u0441\\u00a0\\u0441\\u0435\\u043c\\u044c\\u0435\\u0439. \\u041f\\u043e\\u044d\\u0442\\u043e\\u043c\\u0443 \\u0432\\u043e\\u00a0\\u0432\\u0437\\u0433\\u043b\\u044f\\u0434\\u0435 \\u0442\\u043e\\u0441\\u043a\\u0430, \\u0430\\u00a0\\u0432 \\u0433\\u043e\\u043b\\u043e\\u0441\\u0435 \\u0443\\u0441\\u0442\\u0430\\u043b\\u043e\\u0441\\u0442\\u044c, \\u0438\\u00a0\\u043d\\u0430 \\u043f\\u0440\\u043e\\u0442\\u044f\\u0436\\u0435\\u043d\\u0438\\u0438 \\u0432\\u0441\\u0435\\u0433\\u043e \\u0444\\u0438\\u043b\\u044c\\u043c\\u0430\\u00a0\\u2014\\u00a0\\u043e\\u0447\\u0435\\u043d\\u044c \\u043a\\u0440\\u0430\\u0441\\u0438\\u0432\\u044b\\u0435 \\u0438\\u00a0\\u0431\\u0435\\u0437\\u0443\\u043c\\u043d\\u043e \\u043f\\u0435\\u0447\\u0430\\u043b\\u044c\\u043d\\u044b\\u0435 \\u00ab\\u0433\\u0440\\u0435\\u0437\\u044b\\u00bb \\u043e\\u00a0\\u0432\\u043e\\u0441\\u0441\\u043e\\u0435\\u0434\\u0438\\u043d\\u0435\\u043d\\u0438\\u0438 \\u0441\\u00a0\\u0443\\u0431\\u0438\\u0442\\u044b\\u043c\\u0438 \\u0436\\u0435\\u043d\\u043e\\u0439 \\u0438\\u00a0\\u0441\\u044b\\u043d\\u043e\\u043c. \\n\\n\\u0418\\u0442\\u043e\\u0433\\u00a0\\u2014\\u00a0\\u0444\\u0438\\u043b\\u044c\\u043c \\u0437\\u0430\\u043c\\u0435\\u0447\\u0430\\u0442\\u0435\\u043b\\u044c\\u043d\\u044b\\u0439, \\u0437\\u0440\\u0435\\u043b\\u0438\\u0449\\u043d\\u044b\\u0439 \\u0438\\u00a0\\u043f\\u0440\\u043e\\u0441\\u0442\\u043e \\u043a\\u0440\\u0430\\u0441\\u0438\\u0432\\u044b\\u0439. \\u0412\\u00a0\\u043d\\u0435\\u043c \\u0435\\u0441\\u0442\\u044c \\u043f\\u0430\\u0442\\u0435\\u0442\\u0438\\u043a\\u0430, \\u043b\\u044e\\u0431\\u043e\\u0432\\u044c \\u0438\\u00a0\\u043d\\u0435\\u043d\\u0430\\u0432\\u0438\\u0441\\u0442\\u044c, \\u0435\\u0441\\u0442\\u044c \\u0436\\u0438\\u0437\\u043d\\u044c.\"\n        ],\n        \"semantic_type\": \"\",\n        \"description\": \"\"\n      }\n    }\n  ]\n}"
            }
          },
          "metadata": {},
          "execution_count": 25
        }
      ]
    },
    {
      "cell_type": "code",
      "source": [
        "df.columns.to_list()"
      ],
      "metadata": {
        "colab": {
          "base_uri": "https://localhost:8080/"
        },
        "id": "54LgN519lYLI",
        "outputId": "739c1202-0fdf-4972-97cd-c7c7c13a5604"
      },
      "execution_count": 26,
      "outputs": [
        {
          "output_type": "execute_result",
          "data": {
            "text/plain": [
              "['part',\n",
              " 'movie_name',\n",
              " 'review_id',\n",
              " 'author',\n",
              " 'date',\n",
              " 'title',\n",
              " 'grade3',\n",
              " 'grade10',\n",
              " 'content']"
            ]
          },
          "metadata": {},
          "execution_count": 26
        }
      ]
    },
    {
      "cell_type": "code",
      "source": [
        "df_red = df[['content', 'grade3']]"
      ],
      "metadata": {
        "id": "mJzmFMunk1ce"
      },
      "execution_count": 36,
      "outputs": []
    },
    {
      "cell_type": "code",
      "source": [
        "df_red['sen_enc'] = LabelEncoder().fit_transform(df_red['grade3'])"
      ],
      "metadata": {
        "id": "Z1F-oGMlnL_T"
      },
      "execution_count": 37,
      "outputs": []
    },
    {
      "cell_type": "code",
      "source": [
        "df_red.head()"
      ],
      "metadata": {
        "colab": {
          "base_uri": "https://localhost:8080/",
          "height": 206
        },
        "id": "8Nz1Fo6xnTvD",
        "outputId": "ea283694-373c-460c-ee13-570e2fa115ea"
      },
      "execution_count": 38,
      "outputs": [
        {
          "output_type": "execute_result",
          "data": {
            "text/plain": [
              "                                             content   grade3  sen_enc\n",
              "0  \\n\"Блеф» — одна из моих самых любимых комедий....     Good        1\n",
              "1  \\nАдриано Челентано продолжает радовать нас св...     Good        1\n",
              "2  \\nНесомненно, это один из великих фильмов 80-х...     Good        1\n",
              "3  \\nЭта фраза на мой взгляд отражает сюжет несом...     Good        1\n",
              "4  \\n- как пела Земфира, скорее всего, по соверше...  Neutral        2"
            ],
            "text/html": [
              "\n",
              "  <div id=\"df-6892589b-8759-4e53-a1ac-611443fe3614\" class=\"colab-df-container\">\n",
              "    <div>\n",
              "<style scoped>\n",
              "    .dataframe tbody tr th:only-of-type {\n",
              "        vertical-align: middle;\n",
              "    }\n",
              "\n",
              "    .dataframe tbody tr th {\n",
              "        vertical-align: top;\n",
              "    }\n",
              "\n",
              "    .dataframe thead th {\n",
              "        text-align: right;\n",
              "    }\n",
              "</style>\n",
              "<table border=\"1\" class=\"dataframe\">\n",
              "  <thead>\n",
              "    <tr style=\"text-align: right;\">\n",
              "      <th></th>\n",
              "      <th>content</th>\n",
              "      <th>grade3</th>\n",
              "      <th>sen_enc</th>\n",
              "    </tr>\n",
              "  </thead>\n",
              "  <tbody>\n",
              "    <tr>\n",
              "      <th>0</th>\n",
              "      <td>\\n\"Блеф» — одна из моих самых любимых комедий....</td>\n",
              "      <td>Good</td>\n",
              "      <td>1</td>\n",
              "    </tr>\n",
              "    <tr>\n",
              "      <th>1</th>\n",
              "      <td>\\nАдриано Челентано продолжает радовать нас св...</td>\n",
              "      <td>Good</td>\n",
              "      <td>1</td>\n",
              "    </tr>\n",
              "    <tr>\n",
              "      <th>2</th>\n",
              "      <td>\\nНесомненно, это один из великих фильмов 80-х...</td>\n",
              "      <td>Good</td>\n",
              "      <td>1</td>\n",
              "    </tr>\n",
              "    <tr>\n",
              "      <th>3</th>\n",
              "      <td>\\nЭта фраза на мой взгляд отражает сюжет несом...</td>\n",
              "      <td>Good</td>\n",
              "      <td>1</td>\n",
              "    </tr>\n",
              "    <tr>\n",
              "      <th>4</th>\n",
              "      <td>\\n- как пела Земфира, скорее всего, по соверше...</td>\n",
              "      <td>Neutral</td>\n",
              "      <td>2</td>\n",
              "    </tr>\n",
              "  </tbody>\n",
              "</table>\n",
              "</div>\n",
              "    <div class=\"colab-df-buttons\">\n",
              "\n",
              "  <div class=\"colab-df-container\">\n",
              "    <button class=\"colab-df-convert\" onclick=\"convertToInteractive('df-6892589b-8759-4e53-a1ac-611443fe3614')\"\n",
              "            title=\"Convert this dataframe to an interactive table.\"\n",
              "            style=\"display:none;\">\n",
              "\n",
              "  <svg xmlns=\"http://www.w3.org/2000/svg\" height=\"24px\" viewBox=\"0 -960 960 960\">\n",
              "    <path d=\"M120-120v-720h720v720H120Zm60-500h600v-160H180v160Zm220 220h160v-160H400v160Zm0 220h160v-160H400v160ZM180-400h160v-160H180v160Zm440 0h160v-160H620v160ZM180-180h160v-160H180v160Zm440 0h160v-160H620v160Z\"/>\n",
              "  </svg>\n",
              "    </button>\n",
              "\n",
              "  <style>\n",
              "    .colab-df-container {\n",
              "      display:flex;\n",
              "      gap: 12px;\n",
              "    }\n",
              "\n",
              "    .colab-df-convert {\n",
              "      background-color: #E8F0FE;\n",
              "      border: none;\n",
              "      border-radius: 50%;\n",
              "      cursor: pointer;\n",
              "      display: none;\n",
              "      fill: #1967D2;\n",
              "      height: 32px;\n",
              "      padding: 0 0 0 0;\n",
              "      width: 32px;\n",
              "    }\n",
              "\n",
              "    .colab-df-convert:hover {\n",
              "      background-color: #E2EBFA;\n",
              "      box-shadow: 0px 1px 2px rgba(60, 64, 67, 0.3), 0px 1px 3px 1px rgba(60, 64, 67, 0.15);\n",
              "      fill: #174EA6;\n",
              "    }\n",
              "\n",
              "    .colab-df-buttons div {\n",
              "      margin-bottom: 4px;\n",
              "    }\n",
              "\n",
              "    [theme=dark] .colab-df-convert {\n",
              "      background-color: #3B4455;\n",
              "      fill: #D2E3FC;\n",
              "    }\n",
              "\n",
              "    [theme=dark] .colab-df-convert:hover {\n",
              "      background-color: #434B5C;\n",
              "      box-shadow: 0px 1px 3px 1px rgba(0, 0, 0, 0.15);\n",
              "      filter: drop-shadow(0px 1px 2px rgba(0, 0, 0, 0.3));\n",
              "      fill: #FFFFFF;\n",
              "    }\n",
              "  </style>\n",
              "\n",
              "    <script>\n",
              "      const buttonEl =\n",
              "        document.querySelector('#df-6892589b-8759-4e53-a1ac-611443fe3614 button.colab-df-convert');\n",
              "      buttonEl.style.display =\n",
              "        google.colab.kernel.accessAllowed ? 'block' : 'none';\n",
              "\n",
              "      async function convertToInteractive(key) {\n",
              "        const element = document.querySelector('#df-6892589b-8759-4e53-a1ac-611443fe3614');\n",
              "        const dataTable =\n",
              "          await google.colab.kernel.invokeFunction('convertToInteractive',\n",
              "                                                    [key], {});\n",
              "        if (!dataTable) return;\n",
              "\n",
              "        const docLinkHtml = 'Like what you see? Visit the ' +\n",
              "          '<a target=\"_blank\" href=https://colab.research.google.com/notebooks/data_table.ipynb>data table notebook</a>'\n",
              "          + ' to learn more about interactive tables.';\n",
              "        element.innerHTML = '';\n",
              "        dataTable['output_type'] = 'display_data';\n",
              "        await google.colab.output.renderOutput(dataTable, element);\n",
              "        const docLink = document.createElement('div');\n",
              "        docLink.innerHTML = docLinkHtml;\n",
              "        element.appendChild(docLink);\n",
              "      }\n",
              "    </script>\n",
              "  </div>\n",
              "\n",
              "\n",
              "<div id=\"df-22d79e1e-431f-4794-b531-7b8581807db9\">\n",
              "  <button class=\"colab-df-quickchart\" onclick=\"quickchart('df-22d79e1e-431f-4794-b531-7b8581807db9')\"\n",
              "            title=\"Suggest charts\"\n",
              "            style=\"display:none;\">\n",
              "\n",
              "<svg xmlns=\"http://www.w3.org/2000/svg\" height=\"24px\"viewBox=\"0 0 24 24\"\n",
              "     width=\"24px\">\n",
              "    <g>\n",
              "        <path d=\"M19 3H5c-1.1 0-2 .9-2 2v14c0 1.1.9 2 2 2h14c1.1 0 2-.9 2-2V5c0-1.1-.9-2-2-2zM9 17H7v-7h2v7zm4 0h-2V7h2v10zm4 0h-2v-4h2v4z\"/>\n",
              "    </g>\n",
              "</svg>\n",
              "  </button>\n",
              "\n",
              "<style>\n",
              "  .colab-df-quickchart {\n",
              "      --bg-color: #E8F0FE;\n",
              "      --fill-color: #1967D2;\n",
              "      --hover-bg-color: #E2EBFA;\n",
              "      --hover-fill-color: #174EA6;\n",
              "      --disabled-fill-color: #AAA;\n",
              "      --disabled-bg-color: #DDD;\n",
              "  }\n",
              "\n",
              "  [theme=dark] .colab-df-quickchart {\n",
              "      --bg-color: #3B4455;\n",
              "      --fill-color: #D2E3FC;\n",
              "      --hover-bg-color: #434B5C;\n",
              "      --hover-fill-color: #FFFFFF;\n",
              "      --disabled-bg-color: #3B4455;\n",
              "      --disabled-fill-color: #666;\n",
              "  }\n",
              "\n",
              "  .colab-df-quickchart {\n",
              "    background-color: var(--bg-color);\n",
              "    border: none;\n",
              "    border-radius: 50%;\n",
              "    cursor: pointer;\n",
              "    display: none;\n",
              "    fill: var(--fill-color);\n",
              "    height: 32px;\n",
              "    padding: 0;\n",
              "    width: 32px;\n",
              "  }\n",
              "\n",
              "  .colab-df-quickchart:hover {\n",
              "    background-color: var(--hover-bg-color);\n",
              "    box-shadow: 0 1px 2px rgba(60, 64, 67, 0.3), 0 1px 3px 1px rgba(60, 64, 67, 0.15);\n",
              "    fill: var(--button-hover-fill-color);\n",
              "  }\n",
              "\n",
              "  .colab-df-quickchart-complete:disabled,\n",
              "  .colab-df-quickchart-complete:disabled:hover {\n",
              "    background-color: var(--disabled-bg-color);\n",
              "    fill: var(--disabled-fill-color);\n",
              "    box-shadow: none;\n",
              "  }\n",
              "\n",
              "  .colab-df-spinner {\n",
              "    border: 2px solid var(--fill-color);\n",
              "    border-color: transparent;\n",
              "    border-bottom-color: var(--fill-color);\n",
              "    animation:\n",
              "      spin 1s steps(1) infinite;\n",
              "  }\n",
              "\n",
              "  @keyframes spin {\n",
              "    0% {\n",
              "      border-color: transparent;\n",
              "      border-bottom-color: var(--fill-color);\n",
              "      border-left-color: var(--fill-color);\n",
              "    }\n",
              "    20% {\n",
              "      border-color: transparent;\n",
              "      border-left-color: var(--fill-color);\n",
              "      border-top-color: var(--fill-color);\n",
              "    }\n",
              "    30% {\n",
              "      border-color: transparent;\n",
              "      border-left-color: var(--fill-color);\n",
              "      border-top-color: var(--fill-color);\n",
              "      border-right-color: var(--fill-color);\n",
              "    }\n",
              "    40% {\n",
              "      border-color: transparent;\n",
              "      border-right-color: var(--fill-color);\n",
              "      border-top-color: var(--fill-color);\n",
              "    }\n",
              "    60% {\n",
              "      border-color: transparent;\n",
              "      border-right-color: var(--fill-color);\n",
              "    }\n",
              "    80% {\n",
              "      border-color: transparent;\n",
              "      border-right-color: var(--fill-color);\n",
              "      border-bottom-color: var(--fill-color);\n",
              "    }\n",
              "    90% {\n",
              "      border-color: transparent;\n",
              "      border-bottom-color: var(--fill-color);\n",
              "    }\n",
              "  }\n",
              "</style>\n",
              "\n",
              "  <script>\n",
              "    async function quickchart(key) {\n",
              "      const quickchartButtonEl =\n",
              "        document.querySelector('#' + key + ' button');\n",
              "      quickchartButtonEl.disabled = true;  // To prevent multiple clicks.\n",
              "      quickchartButtonEl.classList.add('colab-df-spinner');\n",
              "      try {\n",
              "        const charts = await google.colab.kernel.invokeFunction(\n",
              "            'suggestCharts', [key], {});\n",
              "      } catch (error) {\n",
              "        console.error('Error during call to suggestCharts:', error);\n",
              "      }\n",
              "      quickchartButtonEl.classList.remove('colab-df-spinner');\n",
              "      quickchartButtonEl.classList.add('colab-df-quickchart-complete');\n",
              "    }\n",
              "    (() => {\n",
              "      let quickchartButtonEl =\n",
              "        document.querySelector('#df-22d79e1e-431f-4794-b531-7b8581807db9 button');\n",
              "      quickchartButtonEl.style.display =\n",
              "        google.colab.kernel.accessAllowed ? 'block' : 'none';\n",
              "    })();\n",
              "  </script>\n",
              "</div>\n",
              "    </div>\n",
              "  </div>\n"
            ],
            "application/vnd.google.colaboratory.intrinsic+json": {
              "type": "dataframe",
              "variable_name": "df_red",
              "summary": "{\n  \"name\": \"df_red\",\n  \"rows\": 36591,\n  \"fields\": [\n    {\n      \"column\": \"content\",\n      \"properties\": {\n        \"dtype\": \"string\",\n        \"num_unique_values\": 36579,\n        \"samples\": [\n          \"\\n\\u042d\\u0442\\u043e \\u0434\\u0430\\u043b\\u0435\\u043a\\u043e \\u043d\\u0435\\u00a0\\u0441\\u0442\\u0430\\u043d\\u0434\\u0430\\u0440\\u0442\\u043d\\u044b\\u0439 \\u0444\\u0438\\u043b\\u044c\\u043c, \\u0432\\u043f\\u0440\\u043e\\u0447\\u0435\\u043c \\u043a\\u0430\\u043a\\u00a0\\u0438 \\u0432\\u0441\\u0435\\u00a0\\u0444\\u0438\\u043b\\u044c\\u043c\\u044b \\u0424\\u0435\\u0434\\u0435\\u0440\\u0438\\u043a\\u043e \\u0424\\u0435\\u043b\\u043b\\u0438\\u043d\\u0438. \\u041f\\u0440\\u0435\\u0436\\u0434\\u0435 \\u0432\\u0441\\u0435\\u0433\\u043e \\u00abLa dolce vita\\u00bb \\u0441\\u043b\\u0435\\u0434\\u0443\\u0435\\u0442 \\u0440\\u0430\\u0441\\u0441\\u043c\\u0430\\u0442\\u0440\\u0438\\u0432\\u0430\\u0442\\u044c \\u043a\\u0430\\u043a\\u00a0\\u0444\\u0438\\u043b\\u043e\\u0441\\u043e\\u0444\\u0441\\u043a\\u0443\\u044e \\u043f\\u0440\\u0438\\u0442\\u0447\\u0443 \\u043e\\u0431\\u00a0\\u0438\\u0442\\u0430\\u043b\\u044c\\u044f\\u043d\\u0441\\u043a\\u043e\\u043c \\u043e\\u0431\\u0449\\u0435\\u0441\\u0442\\u0432\\u0435, \\u043f\\u0435\\u0440\\u0435\\u0436\\u0438\\u0432\\u0430\\u044e\\u0449\\u0435\\u043c \\u00ab\\u044d\\u043a\\u043e\\u043d\\u043e\\u043c\\u0438\\u0447\\u0435\\u0441\\u043a\\u043e\\u0435 \\u0447\\u0443\\u0434\\u043e\\u00bb \\u043f\\u043e\\u0441\\u043b\\u0435 \\u043d\\u0435\\u0441\\u043a\\u043e\\u043b\\u044c\\u043a\\u0438\\u0445 \\u043b\\u0435\\u0442\\u00a0\\u043d\\u0438\\u0449\\u0435\\u0442\\u044b. \\u041b\\u0443\\u0447\\u0448\\u0435 \\u0447\\u0435\\u043c\\u00a0\\u0424\\u0435\\u043b\\u043b\\u0438\\u043d\\u0438 \\u043e\\u0431\\u00a0\\u0438\\u0442\\u0430\\u043b\\u044c\\u044f\\u043d\\u0446\\u0430\\u0445 (\\u0434\\u0430 \\u0438\\u00a0\\u043e \\u043b\\u0438\\u0447\\u043d\\u043e\\u0441\\u0442\\u044f\\u0445 \\u0432\\u043e\\u043e\\u0431\\u0449\\u0435), \\u0438\\u0445\\u00a0\\u0436\\u0438\\u0437\\u043d\\u0438, \\u043f\\u0440\\u0438\\u0432\\u044b\\u0447\\u043a\\u0430\\u0445, \\u043f\\u0440\\u0435\\u0434\\u043f\\u043e\\u0447\\u0442\\u0435\\u043d\\u0438\\u044f\\u0445 \\u0438\\u00a0\\u0441\\u0442\\u0440\\u0430\\u0441\\u0442\\u044f\\u0445 \\u043d\\u0435\\u00a0\\u0441\\u043d\\u0438\\u043c\\u0430\\u043b \\u043d\\u0438\\u043a\\u0442\\u043e.\\n\\n\\u041e\\u043d \\u0445\\u043e\\u0442\\u0435\\u043b \\u043f\\u043e\\u043a\\u0430\\u0437\\u0430\\u0442\\u044c, \\u043a\\u0430\\u043a\\u00a0\\u0431\\u0435\\u0441\\u043f\\u0435\\u0447\\u043d\\u0430, \\u043f\\u0443\\u0441\\u0442\\u0430, \\u0431\\u0435\\u0441\\u0441\\u043c\\u044b\\u0441\\u043b\\u0435\\u043d\\u043d\\u0430 \\u0436\\u0438\\u0437\\u043d\\u044c, \\u0432\\u00a0\\u043a\\u043e\\u0442\\u043e\\u0440\\u043e\\u0439 \\u0446\\u0430\\u0440\\u044f\\u0442 \\u043e\\u0434\\u0438\\u043d\\u043e\\u0447\\u0435\\u0441\\u0442\\u0432\\u043e, \\u043e\\u0442\\u0447\\u0443\\u0436\\u0434\\u0435\\u043d\\u0438\\u0435, \\u0440\\u0430\\u0437\\u043e\\u0431\\u0449\\u0435\\u043d\\u0438\\u0435 \\u043b\\u044e\\u0434\\u0435\\u0439. \\u041f\\u0440\\u043e\\u0431\\u043b\\u0435\\u043c\\u0430 \\u043b\\u0438\\u0447\\u043d\\u043e\\u0441\\u0442\\u0438 \\u0433\\u0435\\u0440\\u043e\\u044f \\u041c\\u0430\\u0441\\u0442\\u0440\\u043e\\u044f\\u043d\\u043d\\u0438 \\u043e\\u0441\\u0442\\u0430\\u0435\\u0442\\u0441\\u044f \\u0430\\u043a\\u0442\\u0443\\u0430\\u043b\\u044c\\u043d\\u0430 \\u0438\\u00a0\\u043f\\u043e \\u0441\\u0435\\u0439\\u00a0\\u0434\\u0435\\u043d\\u044c. \\u041e\\u043d\\u00a0\\u043f\\u043e\\u0441\\u0442\\u043e\\u044f\\u043d\\u043d\\u043e \\u043f\\u0440\\u0438\\u0441\\u0443\\u0442\\u0441\\u0442\\u0432\\u0443\\u0435\\u0442 \\u0432\\u00a0\\u0444\\u0430\\u043b\\u044c\\u0448\\u0438\\u0432\\u044b\\u0445, \\u043f\\u044c\\u044f\\u043d\\u044b\\u0445, \\u00ab\\u0432\\u0435\\u0441\\u0435\\u043b\\u044b\\u0445\\u00bb \\u0432\\u0435\\u0447\\u0435\\u0440\\u0438\\u043d\\u043a\\u0430\\u0445 \\u0440\\u0430\\u0437\\u043d\\u043e\\u043e\\u0431\\u0440\\u0430\\u0437\\u043d\\u044b\\u0445 \\u044d\\u043b\\u0438\\u0442. \\u0412\\u00a0\\u044d\\u0442\\u043e\\u043c \\u043d\\u0435\\u043f\\u0440\\u0435\\u043a\\u0440\\u0430\\u0449\\u0430\\u044e\\u0449\\u0435\\u043c\\u0441\\u044f \\u043f\\u0440\\u0430\\u0437\\u0434\\u043d\\u0438\\u043a\\u0435 \\u0433\\u043e\\u043b\\u043e\\u0441 \\u043e\\u0434\\u043d\\u043e\\u0433\\u043e \\u0447\\u0435\\u043b\\u043e\\u0432\\u0435\\u043a\\u0430 \\u0441\\u043e\\u0432\\u0441\\u0435\\u043c \\u043d\\u0435\\u00a0\\u0441\\u043b\\u044b\\u0448\\u043d\\u043e, \\u043e\\u043d\\u00a0\\u0442\\u0435\\u0440\\u044f\\u0435\\u0442\\u0441\\u044f \\u0437\\u0430\\u00a0\\u0433\\u0443\\u043b\\u043e\\u043c \\u0432\\u043e\\u0441\\u0442\\u043e\\u0440\\u0436\\u0435\\u043d\\u043d\\u044b\\u0445 \\u043a\\u0440\\u0438\\u043a\\u043e\\u0432. \\u0427\\u0442\\u043e\\u00a0\\u043e\\u0441\\u0442\\u0430\\u0435\\u0442\\u0441\\u044f \\u043f\\u043e\\u0441\\u043b\\u0435 \\u0432\\u0435\\u0447\\u0435\\u0440\\u0438\\u043d\\u043a\\u0438?\\u0422\\u043e\\u043b\\u044c\\u043a\\u043e \\u043e\\u043d\\u0430, \\u043e\\u0442\\u00a0\\u043a\\u043e\\u0442\\u043e\\u0440\\u043e\\u0439 \\u0432\\u0441\\u0435\\u00a0\\u0445\\u043e\\u0442\\u044f\\u0442 \\u0443\\u0431\\u0435\\u0436\\u0430\\u0442\\u044c. \\u0422\\u043e\\u043b\\u044c\\u043a\\u043e \\u043e\\u043d\\u0430\\u00a0\\u2014\\u00a0\\u0441\\u0430\\u043c\\u0430 \\u0436\\u0438\\u0437\\u043d\\u044c\\n\\n\\u041a\\u0430\\u0440\\u0442\\u0438\\u043d\\u0430 \\u043f\\u043e\\u043b\\u0443\\u0447\\u0438\\u043b\\u0430 \\u00ab\\u0417\\u043e\\u043b\\u043e\\u0442\\u0443\\u044e \\u043f\\u0430\\u043b\\u044c\\u043c\\u043e\\u0432\\u0443\\u044e \\u0432\\u0435\\u0442\\u0432\\u044c\\u00bb \\u043d\\u0430\\u00a0\\u0444\\u0435\\u0441\\u0442\\u0438\\u0432\\u0430\\u043b\\u0435 \\u0432\\u00a0\\u041a\\u0430\\u043d\\u043d\\u0430\\u0445 \\u0438\\u00a0\\u043e\\u043a\\u0430\\u0437\\u0430\\u043b\\u0430 \\u0437\\u043d\\u0430\\u0447\\u0438\\u0442\\u0435\\u043b\\u044c\\u043d\\u043e\\u0435 \\u0432\\u043b\\u0438\\u044f\\u043d\\u0438\\u0435 \\u043d\\u0430\\u00a0\\u043a\\u0438\\u043d\\u0435\\u043c\\u0430\\u0442\\u043e\\u0433\\u0440\\u0430\\u0444\\u0438\\u0441\\u0442\\u043e\\u0432 \\u0432\\u0441\\u0435\\u0433\\u043e \\u043c\\u0438\\u0440\\u0430. \\u041f\\u0440\\u0438\\u00a0\\u0432\\u043d\\u0435\\u0448\\u043d\\u0435\\u0439 \\u043f\\u0440\\u043e\\u0441\\u0442\\u043e\\u0442\\u0435, \\u044f\\u0441\\u043d\\u043e\\u0441\\u0442\\u0438 \\u043b\\u0435\\u043d\\u0442\\u0430 \\u0432\\u043f\\u0435\\u0440\\u0432\\u044b\\u0435 \\u043f\\u043e\\u0440\\u0430\\u0437\\u0438\\u043b\\u0430 \\u0431\\u0430\\u0440\\u043e\\u0447\\u043d\\u043e\\u0441\\u0442\\u044c\\u044e \\u0440\\u0435\\u0436\\u0438\\u0441\\u0441\\u0435\\u0440\\u0441\\u043a\\u043e\\u0433\\u043e \\u0432\\u0438\\u0434\\u0435\\u043d\\u0438\\u044f, \\u0441\\u043b\\u043e\\u0436\\u043d\\u043e\\u0441\\u0442\\u044c\\u044e \\u043a\\u043e\\u043c\\u043f\\u043e\\u0437\\u0438\\u0446\\u0438\\u0438, \\u0441\\u0438\\u043c\\u0432\\u043e\\u043b\\u0438\\u0447\\u043d\\u043e\\u0441\\u0442\\u044c\\u044e \\u043f\\u0440\\u043e\\u043b\\u043e\\u0433\\u0430 \\u0438\\u00a0\\u043f\\u043e\\u044d\\u0442\\u0438\\u0447\\u0435\\u0441\\u043a\\u043e\\u0433\\u043e \\u0444\\u0438\\u043d\\u0430\\u043b\\u0430, \\u0441\\u0442\\u0430\\u0432\\u0448\\u0435\\u0433\\u043e \\u043e\\u0434\\u043d\\u043e\\u0439 \\u0438\\u0437\\u00a0\\u0443\\u0442\\u043e\\u043d\\u0447\\u0435\\u043d\\u043d\\u044b\\u0445 \\u043b\\u0438\\u0440\\u0438\\u0447\\u0435\\u0441\\u043a\\u0438\\u0445 \\u0441\\u0446\\u0435\\u043d \\u0432\\u00a0\\u0438\\u0441\\u0442\\u043e\\u0440\\u0438\\u0438 \\u043c\\u0438\\u0440\\u043e\\u0432\\u043e\\u0433\\u043e \\u043a\\u0438\\u043d\\u043e.\\n\\n\\u0421\\u043f\\u0430\\u0441\\u0438\\u0431\\u043e \\u0437\\u0430\\u00a0\\u0432\\u0441\\u0435 \\u0442\\u0440\\u0443\\u0434\\u044b \\u0412\\u0430\\u0448\\u0438, \\u0424\\u0435\\u0434\\u0435\\u0440\\u0438\\u043a\\u043e \\u0424\\u0435\\u043b\\u043b\\u0438\\u043d\\u0438!\\n\\n10 \\u0438\\u0437\\u00a010\",\n          \"\\n\\u00ab\\u0413\\u043b\\u0430\\u0434\\u0438\\u0430\\u0442\\u043e\\u0440\\u00bb\\u00a0\\u2014\\u00a0\\u044d\\u0442\\u043e \\u043e\\u0434\\u0438\\u043d \\u0438\\u0437\\u00a0\\u043b\\u0443\\u0447\\u0448\\u0438\\u0445 \\u0438\\u0441\\u0442\\u043e\\u0440\\u0438\\u0447\\u0435\\u0441\\u043a\\u0438\\u0445 \\u0444\\u0438\\u043b\\u044c\\u043c\\u043e\\u0432 \\u0413\\u043e\\u043b\\u043b\\u0438\\u0432\\u0443\\u0434\\u0430. \\u00ab\\u0413\\u043b\\u0430\\u0434\\u0438\\u0430\\u0442\\u043e\\u0440\\u00bb \\u0434\\u043e\\u043b\\u0436\\u0435\\u043d \\u043f\\u043e\\u043d\\u0440\\u0430\\u0432\\u0438\\u0442\\u044c\\u0441\\u044f \\u043a\\u0430\\u043a\\u00a0\\u043b\\u044e\\u0431\\u0438\\u0442\\u0435\\u043b\\u044f\\u043c \\u0431\\u043e\\u0435\\u0432\\u0438\\u043a\\u043e\\u0432, \\u0442\\u0430\\u043a\\u00a0\\u0438 \\u043b\\u044e\\u0431\\u0438\\u0442\\u0435\\u043b\\u044f\\u043c \\u043c\\u0435\\u043b\\u043e\\u0434\\u0440\\u0430\\u043c. \\u0412\\u00a0\\u0444\\u0438\\u043b\\u044c\\u043c\\u0435 \\u0435\\u0441\\u0442\\u044c \\u0432\\u0441\\u0435: \\u0445\\u043e\\u0440\\u043e\\u0448\\u043e \\u043f\\u043e\\u0441\\u0442\\u0430\\u0432\\u043b\\u0435\\u043d\\u043d\\u044b\\u0435 \\u0437\\u0430\\u0445\\u0432\\u0430\\u0442\\u044b\\u0432\\u0430\\u044e\\u0449\\u0438\\u0435 \\u0434\\u0440\\u0430\\u043a\\u0438, \\u0442\\u0440\\u043e\\u0433\\u0430\\u0442\\u0435\\u043b\\u044c\\u043d\\u044b\\u0435 \\u0436\\u0438\\u0437\\u043d\\u0435\\u043d\\u043d\\u044b\\u0435 \\u0438\\u00a0\\u043b\\u044e\\u0431\\u043e\\u0432\\u043d\\u044b\\u0435 \\u0438\\u0441\\u0442\\u043e\\u0440\\u0438\\u0438 \\u0433\\u0435\\u0440\\u043e\\u0435\\u0432, \\u0438\\u0437\\u0443\\u043c\\u0438\\u0442\\u0435\\u043b\\u044c\\u043d\\u043e \\u043a\\u0440\\u0430\\u0441\\u0438\\u0432\\u044b\\u0435 \\u043f\\u0435\\u0439\\u0437\\u0430\\u0436\\u0438, \\u00ab\\u0441\\u043d\\u044b\\u00bb \\u0438\\u00a0\\u00ab\\u0432\\u0438\\u0434\\u0435\\u043d\\u0438\\u044f\\u00bb \\u0438\\u00a0\\u043e\\u0433\\u0440\\u043e\\u043c\\u043d\\u043e\\u0435 \\u043c\\u043d\\u043e\\u0436\\u0435\\u0441\\u0442\\u0432\\u043e \\u0444\\u0438\\u043b\\u043e\\u0441\\u043e\\u0444\\u0441\\u043a\\u0438\\u0445 \\u0431\\u0435\\u0441\\u0435\\u0434 \\u0438\\u00a0\\u0440\\u0430\\u0437\\u0433\\u043e\\u0432\\u043e\\u0440\\u043e\\u0432. \\u0421\\u0432\\u043e\\u0435\\u0439 \\u0444\\u0438\\u043b\\u043e\\u0441\\u043e\\u0444\\u0438\\u0435\\u0439 \\u0438\\u00a0\\u043c\\u0443\\u0434\\u0440\\u043e\\u0441\\u0442\\u044c\\u044e \\u0441\\u00a0\\u043d\\u0430\\u043c\\u0438 \\u0434\\u0435\\u043b\\u044f\\u0442\\u0441\\u044f \\u0440\\u0430\\u0431\\u044b, \\u0441\\u043e\\u043b\\u0434\\u0430\\u0442\\u044b, \\u0433\\u043b\\u0430\\u0434\\u0438\\u0430\\u0442\\u043e\\u0440\\u044b, \\u043d\\u0430\\u0447\\u0430\\u043b\\u044c\\u043d\\u0438\\u043a\\u0438 \\u0433\\u043b\\u0430\\u0434\\u0438\\u0430\\u0442\\u043e\\u0440\\u043e\\u0432, \\u0447\\u0443\\u0442\\u044c \\u043b\\u0438\\u00a0\\u043d\\u0435 \\u0441\\u043e\\u0431\\u0430\\u043a\\u0438. \\u0412\\u0441\\u0435\\u00a0\\u044d\\u0442\\u043e \\u0441\\u043e\\u043f\\u0440\\u043e\\u0432\\u043e\\u0436\\u0434\\u0430\\u0435\\u0442\\u0441\\u044f \\u0432\\u0435\\u043b\\u0438\\u043a\\u043e\\u043b\\u0435\\u043f\\u043d\\u043e \\u043f\\u0440\\u043e\\u0442\\u044f\\u0436\\u043d\\u043e\\u0439 \\u043c\\u0443\\u0437\\u044b\\u043a\\u043e\\u0439. \\n\\n\\u0413\\u043b\\u0430\\u0432\\u043d\\u044b\\u0439 \\u0433\\u0435\\u0440\\u043e\\u0439\\u00a0\\u2014\\u00a0\\u0447\\u0435\\u0441\\u0442\\u043d\\u044b\\u0439, \\u0431\\u043b\\u0430\\u0433\\u043e\\u0440\\u043e\\u0434\\u043d\\u044b\\u0439, \\u0443\\u043c\\u043d\\u044b\\u0439, \\u0441\\u0438\\u043b\\u044c\\u043d\\u044b\\u0439, \\u0432\\u043e\\u043e\\u0431\\u0449\\u0435\\u043c \\u043d\\u0430\\u0441\\u0442\\u043e\\u044f\\u0449\\u0438\\u0439 \\u0433\\u0435\\u0440\\u043e\\u0439 (\\u0420\\u0430\\u0441\\u0441\\u0435\\u043b \\u041a\\u0440\\u043e\\u0443). \\u041e\\u043d\\u00a0\\u0431\\u044b\\u043b \\u0441\\u0447\\u0430\\u0441\\u0442\\u043b\\u0438\\u0432\\u044b\\u043c \\u043c\\u0443\\u0436\\u0435\\u043c \\u0438\\u00a0\\u043e\\u0442\\u0446\\u043e\\u043c, \\u0445\\u043e\\u0440\\u043e\\u0448\\u0438\\u043c \\u0432\\u043e\\u0438\\u043d\\u043e\\u043c, \\u043b\\u044e\\u0431\\u0438\\u043c\\u0446\\u0435\\u043c \\u0441\\u043e\\u043b\\u0434\\u0430\\u0442 \\u0438\\u00a0\\u043f\\u0440\\u0435\\u0434\\u043f\\u043e\\u043b\\u0430\\u0433\\u0430\\u0435\\u043c\\u044b\\u043c \\u043d\\u0430\\u0441\\u043b\\u0435\\u0434\\u043d\\u0438\\u043a\\u043e\\u043c \\u041c\\u0430\\u0440\\u043a\\u0430 \\u0410\\u0432\\u0440\\u0435\\u043b\\u0438\\u044f, \\u0430\\u00a0\\u0441\\u0442\\u0430\\u043b \\u0440\\u0430\\u0431\\u043e\\u043c-\\u0433\\u043b\\u0430\\u0434\\u0438\\u0430\\u0442\\u043e\\u0440\\u043e\\u043c. \\u041e\\u043d\\u00a0\\u0438\\u0437 \\u0442\\u0435\\u0445\\u00a0\\u043b\\u044e\\u0434\\u0435\\u0439, \\u043a\\u043e\\u0442\\u043e\\u0440\\u044b\\u0435 \\u0445\\u043e\\u0440\\u043e\\u0448\\u043e \\u0438\\u00a0\\u0441 \\u043f\\u043e\\u043b\\u043d\\u043e\\u0439 \\u043e\\u0442\\u0434\\u0430\\u0447\\u0435\\u0439 \\u0434\\u0435\\u043b\\u0430\\u044e\\u0442 \\u0441\\u0432\\u043e\\u0435 \\u0434\\u0435\\u043b\\u043e, \\u043d\\u043e\\u00a0\\u0445\\u043e\\u0442\\u044f\\u0442 \\u043b\\u0438\\u0448\\u044c \\u043e\\u0434\\u043d\\u043e\\u0433\\u043e\\u00a0\\u2014\\u00a0\\u0443\\u0439\\u0442\\u0438 \\u0434\\u043e\\u043c\\u043e\\u0439 \\u0438\\u00a0\\u0431\\u044b\\u0442\\u044c \\u0441\\u00a0\\u0441\\u0435\\u043c\\u044c\\u0435\\u0439. \\u041f\\u043e\\u044d\\u0442\\u043e\\u043c\\u0443 \\u0432\\u043e\\u00a0\\u0432\\u0437\\u0433\\u043b\\u044f\\u0434\\u0435 \\u0442\\u043e\\u0441\\u043a\\u0430, \\u0430\\u00a0\\u0432 \\u0433\\u043e\\u043b\\u043e\\u0441\\u0435 \\u0443\\u0441\\u0442\\u0430\\u043b\\u043e\\u0441\\u0442\\u044c, \\u0438\\u00a0\\u043d\\u0430 \\u043f\\u0440\\u043e\\u0442\\u044f\\u0436\\u0435\\u043d\\u0438\\u0438 \\u0432\\u0441\\u0435\\u0433\\u043e \\u0444\\u0438\\u043b\\u044c\\u043c\\u0430\\u00a0\\u2014\\u00a0\\u043e\\u0447\\u0435\\u043d\\u044c \\u043a\\u0440\\u0430\\u0441\\u0438\\u0432\\u044b\\u0435 \\u0438\\u00a0\\u0431\\u0435\\u0437\\u0443\\u043c\\u043d\\u043e \\u043f\\u0435\\u0447\\u0430\\u043b\\u044c\\u043d\\u044b\\u0435 \\u00ab\\u0433\\u0440\\u0435\\u0437\\u044b\\u00bb \\u043e\\u00a0\\u0432\\u043e\\u0441\\u0441\\u043e\\u0435\\u0434\\u0438\\u043d\\u0435\\u043d\\u0438\\u0438 \\u0441\\u00a0\\u0443\\u0431\\u0438\\u0442\\u044b\\u043c\\u0438 \\u0436\\u0435\\u043d\\u043e\\u0439 \\u0438\\u00a0\\u0441\\u044b\\u043d\\u043e\\u043c. \\n\\n\\u0418\\u0442\\u043e\\u0433\\u00a0\\u2014\\u00a0\\u0444\\u0438\\u043b\\u044c\\u043c \\u0437\\u0430\\u043c\\u0435\\u0447\\u0430\\u0442\\u0435\\u043b\\u044c\\u043d\\u044b\\u0439, \\u0437\\u0440\\u0435\\u043b\\u0438\\u0449\\u043d\\u044b\\u0439 \\u0438\\u00a0\\u043f\\u0440\\u043e\\u0441\\u0442\\u043e \\u043a\\u0440\\u0430\\u0441\\u0438\\u0432\\u044b\\u0439. \\u0412\\u00a0\\u043d\\u0435\\u043c \\u0435\\u0441\\u0442\\u044c \\u043f\\u0430\\u0442\\u0435\\u0442\\u0438\\u043a\\u0430, \\u043b\\u044e\\u0431\\u043e\\u0432\\u044c \\u0438\\u00a0\\u043d\\u0435\\u043d\\u0430\\u0432\\u0438\\u0441\\u0442\\u044c, \\u0435\\u0441\\u0442\\u044c \\u0436\\u0438\\u0437\\u043d\\u044c.\",\n          \"\\n\\u0412\\u0435\\u043b\\u0438\\u043a\\u043e\\u043b\\u0435\\u043f\\u043d\\u044b\\u0439 \\u0444\\u0438\\u043b\\u044c\\u043c \\u0438\\u00a0\\u043d\\u0435 \\u043c\\u0435\\u043d\\u0435\\u0435 \\u0437\\u0430\\u043c\\u0435\\u0447\\u0430\\u0442\\u0435\\u043b\\u044c\\u043d\\u044b\\u0439 \\u0422\\u0438\\u043c\\u00a0\\u0420\\u043e\\u0442.\\n\\n\\u0424\\u0438\\u043b\\u044c\\u043c \\u043f\\u0440\\u043e\\u0438\\u0437\\u0432\\u0435\\u043b \\u043d\\u0430\\u00a0\\u043c\\u0435\\u043d\\u044f \\u043e\\u0433\\u0440\\u043e\\u043c\\u043d\\u043e\\u0435 \\u0432\\u043f\\u0435\\u0447\\u0430\\u0442\\u043b\\u0435\\u043d\\u0438\\u0435 \\u0441\\u0432\\u043e\\u0438\\u043c \\u0441\\u044e\\u0436\\u0435\\u0442\\u043e\\u043c, \\u043a\\u043e\\u0442\\u043e\\u0440\\u044b\\u0439 \\u0437\\u0430\\u0441\\u0442\\u0430\\u0432\\u043b\\u044f\\u0435\\u0442 \\u0437\\u0430\\u0434\\u0443\\u043c\\u0430\\u0442\\u044c\\u0441\\u044f \\u043e\\u00a0\\u0436\\u0438\\u0437\\u043d\\u0438 \\u0432\\u00a0\\u0446\\u0435\\u043b\\u043e\\u043c \\u0438\\u00a0\\u043c\\u043d\\u043e\\u0433\\u043e\\u0435 \\u043f\\u0435\\u0440\\u0435\\u043e\\u0441\\u043c\\u044b\\u0441\\u043b\\u0438\\u0442\\u044c, \\u0438\\u0433\\u0440\\u043e\\u0439 \\u0430\\u043a\\u0442\\u0435\\u0440\\u043e\\u0432, \\u043e\\u0441\\u043e\\u0431\\u0435\\u043d\\u043d\\u043e \\u0438\\u0433\\u0440\\u0430 \\u0422\\u0438\\u043c\\u0430 \\u0420\\u043e\\u0442\\u0430, \\u043a\\u043e\\u0442\\u043e\\u0440\\u044b\\u0439 \\u043d\\u0430\\u0441\\u0442\\u043e\\u043b\\u044c\\u043a\\u043e \\u043f\\u043e\\u043b\\u043d\\u043e \\u043f\\u0435\\u0440\\u0435\\u0434\\u0430\\u043b \\u0432\\u0441\\u0435\\u00a0\\u0447\\u0443\\u0432\\u0441\\u0442\\u0432\\u0430 \\u0441\\u0432\\u043e\\u0435\\u0433\\u043e \\u0433\\u0435\\u0440\\u043e\\u044f, \\u043e\\u0442\\u043b\\u0438\\u0447\\u043d\\u043e\\u0439 \\u043c\\u0443\\u0437\\u044b\\u043a\\u043e\\u0439.\\n\\n\\u0420\\u0435\\u0434\\u043a\\u043e \\u043f\\u043e\\u043f\\u0430\\u0434\\u0430\\u044e\\u0442\\u0441\\u044f \\u0444\\u0438\\u043b\\u044c\\u043c\\u044b, \\u043a\\u043e\\u0442\\u043e\\u0440\\u044b\\u0435 \\u0447\\u0435\\u043c\\u0443-\\u0442\\u043e \\u043c\\u043e\\u0433\\u0443\\u0442 \\u0442\\u0435\\u0431\\u044f \\u043d\\u0430\\u0443\\u0447\\u0438\\u0442\\u044c \\u0438\\u043b\\u0438\\u00a0\\u0445\\u043e\\u0442\\u044f \\u0431\\u044b\\u00a0\\u0437\\u0430\\u0441\\u0442\\u0430\\u0432\\u0438\\u0442\\u044c \\u0434\\u0443\\u043c\\u0430\\u0442\\u044c \\u043e\\u00a0\\u0441\\u0435\\u0440\\u044c\\u0435\\u0437\\u043d\\u043e\\u043c.\\n\\n\\u041e\\u0442\\u0434\\u0435\\u043b\\u044c\\u043d\\u043e\\u0435 \\u0441\\u043f\\u0430\\u0441\\u0438\\u0431\\u043e \\u042d\\u043d\\u043d\\u0438\\u043e \\u041c\\u043e\\u0440\\u0440\\u0438\\u043a\\u043e\\u043d\\u0435!\"\n        ],\n        \"semantic_type\": \"\",\n        \"description\": \"\"\n      }\n    },\n    {\n      \"column\": \"grade3\",\n      \"properties\": {\n        \"dtype\": \"category\",\n        \"num_unique_values\": 3,\n        \"samples\": [\n          \"Good\",\n          \"Neutral\",\n          \"Bad\"\n        ],\n        \"semantic_type\": \"\",\n        \"description\": \"\"\n      }\n    },\n    {\n      \"column\": \"sen_enc\",\n      \"properties\": {\n        \"dtype\": \"number\",\n        \"std\": 0,\n        \"min\": 0,\n        \"max\": 2,\n        \"num_unique_values\": 3,\n        \"samples\": [\n          1,\n          2,\n          0\n        ],\n        \"semantic_type\": \"\",\n        \"description\": \"\"\n      }\n    }\n  ]\n}"
            }
          },
          "metadata": {},
          "execution_count": 38
        }
      ]
    },
    {
      "source": [
        "# @title grade3\n",
        "\n",
        "from matplotlib import pyplot as plt\n",
        "import seaborn as sns\n",
        "df_red.groupby('grade3').size().plot(kind='barh', color=sns.palettes.mpl_palette('Dark2'))\n",
        "plt.gca().spines[['top', 'right',]].set_visible(False)"
      ],
      "cell_type": "code",
      "execution_count": 39,
      "outputs": [
        {
          "output_type": "display_data",
          "data": {
            "text/plain": [
              "<Figure size 640x480 with 1 Axes>"
            ],
            "image/png": "[encoded data removed]"
          },
          "metadata": {}
        }
      ],
      "metadata": {
        "cellView": "form",
        "colab": {
          "base_uri": "https://localhost:8080/",
          "height": 430
        },
        "id": "HNy4KCRDoI-J",
        "outputId": "9b591e9c-22fb-435d-a2ca-9a17e61d3478"
      }
    },
    {
      "cell_type": "code",
      "source": [
        "# Filter out the extra data from the \"Good\" class to balance the dataset\n",
        "good_count = df_red['grade3'].value_counts()['Good']\n",
        "bad_count = df_red['grade3'].value_counts()['Bad']\n",
        "neutral_count = df_red['grade3'].value_counts()['Neutral']\n",
        "\n",
        "df_balanced = pd.concat([\n",
        "    df_red[df_red['grade3'] == 'Good'].sample(min(good_count, bad_count, neutral_count), random_state=42),\n",
        "    df_red[df_red['grade3'] == 'Bad'].sample(min(good_count, bad_count, neutral_count), random_state=42),\n",
        "    df_red[df_red['grade3'] == 'Neutral'].sample(min(good_count, bad_count, neutral_count), random_state=42)\n",
        "])\n",
        "\n",
        "# Shuffle the dataframe\n",
        "df_balanced = df_balanced.sample(frac=1, random_state=42).reset_index(drop=True)\n",
        "\n",
        "# Check the balanced distribution of grades in the new dataset\n",
        "df_balanced['grade3'].value_counts()"
      ],
      "metadata": {
        "colab": {
          "base_uri": "https://localhost:8080/"
        },
        "id": "y05RXnupppTM",
        "outputId": "66a1e8cb-0dfd-4752-9847-35b753c789f6"
      },
      "execution_count": 41,
      "outputs": [
        {
          "output_type": "execute_result",
          "data": {
            "text/plain": [
              "grade3\n",
              "Neutral    4576\n",
              "Good       4576\n",
              "Bad        4576\n",
              "Name: count, dtype: int64"
            ]
          },
          "metadata": {},
          "execution_count": 41
        }
      ]
    },
    {
      "cell_type": "code",
      "source": [
        "# rubert-tiny2:\n",
        "from transformers import AutoTokenizer, AutoModel\n",
        "\n",
        "## задаем саму модель\n",
        "model = AutoModel.from_pretrained(\"cointegrated/rubert-tiny2\")\n",
        "\n",
        "# токенайзер к ней (для некоторых моделей токенайзер будет отличаться, см.\n",
        "## в документации к каждой модели конкретно)\n",
        "tokenizer = AutoTokenizer.from_pretrained(\"cointegrated/rubert-tiny2\")"
      ],
      "metadata": {
        "id": "25-4A2i9nZWQ"
      },
      "execution_count": 42,
      "outputs": []
    },
    {
      "cell_type": "code",
      "source": [
        "model"
      ],
      "metadata": {
        "colab": {
          "base_uri": "https://localhost:8080/"
        },
        "id": "sd83a02Dnftf",
        "outputId": "417e3388-009f-47c9-bcb4-a934c9743cd4"
      },
      "execution_count": 43,
      "outputs": [
        {
          "output_type": "execute_result",
          "data": {
            "text/plain": [
              "BertModel(\n",
              "  (embeddings): BertEmbeddings(\n",
              "    (word_embeddings): Embedding(83828, 312, padding_idx=0)\n",
              "    (position_embeddings): Embedding(2048, 312)\n",
              "    (token_type_embeddings): Embedding(2, 312)\n",
              "    (LayerNorm): LayerNorm((312,), eps=1e-12, elementwise_affine=True)\n",
              "    (dropout): Dropout(p=0.1, inplace=False)\n",
              "  )\n",
              "  (encoder): BertEncoder(\n",
              "    (layer): ModuleList(\n",
              "      (0-2): 3 x BertLayer(\n",
              "        (attention): BertAttention(\n",
              "          (self): BertSelfAttention(\n",
              "            (query): Linear(in_features=312, out_features=312, bias=True)\n",
              "            (key): Linear(in_features=312, out_features=312, bias=True)\n",
              "            (value): Linear(in_features=312, out_features=312, bias=True)\n",
              "            (dropout): Dropout(p=0.1, inplace=False)\n",
              "          )\n",
              "          (output): BertSelfOutput(\n",
              "            (dense): Linear(in_features=312, out_features=312, bias=True)\n",
              "            (LayerNorm): LayerNorm((312,), eps=1e-12, elementwise_affine=True)\n",
              "            (dropout): Dropout(p=0.1, inplace=False)\n",
              "          )\n",
              "        )\n",
              "        (intermediate): BertIntermediate(\n",
              "          (dense): Linear(in_features=312, out_features=600, bias=True)\n",
              "          (intermediate_act_fn): GELUActivation()\n",
              "        )\n",
              "        (output): BertOutput(\n",
              "          (dense): Linear(in_features=600, out_features=312, bias=True)\n",
              "          (LayerNorm): LayerNorm((312,), eps=1e-12, elementwise_affine=True)\n",
              "          (dropout): Dropout(p=0.1, inplace=False)\n",
              "        )\n",
              "      )\n",
              "    )\n",
              "  )\n",
              "  (pooler): BertPooler(\n",
              "    (dense): Linear(in_features=312, out_features=312, bias=True)\n",
              "    (activation): Tanh()\n",
              "  )\n",
              ")"
            ]
          },
          "metadata": {},
          "execution_count": 43
        }
      ]
    },
    {
      "cell_type": "code",
      "source": [
        "MAX_LEN = 300\n",
        "tokenizer.encode(\n",
        "    'Привет как дела',\n",
        "    add_special_tokens=True,\n",
        "    truncation=True,\n",
        "    max_length=MAX_LEN,\n",
        "    # padding='max_length'\n",
        "    )"
      ],
      "metadata": {
        "colab": {
          "base_uri": "https://localhost:8080/"
        },
        "id": "65KKoTAwnjgn",
        "outputId": "8115bf5a-63ba-4326-e8e7-86f6f6db421f"
      },
      "execution_count": 56,
      "outputs": [
        {
          "output_type": "execute_result",
          "data": {
            "text/plain": [
              "[2, 51343, 1150, 7843, 3]"
            ]
          },
          "metadata": {},
          "execution_count": 56
        }
      ]
    },
    {
      "cell_type": "code",
      "source": [
        "tokenized = df_balanced['content'].apply((lambda x: tokenizer.encode(x,\n",
        "                                                                      add_special_tokens=True,\n",
        "                                                                      truncation=True,\n",
        "                                                                      max_length=MAX_LEN)))"
      ],
      "metadata": {
        "id": "1PgD7PXEnsXF"
      },
      "execution_count": 57,
      "outputs": []
    },
    {
      "cell_type": "code",
      "source": [
        "tokenized"
      ],
      "metadata": {
        "colab": {
          "base_uri": "https://localhost:8080/"
        },
        "id": "UCazP9YcqOhS",
        "outputId": "bba74b99-e9c2-44a1-c84b-f3e5181eb350"
      },
      "execution_count": 59,
      "outputs": [
        {
          "output_type": "execute_result",
          "data": {
            "text/plain": [
              "0        [2, 73455, 304, 12206, 9141, 10871, 4182, 2474...\n",
              "1        [2, 51023, 30929, 16, 20555, 33839, 8264, 1175...\n",
              "2        [2, 73603, 38292, 10208, 3869, 2225, 64665, 76...\n",
              "3        [2, 34571, 37861, 16, 1046, 745, 38110, 27100,...\n",
              "4        [2, 11451, 5880, 343, 38756, 30058, 8281, 735,...\n",
              "                               ...                        \n",
              "13723    [2, 3760, 17717, 745, 6249, 13276, 30416, 3628...\n",
              "13724    [2, 36492, 29454, 5557, 5880, 16, 343, 11677, ...\n",
              "13725    [2, 18013, 105, 286, 4292, 1358, 4292, 117, 16...\n",
              "13726    [2, 105, 37193, 117, 1, 5880, 4858, 16, 30310,...\n",
              "13727    [2, 76533, 75810, 5584, 53490, 1172, 626, 8604...\n",
              "Name: content, Length: 13728, dtype: object"
            ]
          },
          "metadata": {},
          "execution_count": 59
        }
      ]
    },
    {
      "cell_type": "code",
      "source": [
        "for i in tokenized.values[:10]:\n",
        "    print(len(i), end=' ')"
      ],
      "metadata": {
        "colab": {
          "base_uri": "https://localhost:8080/"
        },
        "id": "gFO6AHdbqQB1",
        "outputId": "eac87d5a-ab10-43da-834e-10ddd2334861"
      },
      "execution_count": 60,
      "outputs": [
        {
          "output_type": "stream",
          "name": "stdout",
          "text": [
            "213 199 265 300 227 300 300 300 300 260 "
          ]
        }
      ]
    },
    {
      "cell_type": "code",
      "source": [
        "padded = np.array([i + [0]*(MAX_LEN-len(i)) for i in tokenized.values])"
      ],
      "metadata": {
        "id": "LSMviIS9q1iN"
      },
      "execution_count": 63,
      "outputs": []
    },
    {
      "cell_type": "code",
      "source": [
        "for i in padded[:10]:\n",
        "    print(len(i), end=' ')"
      ],
      "metadata": {
        "colab": {
          "base_uri": "https://localhost:8080/"
        },
        "id": "pd3nI3utq8gn",
        "outputId": "db0420bd-3a23-469e-a197-5a0b54d96d5f"
      },
      "execution_count": 64,
      "outputs": [
        {
          "output_type": "stream",
          "name": "stdout",
          "text": [
            "300 300 300 300 300 300 300 300 300 300 "
          ]
        }
      ]
    },
    {
      "cell_type": "code",
      "source": [
        "attention_mask = np.where(padded != 0, 1, 0)\n",
        "attention_mask[4]"
      ],
      "metadata": {
        "colab": {
          "base_uri": "https://localhost:8080/"
        },
        "id": "lfWrNkm3rMpe",
        "outputId": "46f2736b-a65e-4a00-d194-d31cee786b45"
      },
      "execution_count": 66,
      "outputs": [
        {
          "output_type": "execute_result",
          "data": {
            "text/plain": [
              "array([1, 1, 1, 1, 1, 1, 1, 1, 1, 1, 1, 1, 1, 1, 1, 1, 1, 1, 1, 1, 1, 1,\n",
              "       1, 1, 1, 1, 1, 1, 1, 1, 1, 1, 1, 1, 1, 1, 1, 1, 1, 1, 1, 1, 1, 1,\n",
              "       1, 1, 1, 1, 1, 1, 1, 1, 1, 1, 1, 1, 1, 1, 1, 1, 1, 1, 1, 1, 1, 1,\n",
              "       1, 1, 1, 1, 1, 1, 1, 1, 1, 1, 1, 1, 1, 1, 1, 1, 1, 1, 1, 1, 1, 1,\n",
              "       1, 1, 1, 1, 1, 1, 1, 1, 1, 1, 1, 1, 1, 1, 1, 1, 1, 1, 1, 1, 1, 1,\n",
              "       1, 1, 1, 1, 1, 1, 1, 1, 1, 1, 1, 1, 1, 1, 1, 1, 1, 1, 1, 1, 1, 1,\n",
              "       1, 1, 1, 1, 1, 1, 1, 1, 1, 1, 1, 1, 1, 1, 1, 1, 1, 1, 1, 1, 1, 1,\n",
              "       1, 1, 1, 1, 1, 1, 1, 1, 1, 1, 1, 1, 1, 1, 1, 1, 1, 1, 1, 1, 1, 1,\n",
              "       1, 1, 1, 1, 1, 1, 1, 1, 1, 1, 1, 1, 1, 1, 1, 1, 1, 1, 1, 1, 1, 1,\n",
              "       1, 1, 1, 1, 1, 1, 1, 1, 1, 1, 1, 1, 1, 1, 1, 1, 1, 1, 1, 1, 1, 1,\n",
              "       1, 1, 1, 1, 1, 1, 1, 0, 0, 0, 0, 0, 0, 0, 0, 0, 0, 0, 0, 0, 0, 0,\n",
              "       0, 0, 0, 0, 0, 0, 0, 0, 0, 0, 0, 0, 0, 0, 0, 0, 0, 0, 0, 0, 0, 0,\n",
              "       0, 0, 0, 0, 0, 0, 0, 0, 0, 0, 0, 0, 0, 0, 0, 0, 0, 0, 0, 0, 0, 0,\n",
              "       0, 0, 0, 0, 0, 0, 0, 0, 0, 0, 0, 0, 0, 0])"
            ]
          },
          "metadata": {},
          "execution_count": 66
        }
      ]
    },
    {
      "cell_type": "code",
      "source": [
        "class BertInputs(torch.utils.data.Dataset):\n",
        "    def __init__(self, tokenized_inputs, attention_masks):\n",
        "        super().__init__()\n",
        "        self.tokenized_inputs = tokenized_inputs\n",
        "        self.attention_masks = attention_masks\n",
        "\n",
        "    def __len__(self):\n",
        "        return self.tokenized_inputs.shape[0]\n",
        "\n",
        "    def __getitem__(self, idx):\n",
        "        ids = self.tokenized_inputs[idx]\n",
        "        ams = self.attention_masks[idx]\n",
        "\n",
        "        return ids, ams\n",
        "\n",
        "dataset = BertInputs(padded, attention_mask)"
      ],
      "metadata": {
        "id": "hhByzEUVrxzS"
      },
      "execution_count": 67,
      "outputs": []
    },
    {
      "cell_type": "code",
      "source": [
        "loader = torch.utils.data.DataLoader(dataset, batch_size=10, shuffle=False)\n",
        "sample_ids, sample_ams = next(iter(loader))\n",
        "print(sample_ids.shape, sample_ams.shape)"
      ],
      "metadata": {
        "colab": {
          "base_uri": "https://localhost:8080/"
        },
        "id": "BSt1PdGrtn96",
        "outputId": "9b28bd8e-f915-4034-a19e-c6a17fec3482"
      },
      "execution_count": 68,
      "outputs": [
        {
          "output_type": "stream",
          "name": "stdout",
          "text": [
            "torch.Size([10, 300]) torch.Size([10, 300])\n"
          ]
        }
      ]
    },
    {
      "cell_type": "code",
      "source": [
        "device = 'cuda' if torch.cuda.is_available() else 'cpu'\n",
        "print(device)"
      ],
      "metadata": {
        "colab": {
          "base_uri": "https://localhost:8080/"
        },
        "id": "fXW1l-qLt9H8",
        "outputId": "2e88c35f-f119-4b29-bcae-069f895cc377"
      },
      "execution_count": 70,
      "outputs": [
        {
          "output_type": "stream",
          "name": "stdout",
          "text": [
            "cpu\n"
          ]
        }
      ]
    },
    {
      "cell_type": "code",
      "source": [
        "model.to(device)"
      ],
      "metadata": {
        "id": "QJ1Kezantr1f"
      },
      "execution_count": null,
      "outputs": []
    },
    {
      "cell_type": "code",
      "source": [
        "%%time\n",
        "features = []\n",
        "for inputs, attention_masks in loader:\n",
        "# Получаем выход модели (нам оттуда нужно не все)\n",
        "    with torch.inference_mode():\n",
        "        last_hidden_states = model(inputs.cpu(), attention_mask=attention_masks.cpu())\n",
        "        vectors = last_hidden_states[0][:,0,:].cpu().numpy()\n",
        "    features.extend(vectors)\n",
        "len(features)"
      ],
      "metadata": {
        "colab": {
          "base_uri": "https://localhost:8080/"
        },
        "id": "qO_CMBlWt_Pl",
        "outputId": "f3b9b661-d887-4387-84ec-e40846aaf5e9"
      },
      "execution_count": 72,
      "outputs": [
        {
          "output_type": "stream",
          "name": "stdout",
          "text": [
            "CPU times: user 1h 27min 52s, sys: 32min 7s, total: 1h 59min 59s\n",
            "Wall time: 2min 33s\n"
          ]
        },
        {
          "output_type": "execute_result",
          "data": {
            "text/plain": [
              "13728"
            ]
          },
          "metadata": {},
          "execution_count": 72
        }
      ]
    },
    {
      "cell_type": "code",
      "source": [
        "# Прогоним тестовый батч\n",
        "with torch.inference_mode():\n",
        "    last_hs = model(sample_ids.cpu(), attention_mask=sample_ams.cpu())\n",
        "print(last_hs[0].shape)"
      ],
      "metadata": {
        "colab": {
          "base_uri": "https://localhost:8080/"
        },
        "id": "KF-Zs9rWu-jP",
        "outputId": "a644b6b9-6c17-430f-a914-f9bd20893841"
      },
      "execution_count": 73,
      "outputs": [
        {
          "output_type": "stream",
          "name": "stdout",
          "text": [
            "torch.Size([10, 300, 312])\n"
          ]
        }
      ]
    },
    {
      "cell_type": "code",
      "source": [
        "model_out_shape = last_hs[0].shape\n",
        "print(model_out_shape)\n",
        "print(f'{model_out_shape[0]} - число объектов,\\n \\\n",
        "{model_out_shape[1]} - длина каждой последовательности, \\n \\\n",
        "{model_out_shape[2]} - длина выходного вектора BERT для одного элемента последовательности')"
      ],
      "metadata": {
        "colab": {
          "base_uri": "https://localhost:8080/"
        },
        "id": "p9vnBT0_vFs4",
        "outputId": "107ce634-fdef-4459-c7c9-6b476eb45152"
      },
      "execution_count": 74,
      "outputs": [
        {
          "output_type": "stream",
          "name": "stdout",
          "text": [
            "torch.Size([10, 300, 312])\n",
            "10 - число объектов,\n",
            " 300 - длина каждой последовательности, \n",
            " 312 - длина выходного вектора BERT для одного элемента последовательности\n"
          ]
        }
      ]
    },
    {
      "cell_type": "code",
      "source": [
        "X_train, X_val, y_train, y_val = train_test_split(features, df_balanced['sen_enc'])\n",
        "print(f'Features shape: {len(X_train)}, Target shape: {len(y_train)}')"
      ],
      "metadata": {
        "colab": {
          "base_uri": "https://localhost:8080/"
        },
        "id": "rPt_jY9VvLCa",
        "outputId": "9026dd6e-554e-465e-96b9-db1b7428b982"
      },
      "execution_count": 79,
      "outputs": [
        {
          "output_type": "stream",
          "name": "stdout",
          "text": [
            "Features shape: 10296, Target shape: 10296\n"
          ]
        }
      ]
    },
    {
      "cell_type": "code",
      "source": [
        "df_balanced['sen_enc'].value_counts()/len(features)*100"
      ],
      "metadata": {
        "colab": {
          "base_uri": "https://localhost:8080/"
        },
        "id": "WkkWYJVavnxX",
        "outputId": "f348427e-a791-420e-ed6c-b90cf3db9045"
      },
      "execution_count": 80,
      "outputs": [
        {
          "output_type": "execute_result",
          "data": {
            "text/plain": [
              "sen_enc\n",
              "2    33.333333\n",
              "1    33.333333\n",
              "0    33.333333\n",
              "Name: count, dtype: float64"
            ]
          },
          "metadata": {},
          "execution_count": 80
        }
      ]
    },
    {
      "cell_type": "code",
      "source": [
        "!pip install catboost"
      ],
      "metadata": {
        "id": "fZI9IzBywWHL"
      },
      "execution_count": null,
      "outputs": []
    },
    {
      "cell_type": "code",
      "source": [
        "!pip install xgboost"
      ],
      "metadata": {
        "colab": {
          "base_uri": "https://localhost:8080/"
        },
        "id": "tJc7ZKGU1Gp6",
        "outputId": "2488c71d-9e0b-43e9-a82b-1c60a0f5deaa"
      },
      "execution_count": 93,
      "outputs": [
        {
          "output_type": "stream",
          "name": "stdout",
          "text": [
            "Collecting xgboost\n",
            "  Downloading xgboost-2.0.3-py3-none-manylinux2014_x86_64.whl (297.1 MB)\n",
            "\u001b[2K     \u001b[90m━━━━━━━━━━━━━━━━━━━━━━━━━━━━━━━━━━━━━━━━\u001b[0m \u001b[32m297.1/297.1 MB\u001b[0m \u001b[31m2.6 MB/s\u001b[0m eta \u001b[36m0:00:00\u001b[0m\n",
            "\u001b[?25hRequirement already satisfied: numpy in /usr/local/lib/python3.10/dist-packages (from xgboost) (1.25.2)\n",
            "Requirement already satisfied: scipy in /usr/local/lib/python3.10/dist-packages (from xgboost) (1.11.4)\n",
            "Installing collected packages: xgboost\n",
            "Successfully installed xgboost-2.0.3\n"
          ]
        }
      ]
    },
    {
      "cell_type": "code",
      "source": [
        "from sklearn.model_selection import train_test_split, GridSearchCV\n",
        "from sklearn.linear_model import LogisticRegression\n",
        "from sklearn.ensemble import RandomForestClassifier\n",
        "from xgboost import XGBClassifier\n",
        "from sklearn.svm import SVC\n",
        "from sklearn.metrics import accuracy_score"
      ],
      "metadata": {
        "id": "AnrgBw-r0eyK"
      },
      "execution_count": 94,
      "outputs": []
    },
    {
      "cell_type": "code",
      "source": [
        "# Define the models to be trained and the parameters to search for\n",
        "models = {\n",
        "    \"Logistic Regression\": LogisticRegression(),\n",
        "    \"Random Forest\": RandomForestClassifier(),\n",
        "    \"XGBoost\": XGBClassifier(),\n",
        "    \"SVM\": SVC()\n",
        "}\n",
        "\n",
        "param_grid = {\n",
        "    \"Logistic Regression\": {'C': [0.001, 0.01, 0.1, 1, 10], 'max_iter': [100, 200, 300]},\n",
        "    \"Random Forest\": {'n_estimators': [100, 200, 300], 'max_depth': [None, 10, 20, 30]},\n",
        "    \"XGBoost\": {'n_estimators': [100, 200, 300], 'max_depth': [3, 5, 7]},\n",
        "    \"SVM\": {'C': [0.1, 1, 10], 'kernel': ['linear', 'rbf']}\n",
        "}\n",
        "\n",
        "# Perform grid search for each model and select the best model\n",
        "best_model = None\n",
        "best_score = 0\n",
        "\n",
        "for name, model in models.items():\n",
        "    print(f\"Training {name}...\")\n",
        "    grid_search = GridSearchCV(estimator=model, param_grid=param_grid[name], n_jobs=-1, cv=5, scoring='accuracy')\n",
        "    grid_search.fit(X_train, y_train)\n",
        "\n",
        "    if grid_search.best_score_ > best_score:\n",
        "        best_model = grid_search.best_estimator_\n",
        "        best_score = grid_search.best_score_\n",
        "\n",
        "# Train the best model on the full training data\n",
        "best_model.fit(X_train, y_train)\n",
        "\n",
        "# Evaluate the model on the validation data\n",
        "predictions = best_model.predict(X_val)\n",
        "accuracy = accuracy_score(y_val, predictions)\n",
        "print(f\"Best Model: {best_model}\")\n",
        "print(f\"Validation Accuracy: {accuracy}\")"
      ],
      "metadata": {
        "colab": {
          "base_uri": "https://localhost:8080/"
        },
        "id": "Khon_zPLv5Z0",
        "outputId": "a9093f83-8caf-42c7-f160-f1926e5c4acb"
      },
      "execution_count": 95,
      "outputs": [
        {
          "output_type": "stream",
          "name": "stdout",
          "text": [
            "Training Logistic Regression...\n",
            "Training Random Forest...\n",
            "Training XGBoost...\n",
            "Training SVM...\n",
            "Best Model: LogisticRegression(C=0.1, max_iter=300)\n",
            "Validation Accuracy: 0.6215034965034965\n"
          ]
        }
      ]
    },
    {
      "cell_type": "code",
      "source": [
        "import random\n",
        "\n",
        "# Select a random index\n",
        "index = random.randint(0, len(df_balanced)-1)\n",
        "\n",
        "# Get the random review content, predicted sentiment label, and actual sentiment label\n",
        "review_content = df_balanced['content'][index]\n",
        "actual_sentiment = df_balanced['grade3'][index]\n",
        "predicted_sentiment = best_model.predict([features[index]])\n",
        "\n",
        "print(\"Random Review Content:\")\n",
        "print(review_content)\n",
        "print(\"\\nActual Sentiment:\", actual_sentiment)\n",
        "print(\"Predicted Sentiment:\", predicted_sentiment)"
      ],
      "metadata": {
        "colab": {
          "base_uri": "https://localhost:8080/"
        },
        "id": "Lt6fZx3W4cNp",
        "outputId": "08f9e0cc-baeb-4a9c-e038-d8244b637bb4"
      },
      "execution_count": 118,
      "outputs": [
        {
          "output_type": "stream",
          "name": "stdout",
          "text": [
            "Random Review Content:\n",
            "\n",
            "«Мистер Шерлок Холмс». Разве идет к этому разудалому боксеру и покорителю сердца красотки это имя? Не думаю. \n",
            "\n",
            "Все отмечают замечательные составляющие фильма: игра актеров заслуживает всяческих похвал, спецэффекты и декорации, музыка и диалоги. Но, где же мистер Холмс? Его нет. Его подменили. И вместе с ним нет притягательности, загадочности и наслаждения вкусом.\n",
            "\n",
            "Так что в данном случчае Холмс — это просто хороший бренд. Как огромный ромбик «Липтона» над Домом художника.\n",
            "\n",
            "Так что если вам не нужен старый добрый Холмс, то можете помотреть про нового. \n",
            "\n",
            "Хорошее добротное кино для семейного просмотра, но скорее всего единократного. Хотя… бренд может сработать и новый Холмс даст дорогу старому, который где-то спрятался.\n",
            "\n",
            "7 из 10\n",
            "\n",
            "Actual Sentiment: Neutral\n",
            "Predicted Sentiment: [1]\n"
          ]
        }
      ]
    },
    {
      "cell_type": "code",
      "source": [
        "model_path = 'best_model.pth'\n",
        "torch.save(best_model, model_path)\n",
        "\n",
        "print(f\"Model saved at: {model_path}\")"
      ],
      "metadata": {
        "colab": {
          "base_uri": "https://localhost:8080/"
        },
        "id": "L18uQFIXIB7z",
        "outputId": "df6e998d-8c1e-4677-96fe-d22ef8625f39"
      },
      "execution_count": 147,
      "outputs": [
        {
          "output_type": "stream",
          "name": "stdout",
          "text": [
            "Model saved at: best_model.pth\n"
          ]
        }
      ]
    }
  ]
}